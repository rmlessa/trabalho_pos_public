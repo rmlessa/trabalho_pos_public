{
  "nbformat": 4,
  "nbformat_minor": 0,
  "metadata": {
    "kernelspec": {
      "display_name": "Python 3",
      "language": "python",
      "name": "python3"
    },
    "language_info": {
      "codemirror_mode": {
        "name": "ipython",
        "version": 3
      },
      "file_extension": ".py",
      "mimetype": "text/x-python",
      "name": "python",
      "nbconvert_exporter": "python",
      "pygments_lexer": "ipython3",
      "version": "3.8.5"
    },
    "colab": {
      "name": "trabalho_final_into_ml.ipynb",
      "provenance": []
    }
  },
  "cells": [
    {
      "cell_type": "code",
      "metadata": {
        "id": "si9j0b3laig4"
      },
      "source": [
        "import pandas as pd\n",
        "import matplotlib.pyplot as plt\n",
        "import seaborn as sb\n",
        "import numpy as np"
      ],
      "execution_count": 90,
      "outputs": []
    },
    {
      "cell_type": "code",
      "metadata": {
        "id": "PfQx-zujaig-"
      },
      "source": [
        "#dados_doadores = pd.DataFrame(pd.read_csv('C:/Users/renato.lessa/OneDrive - PRODAM Office 365/03 - Pessoal/02 - PÓS GRADUAÇÃO/08 - Intro Machine Learnig/dataset_brutão_doadores.CSV',encoding='latin-1' ,sep=';', error_bad_lines=False))\n",
        "dados_doadores = pd.DataFrame(pd.read_csv('/content/dataset_brutão_doadores.csv', encoding='latin-1' ,sep=';', error_bad_lines=False))"
      ],
      "execution_count": 91,
      "outputs": []
    },
    {
      "cell_type": "code",
      "metadata": {
        "colab": {
          "base_uri": "https://localhost:8080/"
        },
        "id": "t5qY7EwTaig_",
        "outputId": "6548cab5-fc47-4201-97b1-9edbe0818c71"
      },
      "source": [
        "dados_doadores.shape"
      ],
      "execution_count": 92,
      "outputs": [
        {
          "output_type": "execute_result",
          "data": {
            "text/plain": [
              "(235952, 28)"
            ]
          },
          "metadata": {
            "tags": []
          },
          "execution_count": 92
        }
      ]
    },
    {
      "cell_type": "code",
      "metadata": {
        "colab": {
          "base_uri": "https://localhost:8080/"
        },
        "id": "rfectAVxaihB",
        "outputId": "243753f0-6782-4f75-e1bf-30bf1df31b32"
      },
      "source": [
        "dados_doadores.info()"
      ],
      "execution_count": 93,
      "outputs": [
        {
          "output_type": "stream",
          "text": [
            "<class 'pandas.core.frame.DataFrame'>\n",
            "RangeIndex: 235952 entries, 0 to 235951\n",
            "Data columns (total 28 columns):\n",
            " #   Column                     Non-Null Count   Dtype \n",
            "---  ------                     --------------   ----- \n",
            " 0   PACIENTE                   235952 non-null  int64 \n",
            " 1   DATA                       235952 non-null  object\n",
            " 2   IDADE                      235952 non-null  int64 \n",
            " 3   SEXO                       235952 non-null  object\n",
            " 4   ESTADO_CIVIL               235952 non-null  object\n",
            " 5   ESCOLARIDADE               235952 non-null  object\n",
            " 6   VINCULO_EMPREGATICIO       235952 non-null  object\n",
            " 7   MOTIVO                     235952 non-null  object\n",
            " 8   MOTIVACAO                  235952 non-null  object\n",
            " 9   FREQUENCIA DA DOACAO       235952 non-null  object\n",
            " 10  TIPO_DOACAO                235926 non-null  object\n",
            " 11  TIPAGEM                    235952 non-null  object\n",
            " 12  VOTO DE AUTO EXCLUSÃO      235952 non-null  object\n",
            " 13  DESCARTE CONFIDENCIAL      235952 non-null  object\n",
            " 14  REAÇÕES ADVERSAS A DOACÃO  235952 non-null  object\n",
            " 15  TRIAGEM_CLÍNICA            235952 non-null  object\n",
            " 16  TRIAGEM_HEMATO             235952 non-null  object\n",
            " 17  INAPTIDÃO_SOROLÓGICA       235952 non-null  object\n",
            " 18  MOTIVO_INAPTIDAO           235952 non-null  object\n",
            " 19  TIPO_DE_INAPTIDÃO          235906 non-null  object\n",
            " 20  BOLSA_COLETADA             235906 non-null  object\n",
            " 21  AFERESE                    235906 non-null  object\n",
            " 22  LOCAL_DA_COLETA            235880 non-null  object\n",
            " 23  LOCAL_DA_COLETA_EXTERNA    49999 non-null   object\n",
            " 24  LOGRADOURO                 231776 non-null  object\n",
            " 25  COMPLEMENTO                186404 non-null  object\n",
            " 26  BAIRRO                     197960 non-null  object\n",
            " 27  CEP                        228842 non-null  object\n",
            "dtypes: int64(2), object(26)\n",
            "memory usage: 50.4+ MB\n"
          ],
          "name": "stdout"
        }
      ]
    },
    {
      "cell_type": "code",
      "metadata": {
        "id": "SdG9UMYTaihC"
      },
      "source": [
        "#Afim de manter a maior confidencialidade possível vamos remover as colunas cep, logradouro, bairro e complemento\n",
        "dados_doadores = dados_doadores.drop(columns=['LOGRADOURO', 'CEP', 'COMPLEMENTO', 'BAIRRO'])"
      ],
      "execution_count": 94,
      "outputs": []
    },
    {
      "cell_type": "code",
      "metadata": {
        "id": "9FCNlIx0aihD"
      },
      "source": [
        "#retirar colunas que necessitam de um trabalho maior de mapeamento e limpeza dos dados\n",
        "dados_doadores = dados_doadores.drop(columns=['MOTIVO_INAPTIDAO', 'VINCULO_EMPREGATICIO', 'MOTIVACAO'])"
      ],
      "execution_count": 95,
      "outputs": []
    },
    {
      "cell_type": "code",
      "metadata": {
        "id": "JNOCN1ThaihJ"
      },
      "source": [
        "#retirar os dados do interior do estado, pois a análise irá se restringir ao hemocentro coordenador do estado\n",
        "dados_doadores.drop(dados_doadores.loc[dados_doadores['LOCAL_DA_COLETA_EXTERNA']=='INTERIOR'].index, inplace=True)"
      ],
      "execution_count": 96,
      "outputs": []
    },
    {
      "cell_type": "code",
      "metadata": {
        "colab": {
          "base_uri": "https://localhost:8080/"
        },
        "id": "sp8MzaZ-aihK",
        "outputId": "acf5ec96-e908-45a7-c024-464513b62ff9"
      },
      "source": [
        "dados_doadores.shape"
      ],
      "execution_count": 97,
      "outputs": [
        {
          "output_type": "execute_result",
          "data": {
            "text/plain": [
              "(225413, 21)"
            ]
          },
          "metadata": {
            "tags": []
          },
          "execution_count": 97
        }
      ]
    },
    {
      "cell_type": "code",
      "metadata": {
        "scrolled": true,
        "colab": {
          "base_uri": "https://localhost:8080/",
          "height": 333
        },
        "id": "jtVKYtrKaihL",
        "outputId": "96dc3cbf-b240-4411-dfdb-64dd518aaa80"
      },
      "source": [
        "dados_doadores.head()"
      ],
      "execution_count": 98,
      "outputs": [
        {
          "output_type": "execute_result",
          "data": {
            "text/html": [
              "<div>\n",
              "<style scoped>\n",
              "    .dataframe tbody tr th:only-of-type {\n",
              "        vertical-align: middle;\n",
              "    }\n",
              "\n",
              "    .dataframe tbody tr th {\n",
              "        vertical-align: top;\n",
              "    }\n",
              "\n",
              "    .dataframe thead th {\n",
              "        text-align: right;\n",
              "    }\n",
              "</style>\n",
              "<table border=\"1\" class=\"dataframe\">\n",
              "  <thead>\n",
              "    <tr style=\"text-align: right;\">\n",
              "      <th></th>\n",
              "      <th>PACIENTE</th>\n",
              "      <th>DATA</th>\n",
              "      <th>IDADE</th>\n",
              "      <th>SEXO</th>\n",
              "      <th>ESTADO_CIVIL</th>\n",
              "      <th>ESCOLARIDADE</th>\n",
              "      <th>MOTIVO</th>\n",
              "      <th>FREQUENCIA DA DOACAO</th>\n",
              "      <th>TIPO_DOACAO</th>\n",
              "      <th>TIPAGEM</th>\n",
              "      <th>VOTO DE AUTO EXCLUSÃO</th>\n",
              "      <th>DESCARTE CONFIDENCIAL</th>\n",
              "      <th>REAÇÕES ADVERSAS A DOACÃO</th>\n",
              "      <th>TRIAGEM_CLÍNICA</th>\n",
              "      <th>TRIAGEM_HEMATO</th>\n",
              "      <th>INAPTIDÃO_SOROLÓGICA</th>\n",
              "      <th>TIPO_DE_INAPTIDÃO</th>\n",
              "      <th>BOLSA_COLETADA</th>\n",
              "      <th>AFERESE</th>\n",
              "      <th>LOCAL_DA_COLETA</th>\n",
              "      <th>LOCAL_DA_COLETA_EXTERNA</th>\n",
              "    </tr>\n",
              "  </thead>\n",
              "  <tbody>\n",
              "    <tr>\n",
              "      <th>0</th>\n",
              "      <td>335741</td>\n",
              "      <td>02/01/2017</td>\n",
              "      <td>62</td>\n",
              "      <td>Masculino</td>\n",
              "      <td>Casado</td>\n",
              "      <td>ENSINO MEDIO</td>\n",
              "      <td>Não Voluntário</td>\n",
              "      <td>Retorno</td>\n",
              "      <td>Dirigida</td>\n",
              "      <td>O+</td>\n",
              "      <td>NÃO</td>\n",
              "      <td>NÃO</td>\n",
              "      <td>NÃO</td>\n",
              "      <td>APTO</td>\n",
              "      <td>APTO</td>\n",
              "      <td>NÂO</td>\n",
              "      <td>-</td>\n",
              "      <td>SIM</td>\n",
              "      <td>NÃO</td>\n",
              "      <td>HEMOAM</td>\n",
              "      <td>NaN</td>\n",
              "    </tr>\n",
              "    <tr>\n",
              "      <th>1</th>\n",
              "      <td>14203</td>\n",
              "      <td>02/01/2017</td>\n",
              "      <td>45</td>\n",
              "      <td>Masculino</td>\n",
              "      <td>Solteiro</td>\n",
              "      <td>ENSINO MEDIO</td>\n",
              "      <td>Não Voluntário</td>\n",
              "      <td>Retorno</td>\n",
              "      <td>Agendada</td>\n",
              "      <td>O+</td>\n",
              "      <td>NÃO</td>\n",
              "      <td>NÃO</td>\n",
              "      <td>NÃO</td>\n",
              "      <td>APTO</td>\n",
              "      <td>APTO</td>\n",
              "      <td>NÂO</td>\n",
              "      <td>-</td>\n",
              "      <td>SIM</td>\n",
              "      <td>NÃO</td>\n",
              "      <td>HEMOAM</td>\n",
              "      <td>NaN</td>\n",
              "    </tr>\n",
              "    <tr>\n",
              "      <th>2</th>\n",
              "      <td>90149</td>\n",
              "      <td>02/01/2017</td>\n",
              "      <td>36</td>\n",
              "      <td>Masculino</td>\n",
              "      <td>Casado</td>\n",
              "      <td>ENSINO MEDIO</td>\n",
              "      <td>Não Voluntário</td>\n",
              "      <td>Retorno</td>\n",
              "      <td>Agendada</td>\n",
              "      <td>O+</td>\n",
              "      <td>NÃO</td>\n",
              "      <td>NÃO</td>\n",
              "      <td>NÃO</td>\n",
              "      <td>APTO</td>\n",
              "      <td>APTO</td>\n",
              "      <td>NÂO</td>\n",
              "      <td>-</td>\n",
              "      <td>SIM</td>\n",
              "      <td>NÃO</td>\n",
              "      <td>HEMOAM</td>\n",
              "      <td>NaN</td>\n",
              "    </tr>\n",
              "    <tr>\n",
              "      <th>3</th>\n",
              "      <td>578016</td>\n",
              "      <td>02/01/2017</td>\n",
              "      <td>23</td>\n",
              "      <td>Feminino</td>\n",
              "      <td>Solteiro</td>\n",
              "      <td>SUPERIOR INCOMPLETO</td>\n",
              "      <td>Volutário</td>\n",
              "      <td>Retorno</td>\n",
              "      <td>Voluntária</td>\n",
              "      <td>SEM TIPAGEM</td>\n",
              "      <td>NÃO</td>\n",
              "      <td>NÃO</td>\n",
              "      <td>NÃO</td>\n",
              "      <td>INAPTO</td>\n",
              "      <td>INAPTO</td>\n",
              "      <td>SEM CONDUTA</td>\n",
              "      <td>Provisória</td>\n",
              "      <td>NÃO</td>\n",
              "      <td>NÃO</td>\n",
              "      <td>HEMOAM</td>\n",
              "      <td>NaN</td>\n",
              "    </tr>\n",
              "    <tr>\n",
              "      <th>4</th>\n",
              "      <td>58767</td>\n",
              "      <td>02/01/2017</td>\n",
              "      <td>47</td>\n",
              "      <td>Masculino</td>\n",
              "      <td>Casado</td>\n",
              "      <td>ENSINO MEDIO</td>\n",
              "      <td>Volutário</td>\n",
              "      <td>Retorno</td>\n",
              "      <td>Voluntária</td>\n",
              "      <td>A+</td>\n",
              "      <td>NÃO</td>\n",
              "      <td>NÃO</td>\n",
              "      <td>NÃO</td>\n",
              "      <td>INAPTO</td>\n",
              "      <td>APTO</td>\n",
              "      <td>SEM CONDUTA</td>\n",
              "      <td>Provisória</td>\n",
              "      <td>NÃO</td>\n",
              "      <td>NÃO</td>\n",
              "      <td>HEMOAM</td>\n",
              "      <td>NaN</td>\n",
              "    </tr>\n",
              "  </tbody>\n",
              "</table>\n",
              "</div>"
            ],
            "text/plain": [
              "   PACIENTE        DATA  IDADE  ... AFERESE LOCAL_DA_COLETA LOCAL_DA_COLETA_EXTERNA\n",
              "0    335741  02/01/2017     62  ...     NÃO          HEMOAM                     NaN\n",
              "1     14203  02/01/2017     45  ...     NÃO          HEMOAM                     NaN\n",
              "2     90149  02/01/2017     36  ...     NÃO          HEMOAM                     NaN\n",
              "3    578016  02/01/2017     23  ...     NÃO          HEMOAM                     NaN\n",
              "4     58767  02/01/2017     47  ...     NÃO          HEMOAM                     NaN\n",
              "\n",
              "[5 rows x 21 columns]"
            ]
          },
          "metadata": {
            "tags": []
          },
          "execution_count": 98
        }
      ]
    },
    {
      "cell_type": "code",
      "metadata": {
        "id": "ZMdpRBzRaihM"
      },
      "source": [
        "#como o interesse é em doadores da capital, onde está o hemocentro coordenador, \n",
        "#não interessa tanto saber onde ocorreu e se ocorreu coleta externa, portanto, vamos excluir tbm as colunas LOCAL_DA_COLETA e LOCAL_DA_COLETA_EXTERNA \n",
        "dados_doadores = dados_doadores.drop(columns=['LOCAL_DA_COLETA', 'LOCAL_DA_COLETA_EXTERNA'])"
      ],
      "execution_count": 99,
      "outputs": []
    },
    {
      "cell_type": "code",
      "metadata": {
        "colab": {
          "base_uri": "https://localhost:8080/"
        },
        "id": "j58i8yGlaihN",
        "outputId": "f7f5e928-964a-4974-b3cb-fec6296c7bb4"
      },
      "source": [
        "dados_doadores.shape"
      ],
      "execution_count": 100,
      "outputs": [
        {
          "output_type": "execute_result",
          "data": {
            "text/plain": [
              "(225413, 19)"
            ]
          },
          "metadata": {
            "tags": []
          },
          "execution_count": 100
        }
      ]
    },
    {
      "cell_type": "code",
      "metadata": {
        "scrolled": true,
        "colab": {
          "base_uri": "https://localhost:8080/",
          "height": 721
        },
        "id": "2qj2R8GaaihO",
        "outputId": "741fc852-2664-40d3-df1a-e99261c00952"
      },
      "source": [
        "#vamos verificar se há situações que podem ter sido falha de inclusão de registros, como bolsas geradas com doadores inaptos na triagem clínica ou hematológica\n",
        "\n",
        "#ERRO 1 = INAPTO NA TRIAGEM CLÍNICA E BOLSA COLETADA\n",
        "dados_doadores.loc[(dados_doadores['TRIAGEM_CLÍNICA']=='INAPTO') & (dados_doadores['BOLSA_COLETADA']=='SIM')]\n",
        "# 155 LINHAS ENCONTRADAS"
      ],
      "execution_count": 101,
      "outputs": [
        {
          "output_type": "execute_result",
          "data": {
            "text/html": [
              "<div>\n",
              "<style scoped>\n",
              "    .dataframe tbody tr th:only-of-type {\n",
              "        vertical-align: middle;\n",
              "    }\n",
              "\n",
              "    .dataframe tbody tr th {\n",
              "        vertical-align: top;\n",
              "    }\n",
              "\n",
              "    .dataframe thead th {\n",
              "        text-align: right;\n",
              "    }\n",
              "</style>\n",
              "<table border=\"1\" class=\"dataframe\">\n",
              "  <thead>\n",
              "    <tr style=\"text-align: right;\">\n",
              "      <th></th>\n",
              "      <th>PACIENTE</th>\n",
              "      <th>DATA</th>\n",
              "      <th>IDADE</th>\n",
              "      <th>SEXO</th>\n",
              "      <th>ESTADO_CIVIL</th>\n",
              "      <th>ESCOLARIDADE</th>\n",
              "      <th>MOTIVO</th>\n",
              "      <th>FREQUENCIA DA DOACAO</th>\n",
              "      <th>TIPO_DOACAO</th>\n",
              "      <th>TIPAGEM</th>\n",
              "      <th>VOTO DE AUTO EXCLUSÃO</th>\n",
              "      <th>DESCARTE CONFIDENCIAL</th>\n",
              "      <th>REAÇÕES ADVERSAS A DOACÃO</th>\n",
              "      <th>TRIAGEM_CLÍNICA</th>\n",
              "      <th>TRIAGEM_HEMATO</th>\n",
              "      <th>INAPTIDÃO_SOROLÓGICA</th>\n",
              "      <th>TIPO_DE_INAPTIDÃO</th>\n",
              "      <th>BOLSA_COLETADA</th>\n",
              "      <th>AFERESE</th>\n",
              "    </tr>\n",
              "  </thead>\n",
              "  <tbody>\n",
              "    <tr>\n",
              "      <th>1845</th>\n",
              "      <td>578500</td>\n",
              "      <td>10/01/2017</td>\n",
              "      <td>37</td>\n",
              "      <td>Feminino</td>\n",
              "      <td>União Estável</td>\n",
              "      <td>POS-GRADUADO</td>\n",
              "      <td>Não Voluntário</td>\n",
              "      <td>Primeira Vez</td>\n",
              "      <td>Dirigida</td>\n",
              "      <td>SEM TIPAGEM</td>\n",
              "      <td>NÃO</td>\n",
              "      <td>NÃO</td>\n",
              "      <td>DIFICIL ACESSO VENOSO - SEM AMOSTRAS</td>\n",
              "      <td>INAPTO</td>\n",
              "      <td>APTO</td>\n",
              "      <td>SEM CONDUTA</td>\n",
              "      <td>Provisória</td>\n",
              "      <td>SIM</td>\n",
              "      <td>NÃO</td>\n",
              "    </tr>\n",
              "    <tr>\n",
              "      <th>1997</th>\n",
              "      <td>578758</td>\n",
              "      <td>11/01/2017</td>\n",
              "      <td>20</td>\n",
              "      <td>Feminino</td>\n",
              "      <td>Solteiro</td>\n",
              "      <td>ENSINO MEDIO</td>\n",
              "      <td>Não Voluntário</td>\n",
              "      <td>Primeira Vez</td>\n",
              "      <td>Dirigida</td>\n",
              "      <td>O+</td>\n",
              "      <td>NÃO</td>\n",
              "      <td>NÃO</td>\n",
              "      <td>NÃO</td>\n",
              "      <td>INAPTO</td>\n",
              "      <td>APTO</td>\n",
              "      <td>NÂO</td>\n",
              "      <td>Definitiva</td>\n",
              "      <td>SIM</td>\n",
              "      <td>NÃO</td>\n",
              "    </tr>\n",
              "    <tr>\n",
              "      <th>3214</th>\n",
              "      <td>579377</td>\n",
              "      <td>18/01/2017</td>\n",
              "      <td>25</td>\n",
              "      <td>Feminino</td>\n",
              "      <td>Casado</td>\n",
              "      <td>SUPERIOR COMPLETO</td>\n",
              "      <td>Não Voluntário</td>\n",
              "      <td>Primeira Vez</td>\n",
              "      <td>Dirigida</td>\n",
              "      <td>SEM TIPAGEM</td>\n",
              "      <td>NÃO</td>\n",
              "      <td>NÃO</td>\n",
              "      <td>NÃO</td>\n",
              "      <td>INAPTO</td>\n",
              "      <td>APTO</td>\n",
              "      <td>SEM CONDUTA</td>\n",
              "      <td>Provisória</td>\n",
              "      <td>SIM</td>\n",
              "      <td>NÃO</td>\n",
              "    </tr>\n",
              "    <tr>\n",
              "      <th>3882</th>\n",
              "      <td>579631</td>\n",
              "      <td>20/01/2017</td>\n",
              "      <td>20</td>\n",
              "      <td>Masculino</td>\n",
              "      <td>Casado</td>\n",
              "      <td>SUPERIOR INCOMPLETO</td>\n",
              "      <td>Não Voluntário</td>\n",
              "      <td>Primeira Vez</td>\n",
              "      <td>Dirigida</td>\n",
              "      <td>O+</td>\n",
              "      <td>NÃO</td>\n",
              "      <td>NÃO</td>\n",
              "      <td>CONVULSAO</td>\n",
              "      <td>INAPTO</td>\n",
              "      <td>APTO</td>\n",
              "      <td>NÂO</td>\n",
              "      <td>Definitiva</td>\n",
              "      <td>SIM</td>\n",
              "      <td>NÃO</td>\n",
              "    </tr>\n",
              "    <tr>\n",
              "      <th>3924</th>\n",
              "      <td>88678</td>\n",
              "      <td>20/01/2017</td>\n",
              "      <td>50</td>\n",
              "      <td>Masculino</td>\n",
              "      <td>Casado</td>\n",
              "      <td>ENSINO MEDIO</td>\n",
              "      <td>Não Voluntário</td>\n",
              "      <td>Retorno</td>\n",
              "      <td>Dirigida</td>\n",
              "      <td>O+</td>\n",
              "      <td>NÃO</td>\n",
              "      <td>NÃO</td>\n",
              "      <td>NÃO</td>\n",
              "      <td>INAPTO</td>\n",
              "      <td>APTO</td>\n",
              "      <td>SEM CONDUTA</td>\n",
              "      <td>Provisória</td>\n",
              "      <td>SIM</td>\n",
              "      <td>NÃO</td>\n",
              "    </tr>\n",
              "    <tr>\n",
              "      <th>...</th>\n",
              "      <td>...</td>\n",
              "      <td>...</td>\n",
              "      <td>...</td>\n",
              "      <td>...</td>\n",
              "      <td>...</td>\n",
              "      <td>...</td>\n",
              "      <td>...</td>\n",
              "      <td>...</td>\n",
              "      <td>...</td>\n",
              "      <td>...</td>\n",
              "      <td>...</td>\n",
              "      <td>...</td>\n",
              "      <td>...</td>\n",
              "      <td>...</td>\n",
              "      <td>...</td>\n",
              "      <td>...</td>\n",
              "      <td>...</td>\n",
              "      <td>...</td>\n",
              "      <td>...</td>\n",
              "    </tr>\n",
              "    <tr>\n",
              "      <th>230916</th>\n",
              "      <td>570439</td>\n",
              "      <td>03/12/2019</td>\n",
              "      <td>20</td>\n",
              "      <td>Masculino</td>\n",
              "      <td>Solteiro</td>\n",
              "      <td>ENSINO MEDIO</td>\n",
              "      <td>Não Voluntário</td>\n",
              "      <td>Primeira Vez</td>\n",
              "      <td>Dirigida</td>\n",
              "      <td>O+</td>\n",
              "      <td>NÃO</td>\n",
              "      <td>NÃO</td>\n",
              "      <td>DIFICIL ACESSO VENOSO - SEM AMOSTRAS</td>\n",
              "      <td>INAPTO</td>\n",
              "      <td>APTO</td>\n",
              "      <td>NÂO</td>\n",
              "      <td>Definitiva</td>\n",
              "      <td>SIM</td>\n",
              "      <td>NÃO</td>\n",
              "    </tr>\n",
              "    <tr>\n",
              "      <th>230973</th>\n",
              "      <td>685676</td>\n",
              "      <td>04/12/2019</td>\n",
              "      <td>30</td>\n",
              "      <td>Feminino</td>\n",
              "      <td>Solteiro</td>\n",
              "      <td>SUPERIOR INCOMPLETO</td>\n",
              "      <td>Não Voluntário</td>\n",
              "      <td>Retorno</td>\n",
              "      <td>Dirigida</td>\n",
              "      <td>O+</td>\n",
              "      <td>NÃO</td>\n",
              "      <td>NÃO</td>\n",
              "      <td>PERDA DE CONSCIENCIA</td>\n",
              "      <td>INAPTO</td>\n",
              "      <td>APTO</td>\n",
              "      <td>NÂO</td>\n",
              "      <td>Definitiva</td>\n",
              "      <td>SIM</td>\n",
              "      <td>NÃO</td>\n",
              "    </tr>\n",
              "    <tr>\n",
              "      <th>231603</th>\n",
              "      <td>526709</td>\n",
              "      <td>06/12/2019</td>\n",
              "      <td>26</td>\n",
              "      <td>Feminino</td>\n",
              "      <td>Solteiro</td>\n",
              "      <td>SUPERIOR COMPLETO</td>\n",
              "      <td>Não Voluntário</td>\n",
              "      <td>Retorno</td>\n",
              "      <td>Dirigida</td>\n",
              "      <td>O+</td>\n",
              "      <td>NÃO</td>\n",
              "      <td>NÃO</td>\n",
              "      <td>NÃO</td>\n",
              "      <td>INAPTO</td>\n",
              "      <td>APTO</td>\n",
              "      <td>NÂO</td>\n",
              "      <td>Definitiva</td>\n",
              "      <td>SIM</td>\n",
              "      <td>NÃO</td>\n",
              "    </tr>\n",
              "    <tr>\n",
              "      <th>235062</th>\n",
              "      <td>1066004</td>\n",
              "      <td>26/12/2019</td>\n",
              "      <td>36</td>\n",
              "      <td>Feminino</td>\n",
              "      <td>Casado</td>\n",
              "      <td>POS-GRADUADO</td>\n",
              "      <td>Volutário</td>\n",
              "      <td>Primeira Vez</td>\n",
              "      <td>Voluntária</td>\n",
              "      <td>A+</td>\n",
              "      <td>NÃO</td>\n",
              "      <td>NÃO</td>\n",
              "      <td>OUTRAS REACOES</td>\n",
              "      <td>INAPTO</td>\n",
              "      <td>APTO</td>\n",
              "      <td>NÂO</td>\n",
              "      <td>Definitiva</td>\n",
              "      <td>SIM</td>\n",
              "      <td>NÃO</td>\n",
              "    </tr>\n",
              "    <tr>\n",
              "      <th>235483</th>\n",
              "      <td>1067317</td>\n",
              "      <td>28/12/2019</td>\n",
              "      <td>29</td>\n",
              "      <td>Masculino</td>\n",
              "      <td>Casado</td>\n",
              "      <td>ENSINO MEDIO</td>\n",
              "      <td>Não Voluntário</td>\n",
              "      <td>Primeira Vez</td>\n",
              "      <td>Dirigida</td>\n",
              "      <td>A+</td>\n",
              "      <td>NÃO</td>\n",
              "      <td>NÃO</td>\n",
              "      <td>NÃO</td>\n",
              "      <td>INAPTO</td>\n",
              "      <td>APTO</td>\n",
              "      <td>NÂO</td>\n",
              "      <td>Definitiva</td>\n",
              "      <td>SIM</td>\n",
              "      <td>NÃO</td>\n",
              "    </tr>\n",
              "  </tbody>\n",
              "</table>\n",
              "<p>155 rows × 19 columns</p>\n",
              "</div>"
            ],
            "text/plain": [
              "        PACIENTE        DATA  IDADE  ... TIPO_DE_INAPTIDÃO BOLSA_COLETADA AFERESE\n",
              "1845      578500  10/01/2017     37  ...        Provisória            SIM     NÃO\n",
              "1997      578758  11/01/2017     20  ...        Definitiva            SIM     NÃO\n",
              "3214      579377  18/01/2017     25  ...        Provisória            SIM     NÃO\n",
              "3882      579631  20/01/2017     20  ...        Definitiva            SIM     NÃO\n",
              "3924       88678  20/01/2017     50  ...        Provisória            SIM     NÃO\n",
              "...          ...         ...    ...  ...               ...            ...     ...\n",
              "230916    570439  03/12/2019     20  ...        Definitiva            SIM     NÃO\n",
              "230973    685676  04/12/2019     30  ...        Definitiva            SIM     NÃO\n",
              "231603    526709  06/12/2019     26  ...        Definitiva            SIM     NÃO\n",
              "235062   1066004  26/12/2019     36  ...        Definitiva            SIM     NÃO\n",
              "235483   1067317  28/12/2019     29  ...        Definitiva            SIM     NÃO\n",
              "\n",
              "[155 rows x 19 columns]"
            ]
          },
          "metadata": {
            "tags": []
          },
          "execution_count": 101
        }
      ]
    },
    {
      "cell_type": "code",
      "metadata": {
        "scrolled": true,
        "colab": {
          "base_uri": "https://localhost:8080/",
          "height": 101
        },
        "id": "ygXcPxnCaihP",
        "outputId": "da0c98e0-1f16-497f-d2ff-45dd4ed131e8"
      },
      "source": [
        "#ERRO 2 = INAPTO NA TRIAGEM HEMATOLÓGICA E BOLSA COLETADA\n",
        "dados_doadores.loc[(dados_doadores['TRIAGEM_HEMATO']=='INAPTO') & (dados_doadores['BOLSA_COLETADA']=='SIM')]\n",
        "# 0 LINHAS ENCONTRADAS"
      ],
      "execution_count": 102,
      "outputs": [
        {
          "output_type": "execute_result",
          "data": {
            "text/html": [
              "<div>\n",
              "<style scoped>\n",
              "    .dataframe tbody tr th:only-of-type {\n",
              "        vertical-align: middle;\n",
              "    }\n",
              "\n",
              "    .dataframe tbody tr th {\n",
              "        vertical-align: top;\n",
              "    }\n",
              "\n",
              "    .dataframe thead th {\n",
              "        text-align: right;\n",
              "    }\n",
              "</style>\n",
              "<table border=\"1\" class=\"dataframe\">\n",
              "  <thead>\n",
              "    <tr style=\"text-align: right;\">\n",
              "      <th></th>\n",
              "      <th>PACIENTE</th>\n",
              "      <th>DATA</th>\n",
              "      <th>IDADE</th>\n",
              "      <th>SEXO</th>\n",
              "      <th>ESTADO_CIVIL</th>\n",
              "      <th>ESCOLARIDADE</th>\n",
              "      <th>MOTIVO</th>\n",
              "      <th>FREQUENCIA DA DOACAO</th>\n",
              "      <th>TIPO_DOACAO</th>\n",
              "      <th>TIPAGEM</th>\n",
              "      <th>VOTO DE AUTO EXCLUSÃO</th>\n",
              "      <th>DESCARTE CONFIDENCIAL</th>\n",
              "      <th>REAÇÕES ADVERSAS A DOACÃO</th>\n",
              "      <th>TRIAGEM_CLÍNICA</th>\n",
              "      <th>TRIAGEM_HEMATO</th>\n",
              "      <th>INAPTIDÃO_SOROLÓGICA</th>\n",
              "      <th>TIPO_DE_INAPTIDÃO</th>\n",
              "      <th>BOLSA_COLETADA</th>\n",
              "      <th>AFERESE</th>\n",
              "    </tr>\n",
              "  </thead>\n",
              "  <tbody>\n",
              "  </tbody>\n",
              "</table>\n",
              "</div>"
            ],
            "text/plain": [
              "Empty DataFrame\n",
              "Columns: [PACIENTE, DATA, IDADE, SEXO, ESTADO_CIVIL, ESCOLARIDADE, MOTIVO, FREQUENCIA DA DOACAO, TIPO_DOACAO, TIPAGEM, VOTO DE AUTO EXCLUSÃO, DESCARTE CONFIDENCIAL, REAÇÕES ADVERSAS A DOACÃO, TRIAGEM_CLÍNICA, TRIAGEM_HEMATO, INAPTIDÃO_SOROLÓGICA, TIPO_DE_INAPTIDÃO, BOLSA_COLETADA, AFERESE]\n",
              "Index: []"
            ]
          },
          "metadata": {
            "tags": []
          },
          "execution_count": 102
        }
      ]
    },
    {
      "cell_type": "code",
      "metadata": {
        "scrolled": true,
        "colab": {
          "base_uri": "https://localhost:8080/",
          "height": 672
        },
        "id": "oG-wkDx6aihQ",
        "outputId": "5a49b7f9-d488-43c9-8614-f2d59f0214f6"
      },
      "source": [
        "#ERRO 3 - IDADE MENOR QUE 18 ANOS\n",
        "dados_doadores.loc[(dados_doadores['IDADE'] < 18)]"
      ],
      "execution_count": 103,
      "outputs": [
        {
          "output_type": "execute_result",
          "data": {
            "text/html": [
              "<div>\n",
              "<style scoped>\n",
              "    .dataframe tbody tr th:only-of-type {\n",
              "        vertical-align: middle;\n",
              "    }\n",
              "\n",
              "    .dataframe tbody tr th {\n",
              "        vertical-align: top;\n",
              "    }\n",
              "\n",
              "    .dataframe thead th {\n",
              "        text-align: right;\n",
              "    }\n",
              "</style>\n",
              "<table border=\"1\" class=\"dataframe\">\n",
              "  <thead>\n",
              "    <tr style=\"text-align: right;\">\n",
              "      <th></th>\n",
              "      <th>PACIENTE</th>\n",
              "      <th>DATA</th>\n",
              "      <th>IDADE</th>\n",
              "      <th>SEXO</th>\n",
              "      <th>ESTADO_CIVIL</th>\n",
              "      <th>ESCOLARIDADE</th>\n",
              "      <th>MOTIVO</th>\n",
              "      <th>FREQUENCIA DA DOACAO</th>\n",
              "      <th>TIPO_DOACAO</th>\n",
              "      <th>TIPAGEM</th>\n",
              "      <th>VOTO DE AUTO EXCLUSÃO</th>\n",
              "      <th>DESCARTE CONFIDENCIAL</th>\n",
              "      <th>REAÇÕES ADVERSAS A DOACÃO</th>\n",
              "      <th>TRIAGEM_CLÍNICA</th>\n",
              "      <th>TRIAGEM_HEMATO</th>\n",
              "      <th>INAPTIDÃO_SOROLÓGICA</th>\n",
              "      <th>TIPO_DE_INAPTIDÃO</th>\n",
              "      <th>BOLSA_COLETADA</th>\n",
              "      <th>AFERESE</th>\n",
              "    </tr>\n",
              "  </thead>\n",
              "  <tbody>\n",
              "    <tr>\n",
              "      <th>74</th>\n",
              "      <td>578006</td>\n",
              "      <td>02/01/2017</td>\n",
              "      <td>16</td>\n",
              "      <td>Feminino</td>\n",
              "      <td>Solteiro</td>\n",
              "      <td>ENSINO MEDIO</td>\n",
              "      <td>Volutário</td>\n",
              "      <td>Retorno</td>\n",
              "      <td>Voluntária</td>\n",
              "      <td>O+</td>\n",
              "      <td>NÃO</td>\n",
              "      <td>NÃO</td>\n",
              "      <td>NÃO</td>\n",
              "      <td>INAPTO</td>\n",
              "      <td>APTO</td>\n",
              "      <td>SEM CONDUTA</td>\n",
              "      <td>Provisória</td>\n",
              "      <td>NÃO</td>\n",
              "      <td>NÃO</td>\n",
              "    </tr>\n",
              "    <tr>\n",
              "      <th>100</th>\n",
              "      <td>577940</td>\n",
              "      <td>02/01/2017</td>\n",
              "      <td>17</td>\n",
              "      <td>Masculino</td>\n",
              "      <td>Casado</td>\n",
              "      <td>ENSINO MEDIO</td>\n",
              "      <td>Volutário</td>\n",
              "      <td>Retorno</td>\n",
              "      <td>Voluntária</td>\n",
              "      <td>A+</td>\n",
              "      <td>NÃO</td>\n",
              "      <td>NÃO</td>\n",
              "      <td>NÃO</td>\n",
              "      <td>INAPTO</td>\n",
              "      <td>APTO</td>\n",
              "      <td>SEM CONDUTA</td>\n",
              "      <td>Provisória</td>\n",
              "      <td>NÃO</td>\n",
              "      <td>NÃO</td>\n",
              "    </tr>\n",
              "    <tr>\n",
              "      <th>102</th>\n",
              "      <td>577941</td>\n",
              "      <td>02/01/2017</td>\n",
              "      <td>16</td>\n",
              "      <td>Feminino</td>\n",
              "      <td>Solteiro</td>\n",
              "      <td>ENSINO MEDIO</td>\n",
              "      <td>Não Voluntário</td>\n",
              "      <td>Retorno</td>\n",
              "      <td>Dirigida</td>\n",
              "      <td>SEM TIPAGEM</td>\n",
              "      <td>NÃO</td>\n",
              "      <td>NÃO</td>\n",
              "      <td>NÃO</td>\n",
              "      <td>INAPTO</td>\n",
              "      <td>INAPTO</td>\n",
              "      <td>SEM CONDUTA</td>\n",
              "      <td>Provisória</td>\n",
              "      <td>NÃO</td>\n",
              "      <td>NÃO</td>\n",
              "    </tr>\n",
              "    <tr>\n",
              "      <th>204</th>\n",
              "      <td>578013</td>\n",
              "      <td>02/01/2017</td>\n",
              "      <td>17</td>\n",
              "      <td>Feminino</td>\n",
              "      <td>Solteiro</td>\n",
              "      <td>ENSINO MEDIO</td>\n",
              "      <td>Não Voluntário</td>\n",
              "      <td>Retorno</td>\n",
              "      <td>Dirigida</td>\n",
              "      <td>A+</td>\n",
              "      <td>NÃO</td>\n",
              "      <td>NÃO</td>\n",
              "      <td>DIFICIL ACESSO VENOSO - COM AMOSTRAS</td>\n",
              "      <td>APTO</td>\n",
              "      <td>APTO</td>\n",
              "      <td>NÂO</td>\n",
              "      <td>-</td>\n",
              "      <td>SIM</td>\n",
              "      <td>NÃO</td>\n",
              "    </tr>\n",
              "    <tr>\n",
              "      <th>216</th>\n",
              "      <td>578015</td>\n",
              "      <td>02/01/2017</td>\n",
              "      <td>17</td>\n",
              "      <td>Feminino</td>\n",
              "      <td>Solteiro</td>\n",
              "      <td>ENSINO MEDIO</td>\n",
              "      <td>Não Voluntário</td>\n",
              "      <td>Primeira Vez</td>\n",
              "      <td>Dirigida</td>\n",
              "      <td>O+</td>\n",
              "      <td>NÃO</td>\n",
              "      <td>NÃO</td>\n",
              "      <td>NÃO</td>\n",
              "      <td>INAPTO</td>\n",
              "      <td>APTO</td>\n",
              "      <td>SEM CONDUTA</td>\n",
              "      <td>Provisória</td>\n",
              "      <td>NÃO</td>\n",
              "      <td>NÃO</td>\n",
              "    </tr>\n",
              "    <tr>\n",
              "      <th>...</th>\n",
              "      <td>...</td>\n",
              "      <td>...</td>\n",
              "      <td>...</td>\n",
              "      <td>...</td>\n",
              "      <td>...</td>\n",
              "      <td>...</td>\n",
              "      <td>...</td>\n",
              "      <td>...</td>\n",
              "      <td>...</td>\n",
              "      <td>...</td>\n",
              "      <td>...</td>\n",
              "      <td>...</td>\n",
              "      <td>...</td>\n",
              "      <td>...</td>\n",
              "      <td>...</td>\n",
              "      <td>...</td>\n",
              "      <td>...</td>\n",
              "      <td>...</td>\n",
              "      <td>...</td>\n",
              "    </tr>\n",
              "    <tr>\n",
              "      <th>235003</th>\n",
              "      <td>1065991</td>\n",
              "      <td>26/12/2019</td>\n",
              "      <td>17</td>\n",
              "      <td>Masculino</td>\n",
              "      <td>Solteiro</td>\n",
              "      <td>ENSINO MEDIO</td>\n",
              "      <td>Não Voluntário</td>\n",
              "      <td>Primeira Vez</td>\n",
              "      <td>Dirigida</td>\n",
              "      <td>O+</td>\n",
              "      <td>NÃO</td>\n",
              "      <td>NÃO</td>\n",
              "      <td>NÃO</td>\n",
              "      <td>APTO</td>\n",
              "      <td>APTO</td>\n",
              "      <td>NÂO</td>\n",
              "      <td>-</td>\n",
              "      <td>SIM</td>\n",
              "      <td>NÃO</td>\n",
              "    </tr>\n",
              "    <tr>\n",
              "      <th>235033</th>\n",
              "      <td>905205</td>\n",
              "      <td>26/12/2019</td>\n",
              "      <td>16</td>\n",
              "      <td>Masculino</td>\n",
              "      <td>Solteiro</td>\n",
              "      <td>ENSINO MEDIO</td>\n",
              "      <td>Volutário</td>\n",
              "      <td>Retorno</td>\n",
              "      <td>Voluntária</td>\n",
              "      <td>O+</td>\n",
              "      <td>NÃO</td>\n",
              "      <td>NÃO</td>\n",
              "      <td>NÃO</td>\n",
              "      <td>APTO</td>\n",
              "      <td>APTO</td>\n",
              "      <td>NÂO</td>\n",
              "      <td>-</td>\n",
              "      <td>SIM</td>\n",
              "      <td>NÃO</td>\n",
              "    </tr>\n",
              "    <tr>\n",
              "      <th>235284</th>\n",
              "      <td>794741</td>\n",
              "      <td>27/12/2019</td>\n",
              "      <td>17</td>\n",
              "      <td>Masculino</td>\n",
              "      <td>Solteiro</td>\n",
              "      <td>ENSINO MEDIO</td>\n",
              "      <td>Volutário</td>\n",
              "      <td>Retorno</td>\n",
              "      <td>Voluntária</td>\n",
              "      <td>A+</td>\n",
              "      <td>NÃO</td>\n",
              "      <td>NÃO</td>\n",
              "      <td>NÃO</td>\n",
              "      <td>APTO</td>\n",
              "      <td>APTO</td>\n",
              "      <td>NÂO</td>\n",
              "      <td>-</td>\n",
              "      <td>SIM</td>\n",
              "      <td>NÃO</td>\n",
              "    </tr>\n",
              "    <tr>\n",
              "      <th>235737</th>\n",
              "      <td>1068728</td>\n",
              "      <td>30/12/2019</td>\n",
              "      <td>16</td>\n",
              "      <td>Masculino</td>\n",
              "      <td>Solteiro</td>\n",
              "      <td>ENSINO MEDIO</td>\n",
              "      <td>Volutário</td>\n",
              "      <td>Primeira Vez</td>\n",
              "      <td>Voluntária</td>\n",
              "      <td>O+</td>\n",
              "      <td>NÃO</td>\n",
              "      <td>NÃO</td>\n",
              "      <td>NÃO</td>\n",
              "      <td>APTO</td>\n",
              "      <td>APTO</td>\n",
              "      <td>NÂO</td>\n",
              "      <td>-</td>\n",
              "      <td>SIM</td>\n",
              "      <td>NÃO</td>\n",
              "    </tr>\n",
              "    <tr>\n",
              "      <th>235849</th>\n",
              "      <td>1068776</td>\n",
              "      <td>31/12/2019</td>\n",
              "      <td>16</td>\n",
              "      <td>Feminino</td>\n",
              "      <td>Solteiro</td>\n",
              "      <td>ENSINO MEDIO</td>\n",
              "      <td>Volutário</td>\n",
              "      <td>Primeira Vez</td>\n",
              "      <td>Voluntária</td>\n",
              "      <td>O+</td>\n",
              "      <td>NÃO</td>\n",
              "      <td>NÃO</td>\n",
              "      <td>NÃO</td>\n",
              "      <td>APTO</td>\n",
              "      <td>APTO</td>\n",
              "      <td>NÂO</td>\n",
              "      <td>-</td>\n",
              "      <td>SIM</td>\n",
              "      <td>NÃO</td>\n",
              "    </tr>\n",
              "  </tbody>\n",
              "</table>\n",
              "<p>1814 rows × 19 columns</p>\n",
              "</div>"
            ],
            "text/plain": [
              "        PACIENTE        DATA  IDADE  ... TIPO_DE_INAPTIDÃO BOLSA_COLETADA AFERESE\n",
              "74        578006  02/01/2017     16  ...        Provisória            NÃO     NÃO\n",
              "100       577940  02/01/2017     17  ...        Provisória            NÃO     NÃO\n",
              "102       577941  02/01/2017     16  ...        Provisória            NÃO     NÃO\n",
              "204       578013  02/01/2017     17  ...                 -            SIM     NÃO\n",
              "216       578015  02/01/2017     17  ...        Provisória            NÃO     NÃO\n",
              "...          ...         ...    ...  ...               ...            ...     ...\n",
              "235003   1065991  26/12/2019     17  ...                 -            SIM     NÃO\n",
              "235033    905205  26/12/2019     16  ...                 -            SIM     NÃO\n",
              "235284    794741  27/12/2019     17  ...                 -            SIM     NÃO\n",
              "235737   1068728  30/12/2019     16  ...                 -            SIM     NÃO\n",
              "235849   1068776  31/12/2019     16  ...                 -            SIM     NÃO\n",
              "\n",
              "[1814 rows x 19 columns]"
            ]
          },
          "metadata": {
            "tags": []
          },
          "execution_count": 103
        }
      ]
    },
    {
      "cell_type": "code",
      "metadata": {
        "scrolled": true,
        "colab": {
          "base_uri": "https://localhost:8080/",
          "height": 1000
        },
        "id": "jllIFqRWaihR",
        "outputId": "9ec7b7f1-392d-410c-a2fc-94f78533d01f"
      },
      "source": [
        "#ERRO 4 - IDADE MAIOR QUE 69 ANOS\n",
        "dados_doadores.loc[(dados_doadores['IDADE'] > 69)]"
      ],
      "execution_count": 104,
      "outputs": [
        {
          "output_type": "execute_result",
          "data": {
            "text/html": [
              "<div>\n",
              "<style scoped>\n",
              "    .dataframe tbody tr th:only-of-type {\n",
              "        vertical-align: middle;\n",
              "    }\n",
              "\n",
              "    .dataframe tbody tr th {\n",
              "        vertical-align: top;\n",
              "    }\n",
              "\n",
              "    .dataframe thead th {\n",
              "        text-align: right;\n",
              "    }\n",
              "</style>\n",
              "<table border=\"1\" class=\"dataframe\">\n",
              "  <thead>\n",
              "    <tr style=\"text-align: right;\">\n",
              "      <th></th>\n",
              "      <th>PACIENTE</th>\n",
              "      <th>DATA</th>\n",
              "      <th>IDADE</th>\n",
              "      <th>SEXO</th>\n",
              "      <th>ESTADO_CIVIL</th>\n",
              "      <th>ESCOLARIDADE</th>\n",
              "      <th>MOTIVO</th>\n",
              "      <th>FREQUENCIA DA DOACAO</th>\n",
              "      <th>TIPO_DOACAO</th>\n",
              "      <th>TIPAGEM</th>\n",
              "      <th>VOTO DE AUTO EXCLUSÃO</th>\n",
              "      <th>DESCARTE CONFIDENCIAL</th>\n",
              "      <th>REAÇÕES ADVERSAS A DOACÃO</th>\n",
              "      <th>TRIAGEM_CLÍNICA</th>\n",
              "      <th>TRIAGEM_HEMATO</th>\n",
              "      <th>INAPTIDÃO_SOROLÓGICA</th>\n",
              "      <th>TIPO_DE_INAPTIDÃO</th>\n",
              "      <th>BOLSA_COLETADA</th>\n",
              "      <th>AFERESE</th>\n",
              "    </tr>\n",
              "  </thead>\n",
              "  <tbody>\n",
              "    <tr>\n",
              "      <th>2119</th>\n",
              "      <td>81378</td>\n",
              "      <td>12/01/2017</td>\n",
              "      <td>70</td>\n",
              "      <td>Masculino</td>\n",
              "      <td>Casado</td>\n",
              "      <td>ENSINO FUNDAMENTAL</td>\n",
              "      <td>Volutário</td>\n",
              "      <td>Retorno</td>\n",
              "      <td>Voluntária</td>\n",
              "      <td>O+</td>\n",
              "      <td>NÃO</td>\n",
              "      <td>NÃO</td>\n",
              "      <td>NÃO</td>\n",
              "      <td>APTO</td>\n",
              "      <td>APTO</td>\n",
              "      <td>NÂO</td>\n",
              "      <td>-</td>\n",
              "      <td>SIM</td>\n",
              "      <td>NÃO</td>\n",
              "    </tr>\n",
              "    <tr>\n",
              "      <th>20665</th>\n",
              "      <td>20166</td>\n",
              "      <td>03/04/2017</td>\n",
              "      <td>71</td>\n",
              "      <td>Masculino</td>\n",
              "      <td>Viuvo</td>\n",
              "      <td>ENSINO FUNDAMENTAL</td>\n",
              "      <td>Volutário</td>\n",
              "      <td>Retorno</td>\n",
              "      <td>Voluntária</td>\n",
              "      <td>A+</td>\n",
              "      <td>NÃO</td>\n",
              "      <td>NÃO</td>\n",
              "      <td>NÃO</td>\n",
              "      <td>INAPTO</td>\n",
              "      <td>APTO</td>\n",
              "      <td>SEM CONDUTA</td>\n",
              "      <td>Definitiva</td>\n",
              "      <td>NÃO</td>\n",
              "      <td>NÃO</td>\n",
              "    </tr>\n",
              "    <tr>\n",
              "      <th>24422</th>\n",
              "      <td>84233</td>\n",
              "      <td>20/04/2017</td>\n",
              "      <td>74</td>\n",
              "      <td>Masculino</td>\n",
              "      <td>Viuvo</td>\n",
              "      <td>Não definido</td>\n",
              "      <td>Não Voluntário</td>\n",
              "      <td>Retorno</td>\n",
              "      <td>Agendada</td>\n",
              "      <td>O-</td>\n",
              "      <td>NÃO</td>\n",
              "      <td>NÃO</td>\n",
              "      <td>NÃO</td>\n",
              "      <td>APTO</td>\n",
              "      <td>APTO</td>\n",
              "      <td>NÂO</td>\n",
              "      <td>-</td>\n",
              "      <td>SIM</td>\n",
              "      <td>NÃO</td>\n",
              "    </tr>\n",
              "    <tr>\n",
              "      <th>28329</th>\n",
              "      <td>538350</td>\n",
              "      <td>09/05/2017</td>\n",
              "      <td>70</td>\n",
              "      <td>Masculino</td>\n",
              "      <td>Divorciado</td>\n",
              "      <td>SUPERIOR COMPLETO</td>\n",
              "      <td>Não Voluntário</td>\n",
              "      <td>Retorno</td>\n",
              "      <td>Dirigida</td>\n",
              "      <td>O+</td>\n",
              "      <td>NÃO</td>\n",
              "      <td>NÃO</td>\n",
              "      <td>NÃO</td>\n",
              "      <td>APTO</td>\n",
              "      <td>APTO</td>\n",
              "      <td>NÂO</td>\n",
              "      <td>-</td>\n",
              "      <td>SIM</td>\n",
              "      <td>NÃO</td>\n",
              "    </tr>\n",
              "    <tr>\n",
              "      <th>29813</th>\n",
              "      <td>111148</td>\n",
              "      <td>15/05/2017</td>\n",
              "      <td>72</td>\n",
              "      <td>Masculino</td>\n",
              "      <td>Solteiro</td>\n",
              "      <td>Não definido</td>\n",
              "      <td>Não Voluntário</td>\n",
              "      <td>Retorno</td>\n",
              "      <td>Dirigida</td>\n",
              "      <td>O+</td>\n",
              "      <td>NÃO</td>\n",
              "      <td>NÃO</td>\n",
              "      <td>NÃO</td>\n",
              "      <td>INAPTO</td>\n",
              "      <td>INAPTO</td>\n",
              "      <td>SEM CONDUTA</td>\n",
              "      <td>Provisória</td>\n",
              "      <td>NÃO</td>\n",
              "      <td>NÃO</td>\n",
              "    </tr>\n",
              "    <tr>\n",
              "      <th>38111</th>\n",
              "      <td>15987</td>\n",
              "      <td>17/06/2017</td>\n",
              "      <td>70</td>\n",
              "      <td>Masculino</td>\n",
              "      <td>Casado</td>\n",
              "      <td>ENSINO MEDIO</td>\n",
              "      <td>Volutário</td>\n",
              "      <td>Retorno</td>\n",
              "      <td>Voluntária</td>\n",
              "      <td>A+</td>\n",
              "      <td>NÃO</td>\n",
              "      <td>NÃO</td>\n",
              "      <td>NÃO</td>\n",
              "      <td>APTO</td>\n",
              "      <td>APTO</td>\n",
              "      <td>NÂO</td>\n",
              "      <td>-</td>\n",
              "      <td>SIM</td>\n",
              "      <td>NÃO</td>\n",
              "    </tr>\n",
              "    <tr>\n",
              "      <th>50491</th>\n",
              "      <td>51606</td>\n",
              "      <td>14/08/2017</td>\n",
              "      <td>76</td>\n",
              "      <td>Masculino</td>\n",
              "      <td>Casado</td>\n",
              "      <td>SUPERIOR INCOMPLETO</td>\n",
              "      <td>Volutário</td>\n",
              "      <td>Retorno</td>\n",
              "      <td>Voluntária</td>\n",
              "      <td>A+</td>\n",
              "      <td>NÃO</td>\n",
              "      <td>NÃO</td>\n",
              "      <td>NÃO</td>\n",
              "      <td>APTO</td>\n",
              "      <td>APTO</td>\n",
              "      <td>NÂO</td>\n",
              "      <td>-</td>\n",
              "      <td>SIM</td>\n",
              "      <td>NÃO</td>\n",
              "    </tr>\n",
              "    <tr>\n",
              "      <th>58240</th>\n",
              "      <td>182474</td>\n",
              "      <td>20/09/2017</td>\n",
              "      <td>70</td>\n",
              "      <td>Masculino</td>\n",
              "      <td>Casado</td>\n",
              "      <td>ENSINO FUNDAMENTAL</td>\n",
              "      <td>Volutário</td>\n",
              "      <td>Retorno</td>\n",
              "      <td>Voluntária</td>\n",
              "      <td>O+</td>\n",
              "      <td>NÃO</td>\n",
              "      <td>NÃO</td>\n",
              "      <td>NÃO</td>\n",
              "      <td>APTO</td>\n",
              "      <td>APTO</td>\n",
              "      <td>NÂO</td>\n",
              "      <td>-</td>\n",
              "      <td>SIM</td>\n",
              "      <td>NÃO</td>\n",
              "    </tr>\n",
              "    <tr>\n",
              "      <th>72122</th>\n",
              "      <td>115220</td>\n",
              "      <td>24/11/2017</td>\n",
              "      <td>71</td>\n",
              "      <td>Masculino</td>\n",
              "      <td>União Estável</td>\n",
              "      <td>Não definido</td>\n",
              "      <td>Não Voluntário</td>\n",
              "      <td>Primeira Vez</td>\n",
              "      <td>Dirigida</td>\n",
              "      <td>O+</td>\n",
              "      <td>NÃO</td>\n",
              "      <td>NÃO</td>\n",
              "      <td>NÃO</td>\n",
              "      <td>INAPTO</td>\n",
              "      <td>APTO</td>\n",
              "      <td>SEM CONDUTA</td>\n",
              "      <td>Definitiva</td>\n",
              "      <td>NÃO</td>\n",
              "      <td>NÃO</td>\n",
              "    </tr>\n",
              "    <tr>\n",
              "      <th>72156</th>\n",
              "      <td>108232</td>\n",
              "      <td>25/11/2017</td>\n",
              "      <td>89</td>\n",
              "      <td>Masculino</td>\n",
              "      <td>Casado</td>\n",
              "      <td>Não definido</td>\n",
              "      <td>Não Voluntário</td>\n",
              "      <td>Retorno</td>\n",
              "      <td>Dirigida</td>\n",
              "      <td>O+</td>\n",
              "      <td>NÃO</td>\n",
              "      <td>NÃO</td>\n",
              "      <td>NÃO</td>\n",
              "      <td>APTO</td>\n",
              "      <td>APTO</td>\n",
              "      <td>NÂO</td>\n",
              "      <td>-</td>\n",
              "      <td>SIM</td>\n",
              "      <td>NÃO</td>\n",
              "    </tr>\n",
              "    <tr>\n",
              "      <th>77178</th>\n",
              "      <td>15987</td>\n",
              "      <td>20/12/2017</td>\n",
              "      <td>70</td>\n",
              "      <td>Masculino</td>\n",
              "      <td>Casado</td>\n",
              "      <td>ENSINO MEDIO</td>\n",
              "      <td>Volutário</td>\n",
              "      <td>Retorno</td>\n",
              "      <td>Voluntária</td>\n",
              "      <td>A+</td>\n",
              "      <td>NÃO</td>\n",
              "      <td>NÃO</td>\n",
              "      <td>NÃO</td>\n",
              "      <td>APTO</td>\n",
              "      <td>APTO</td>\n",
              "      <td>NÂO</td>\n",
              "      <td>-</td>\n",
              "      <td>SIM</td>\n",
              "      <td>NÃO</td>\n",
              "    </tr>\n",
              "    <tr>\n",
              "      <th>86817</th>\n",
              "      <td>7346</td>\n",
              "      <td>30/01/2018</td>\n",
              "      <td>72</td>\n",
              "      <td>Masculino</td>\n",
              "      <td>Viuvo</td>\n",
              "      <td>ENSINO MEDIO</td>\n",
              "      <td>Volutário</td>\n",
              "      <td>Retorno</td>\n",
              "      <td>Voluntária</td>\n",
              "      <td>A+</td>\n",
              "      <td>NÃO</td>\n",
              "      <td>NÃO</td>\n",
              "      <td>NÃO</td>\n",
              "      <td>APTO</td>\n",
              "      <td>APTO</td>\n",
              "      <td>NÂO</td>\n",
              "      <td>-</td>\n",
              "      <td>SIM</td>\n",
              "      <td>NÃO</td>\n",
              "    </tr>\n",
              "    <tr>\n",
              "      <th>101473</th>\n",
              "      <td>182474</td>\n",
              "      <td>10/04/2018</td>\n",
              "      <td>70</td>\n",
              "      <td>Masculino</td>\n",
              "      <td>Casado</td>\n",
              "      <td>ENSINO FUNDAMENTAL</td>\n",
              "      <td>Não Voluntário</td>\n",
              "      <td>Retorno</td>\n",
              "      <td>Dirigida</td>\n",
              "      <td>O+</td>\n",
              "      <td>NÃO</td>\n",
              "      <td>NÃO</td>\n",
              "      <td>NÃO</td>\n",
              "      <td>APTO</td>\n",
              "      <td>APTO</td>\n",
              "      <td>NÂO</td>\n",
              "      <td>-</td>\n",
              "      <td>SIM</td>\n",
              "      <td>NÃO</td>\n",
              "    </tr>\n",
              "    <tr>\n",
              "      <th>102597</th>\n",
              "      <td>7346</td>\n",
              "      <td>14/04/2018</td>\n",
              "      <td>72</td>\n",
              "      <td>Masculino</td>\n",
              "      <td>Viuvo</td>\n",
              "      <td>ENSINO MEDIO</td>\n",
              "      <td>Não Voluntário</td>\n",
              "      <td>Retorno</td>\n",
              "      <td>Agendada</td>\n",
              "      <td>A+</td>\n",
              "      <td>NÃO</td>\n",
              "      <td>NÃO</td>\n",
              "      <td>NÃO</td>\n",
              "      <td>APTO</td>\n",
              "      <td>APTO</td>\n",
              "      <td>NÂO</td>\n",
              "      <td>-</td>\n",
              "      <td>SIM</td>\n",
              "      <td>NÃO</td>\n",
              "    </tr>\n",
              "    <tr>\n",
              "      <th>107738</th>\n",
              "      <td>186788</td>\n",
              "      <td>07/05/2018</td>\n",
              "      <td>70</td>\n",
              "      <td>Masculino</td>\n",
              "      <td>Solteiro</td>\n",
              "      <td>ENSINO FUNDAMENTAL</td>\n",
              "      <td>Volutário</td>\n",
              "      <td>Retorno</td>\n",
              "      <td>Voluntária</td>\n",
              "      <td>O+</td>\n",
              "      <td>NÃO</td>\n",
              "      <td>NÃO</td>\n",
              "      <td>NÃO</td>\n",
              "      <td>INAPTO</td>\n",
              "      <td>APTO</td>\n",
              "      <td>SEM CONDUTA</td>\n",
              "      <td>Provisória</td>\n",
              "      <td>NÃO</td>\n",
              "      <td>NÃO</td>\n",
              "    </tr>\n",
              "    <tr>\n",
              "      <th>108209</th>\n",
              "      <td>15987</td>\n",
              "      <td>09/05/2018</td>\n",
              "      <td>71</td>\n",
              "      <td>Masculino</td>\n",
              "      <td>Casado</td>\n",
              "      <td>ENSINO MEDIO</td>\n",
              "      <td>Volutário</td>\n",
              "      <td>Retorno</td>\n",
              "      <td>Voluntária</td>\n",
              "      <td>A+</td>\n",
              "      <td>NÃO</td>\n",
              "      <td>NÃO</td>\n",
              "      <td>NÃO</td>\n",
              "      <td>APTO</td>\n",
              "      <td>APTO</td>\n",
              "      <td>NÂO</td>\n",
              "      <td>-</td>\n",
              "      <td>SIM</td>\n",
              "      <td>NÃO</td>\n",
              "    </tr>\n",
              "    <tr>\n",
              "      <th>110773</th>\n",
              "      <td>58124</td>\n",
              "      <td>22/05/2018</td>\n",
              "      <td>70</td>\n",
              "      <td>Masculino</td>\n",
              "      <td>Viuvo</td>\n",
              "      <td>ENSINO MEDIO</td>\n",
              "      <td>Não Voluntário</td>\n",
              "      <td>Retorno</td>\n",
              "      <td>Dirigida</td>\n",
              "      <td>A+</td>\n",
              "      <td>NÃO</td>\n",
              "      <td>NÃO</td>\n",
              "      <td>NÃO</td>\n",
              "      <td>APTO</td>\n",
              "      <td>APTO</td>\n",
              "      <td>NÂO</td>\n",
              "      <td>-</td>\n",
              "      <td>SIM</td>\n",
              "      <td>NÃO</td>\n",
              "    </tr>\n",
              "    <tr>\n",
              "      <th>115922</th>\n",
              "      <td>7346</td>\n",
              "      <td>13/06/2018</td>\n",
              "      <td>72</td>\n",
              "      <td>Masculino</td>\n",
              "      <td>Viuvo</td>\n",
              "      <td>ENSINO MEDIO</td>\n",
              "      <td>Volutário</td>\n",
              "      <td>Retorno</td>\n",
              "      <td>Voluntária</td>\n",
              "      <td>A+</td>\n",
              "      <td>NÃO</td>\n",
              "      <td>NÃO</td>\n",
              "      <td>NÃO</td>\n",
              "      <td>APTO</td>\n",
              "      <td>APTO</td>\n",
              "      <td>NÂO</td>\n",
              "      <td>-</td>\n",
              "      <td>SIM</td>\n",
              "      <td>NÃO</td>\n",
              "    </tr>\n",
              "    <tr>\n",
              "      <th>127003</th>\n",
              "      <td>1646</td>\n",
              "      <td>07/08/2018</td>\n",
              "      <td>70</td>\n",
              "      <td>Masculino</td>\n",
              "      <td>Casado</td>\n",
              "      <td>SUPERIOR COMPLETO</td>\n",
              "      <td>Não Voluntário</td>\n",
              "      <td>Retorno</td>\n",
              "      <td>Agendada</td>\n",
              "      <td>A+</td>\n",
              "      <td>NÃO</td>\n",
              "      <td>NÃO</td>\n",
              "      <td>NÃO</td>\n",
              "      <td>APTO</td>\n",
              "      <td>APTO</td>\n",
              "      <td>NÂO</td>\n",
              "      <td>-</td>\n",
              "      <td>SIM</td>\n",
              "      <td>NÃO</td>\n",
              "    </tr>\n",
              "    <tr>\n",
              "      <th>130030</th>\n",
              "      <td>7346</td>\n",
              "      <td>21/08/2018</td>\n",
              "      <td>72</td>\n",
              "      <td>Masculino</td>\n",
              "      <td>Viuvo</td>\n",
              "      <td>ENSINO MEDIO</td>\n",
              "      <td>Volutário</td>\n",
              "      <td>Retorno</td>\n",
              "      <td>Voluntária</td>\n",
              "      <td>A+</td>\n",
              "      <td>NÃO</td>\n",
              "      <td>NÃO</td>\n",
              "      <td>NÃO</td>\n",
              "      <td>APTO</td>\n",
              "      <td>APTO</td>\n",
              "      <td>NÂO</td>\n",
              "      <td>-</td>\n",
              "      <td>SIM</td>\n",
              "      <td>NÃO</td>\n",
              "    </tr>\n",
              "    <tr>\n",
              "      <th>131810</th>\n",
              "      <td>142474</td>\n",
              "      <td>29/08/2018</td>\n",
              "      <td>70</td>\n",
              "      <td>Masculino</td>\n",
              "      <td>Divorciado</td>\n",
              "      <td>ENSINO FUNDAMENTAL</td>\n",
              "      <td>Não Voluntário</td>\n",
              "      <td>Retorno</td>\n",
              "      <td>Agendada</td>\n",
              "      <td>AB+</td>\n",
              "      <td>NÃO</td>\n",
              "      <td>NÃO</td>\n",
              "      <td>NÃO</td>\n",
              "      <td>APTO</td>\n",
              "      <td>APTO</td>\n",
              "      <td>NÂO</td>\n",
              "      <td>-</td>\n",
              "      <td>SIM</td>\n",
              "      <td>NÃO</td>\n",
              "    </tr>\n",
              "    <tr>\n",
              "      <th>137597</th>\n",
              "      <td>58124</td>\n",
              "      <td>26/09/2018</td>\n",
              "      <td>70</td>\n",
              "      <td>Masculino</td>\n",
              "      <td>Viuvo</td>\n",
              "      <td>ENSINO MEDIO</td>\n",
              "      <td>Não Voluntário</td>\n",
              "      <td>Retorno</td>\n",
              "      <td>Agendada</td>\n",
              "      <td>A+</td>\n",
              "      <td>NÃO</td>\n",
              "      <td>NÃO</td>\n",
              "      <td>NÃO</td>\n",
              "      <td>APTO</td>\n",
              "      <td>APTO</td>\n",
              "      <td>NÂO</td>\n",
              "      <td>-</td>\n",
              "      <td>SIM</td>\n",
              "      <td>NÃO</td>\n",
              "    </tr>\n",
              "    <tr>\n",
              "      <th>143030</th>\n",
              "      <td>15138</td>\n",
              "      <td>22/10/2018</td>\n",
              "      <td>70</td>\n",
              "      <td>Masculino</td>\n",
              "      <td>Casado</td>\n",
              "      <td>ENSINO MEDIO</td>\n",
              "      <td>Não Voluntário</td>\n",
              "      <td>Retorno</td>\n",
              "      <td>Agendada</td>\n",
              "      <td>A+</td>\n",
              "      <td>NÃO</td>\n",
              "      <td>NÃO</td>\n",
              "      <td>NÃO</td>\n",
              "      <td>APTO</td>\n",
              "      <td>APTO</td>\n",
              "      <td>NÂO</td>\n",
              "      <td>-</td>\n",
              "      <td>SIM</td>\n",
              "      <td>NÃO</td>\n",
              "    </tr>\n",
              "    <tr>\n",
              "      <th>146173</th>\n",
              "      <td>186788</td>\n",
              "      <td>08/11/2018</td>\n",
              "      <td>70</td>\n",
              "      <td>Masculino</td>\n",
              "      <td>Solteiro</td>\n",
              "      <td>ENSINO FUNDAMENTAL</td>\n",
              "      <td>Volutário</td>\n",
              "      <td>Retorno</td>\n",
              "      <td>Voluntária</td>\n",
              "      <td>O+</td>\n",
              "      <td>NÃO</td>\n",
              "      <td>NÃO</td>\n",
              "      <td>NÃO</td>\n",
              "      <td>INAPTO</td>\n",
              "      <td>APTO</td>\n",
              "      <td>SEM CONDUTA</td>\n",
              "      <td>Provisória</td>\n",
              "      <td>NÃO</td>\n",
              "      <td>NÃO</td>\n",
              "    </tr>\n",
              "    <tr>\n",
              "      <th>147512</th>\n",
              "      <td>186788</td>\n",
              "      <td>13/11/2018</td>\n",
              "      <td>70</td>\n",
              "      <td>Masculino</td>\n",
              "      <td>Solteiro</td>\n",
              "      <td>ENSINO FUNDAMENTAL</td>\n",
              "      <td>Volutário</td>\n",
              "      <td>Retorno</td>\n",
              "      <td>Voluntária</td>\n",
              "      <td>O+</td>\n",
              "      <td>NÃO</td>\n",
              "      <td>NÃO</td>\n",
              "      <td>NÃO</td>\n",
              "      <td>INAPTO</td>\n",
              "      <td>APTO</td>\n",
              "      <td>SEM CONDUTA</td>\n",
              "      <td>Provisória</td>\n",
              "      <td>NÃO</td>\n",
              "      <td>NÃO</td>\n",
              "    </tr>\n",
              "    <tr>\n",
              "      <th>150173</th>\n",
              "      <td>20170</td>\n",
              "      <td>24/11/2018</td>\n",
              "      <td>70</td>\n",
              "      <td>Masculino</td>\n",
              "      <td>Casado</td>\n",
              "      <td>ENSINO MEDIO</td>\n",
              "      <td>Volutário</td>\n",
              "      <td>Retorno</td>\n",
              "      <td>Voluntária</td>\n",
              "      <td>O+</td>\n",
              "      <td>NÃO</td>\n",
              "      <td>NÃO</td>\n",
              "      <td>NÃO</td>\n",
              "      <td>APTO</td>\n",
              "      <td>APTO</td>\n",
              "      <td>NÂO</td>\n",
              "      <td>-</td>\n",
              "      <td>SIM</td>\n",
              "      <td>NÃO</td>\n",
              "    </tr>\n",
              "    <tr>\n",
              "      <th>156627</th>\n",
              "      <td>58124</td>\n",
              "      <td>29/12/2018</td>\n",
              "      <td>70</td>\n",
              "      <td>Masculino</td>\n",
              "      <td>Viuvo</td>\n",
              "      <td>ENSINO MEDIO</td>\n",
              "      <td>Volutário</td>\n",
              "      <td>Retorno</td>\n",
              "      <td>Voluntária</td>\n",
              "      <td>A+</td>\n",
              "      <td>NÃO</td>\n",
              "      <td>NÃO</td>\n",
              "      <td>NÃO</td>\n",
              "      <td>APTO</td>\n",
              "      <td>APTO</td>\n",
              "      <td>NÂO</td>\n",
              "      <td>-</td>\n",
              "      <td>SIM</td>\n",
              "      <td>NÃO</td>\n",
              "    </tr>\n",
              "    <tr>\n",
              "      <th>157088</th>\n",
              "      <td>1646</td>\n",
              "      <td>03/01/2019</td>\n",
              "      <td>70</td>\n",
              "      <td>Masculino</td>\n",
              "      <td>Casado</td>\n",
              "      <td>SUPERIOR COMPLETO</td>\n",
              "      <td>Volutário</td>\n",
              "      <td>Retorno</td>\n",
              "      <td>Voluntária</td>\n",
              "      <td>A+</td>\n",
              "      <td>NÃO</td>\n",
              "      <td>NÃO</td>\n",
              "      <td>DIFICIL ACESSO VENOSO - COM AMOSTRAS</td>\n",
              "      <td>APTO</td>\n",
              "      <td>APTO</td>\n",
              "      <td>NÂO</td>\n",
              "      <td>-</td>\n",
              "      <td>SIM</td>\n",
              "      <td>NÃO</td>\n",
              "    </tr>\n",
              "    <tr>\n",
              "      <th>160332</th>\n",
              "      <td>424515</td>\n",
              "      <td>17/01/2019</td>\n",
              "      <td>70</td>\n",
              "      <td>Masculino</td>\n",
              "      <td>Casado</td>\n",
              "      <td>ENSINO MEDIO</td>\n",
              "      <td>Volutário</td>\n",
              "      <td>Retorno</td>\n",
              "      <td>Voluntária</td>\n",
              "      <td>O+</td>\n",
              "      <td>NÃO</td>\n",
              "      <td>NÃO</td>\n",
              "      <td>NÃO</td>\n",
              "      <td>INAPTO</td>\n",
              "      <td>INAPTO</td>\n",
              "      <td>SEM CONDUTA</td>\n",
              "      <td>Provisória</td>\n",
              "      <td>NÃO</td>\n",
              "      <td>NÃO</td>\n",
              "    </tr>\n",
              "    <tr>\n",
              "      <th>173712</th>\n",
              "      <td>262911</td>\n",
              "      <td>20/03/2019</td>\n",
              "      <td>72</td>\n",
              "      <td>Feminino</td>\n",
              "      <td>Casado</td>\n",
              "      <td>ATE A 4. SERIE</td>\n",
              "      <td>Volutário</td>\n",
              "      <td>Primeira Vez</td>\n",
              "      <td>Voluntária</td>\n",
              "      <td>A+</td>\n",
              "      <td>NÃO</td>\n",
              "      <td>SIM</td>\n",
              "      <td>NÃO</td>\n",
              "      <td>APTO</td>\n",
              "      <td>APTO</td>\n",
              "      <td>NÂO</td>\n",
              "      <td>-</td>\n",
              "      <td>SIM</td>\n",
              "      <td>NÃO</td>\n",
              "    </tr>\n",
              "    <tr>\n",
              "      <th>177038</th>\n",
              "      <td>58124</td>\n",
              "      <td>05/04/2019</td>\n",
              "      <td>71</td>\n",
              "      <td>Masculino</td>\n",
              "      <td>Viuvo</td>\n",
              "      <td>ENSINO MEDIO</td>\n",
              "      <td>Não Voluntário</td>\n",
              "      <td>Retorno</td>\n",
              "      <td>Agendada</td>\n",
              "      <td>A+</td>\n",
              "      <td>NÃO</td>\n",
              "      <td>NÃO</td>\n",
              "      <td>NÃO</td>\n",
              "      <td>APTO</td>\n",
              "      <td>APTO</td>\n",
              "      <td>NÂO</td>\n",
              "      <td>-</td>\n",
              "      <td>SIM</td>\n",
              "      <td>NÃO</td>\n",
              "    </tr>\n",
              "    <tr>\n",
              "      <th>195224</th>\n",
              "      <td>424515</td>\n",
              "      <td>24/06/2019</td>\n",
              "      <td>70</td>\n",
              "      <td>Masculino</td>\n",
              "      <td>Casado</td>\n",
              "      <td>ENSINO MEDIO</td>\n",
              "      <td>Volutário</td>\n",
              "      <td>Retorno</td>\n",
              "      <td>Voluntária</td>\n",
              "      <td>O+</td>\n",
              "      <td>NÃO</td>\n",
              "      <td>NÃO</td>\n",
              "      <td>NÃO</td>\n",
              "      <td>INAPTO</td>\n",
              "      <td>INAPTO</td>\n",
              "      <td>SEM CONDUTA</td>\n",
              "      <td>Provisória</td>\n",
              "      <td>NÃO</td>\n",
              "      <td>NÃO</td>\n",
              "    </tr>\n",
              "    <tr>\n",
              "      <th>212173</th>\n",
              "      <td>248708</td>\n",
              "      <td>10/09/2019</td>\n",
              "      <td>70</td>\n",
              "      <td>Feminino</td>\n",
              "      <td>Viuvo</td>\n",
              "      <td>SUPERIOR COMPLETO</td>\n",
              "      <td>Volutário</td>\n",
              "      <td>Retorno</td>\n",
              "      <td>Voluntária</td>\n",
              "      <td>O+</td>\n",
              "      <td>NÃO</td>\n",
              "      <td>NÃO</td>\n",
              "      <td>NÃO</td>\n",
              "      <td>INAPTO</td>\n",
              "      <td>INAPTO</td>\n",
              "      <td>SEM CONDUTA</td>\n",
              "      <td>Provisória</td>\n",
              "      <td>NÃO</td>\n",
              "      <td>NÃO</td>\n",
              "    </tr>\n",
              "    <tr>\n",
              "      <th>223323</th>\n",
              "      <td>34758</td>\n",
              "      <td>29/10/2019</td>\n",
              "      <td>70</td>\n",
              "      <td>Masculino</td>\n",
              "      <td>Casado</td>\n",
              "      <td>ENSINO MEDIO</td>\n",
              "      <td>Volutário</td>\n",
              "      <td>Retorno</td>\n",
              "      <td>Voluntária</td>\n",
              "      <td>O+</td>\n",
              "      <td>NÃO</td>\n",
              "      <td>NÃO</td>\n",
              "      <td>NÃO</td>\n",
              "      <td>INAPTO</td>\n",
              "      <td>APTO</td>\n",
              "      <td>SEM CONDUTA</td>\n",
              "      <td>Provisória</td>\n",
              "      <td>NÃO</td>\n",
              "      <td>NÃO</td>\n",
              "    </tr>\n",
              "    <tr>\n",
              "      <th>227795</th>\n",
              "      <td>133453</td>\n",
              "      <td>21/11/2019</td>\n",
              "      <td>71</td>\n",
              "      <td>Masculino</td>\n",
              "      <td>Viuvo</td>\n",
              "      <td>ATE A 4. SERIE</td>\n",
              "      <td>Não Voluntário</td>\n",
              "      <td>Retorno</td>\n",
              "      <td>Dirigida</td>\n",
              "      <td>B+</td>\n",
              "      <td>NÃO</td>\n",
              "      <td>NÃO</td>\n",
              "      <td>NÃO</td>\n",
              "      <td>APTO</td>\n",
              "      <td>APTO</td>\n",
              "      <td>NÂO</td>\n",
              "      <td>-</td>\n",
              "      <td>SIM</td>\n",
              "      <td>NÃO</td>\n",
              "    </tr>\n",
              "    <tr>\n",
              "      <th>234841</th>\n",
              "      <td>37552</td>\n",
              "      <td>23/12/2019</td>\n",
              "      <td>70</td>\n",
              "      <td>Masculino</td>\n",
              "      <td>Casado</td>\n",
              "      <td>SUPERIOR COMPLETO</td>\n",
              "      <td>Volutário</td>\n",
              "      <td>Retorno</td>\n",
              "      <td>Voluntária</td>\n",
              "      <td>A+</td>\n",
              "      <td>NÃO</td>\n",
              "      <td>NÃO</td>\n",
              "      <td>NÃO</td>\n",
              "      <td>APTO</td>\n",
              "      <td>APTO</td>\n",
              "      <td>NÂO</td>\n",
              "      <td>-</td>\n",
              "      <td>SIM</td>\n",
              "      <td>NÃO</td>\n",
              "    </tr>\n",
              "  </tbody>\n",
              "</table>\n",
              "</div>"
            ],
            "text/plain": [
              "        PACIENTE        DATA  IDADE  ... TIPO_DE_INAPTIDÃO BOLSA_COLETADA AFERESE\n",
              "2119       81378  12/01/2017     70  ...                 -            SIM     NÃO\n",
              "20665      20166  03/04/2017     71  ...        Definitiva            NÃO     NÃO\n",
              "24422      84233  20/04/2017     74  ...                 -            SIM     NÃO\n",
              "28329     538350  09/05/2017     70  ...                 -            SIM     NÃO\n",
              "29813     111148  15/05/2017     72  ...        Provisória            NÃO     NÃO\n",
              "38111      15987  17/06/2017     70  ...                 -            SIM     NÃO\n",
              "50491      51606  14/08/2017     76  ...                 -            SIM     NÃO\n",
              "58240     182474  20/09/2017     70  ...                 -            SIM     NÃO\n",
              "72122     115220  24/11/2017     71  ...        Definitiva            NÃO     NÃO\n",
              "72156     108232  25/11/2017     89  ...                 -            SIM     NÃO\n",
              "77178      15987  20/12/2017     70  ...                 -            SIM     NÃO\n",
              "86817       7346  30/01/2018     72  ...                 -            SIM     NÃO\n",
              "101473    182474  10/04/2018     70  ...                 -            SIM     NÃO\n",
              "102597      7346  14/04/2018     72  ...                 -            SIM     NÃO\n",
              "107738    186788  07/05/2018     70  ...        Provisória            NÃO     NÃO\n",
              "108209     15987  09/05/2018     71  ...                 -            SIM     NÃO\n",
              "110773     58124  22/05/2018     70  ...                 -            SIM     NÃO\n",
              "115922      7346  13/06/2018     72  ...                 -            SIM     NÃO\n",
              "127003      1646  07/08/2018     70  ...                 -            SIM     NÃO\n",
              "130030      7346  21/08/2018     72  ...                 -            SIM     NÃO\n",
              "131810    142474  29/08/2018     70  ...                 -            SIM     NÃO\n",
              "137597     58124  26/09/2018     70  ...                 -            SIM     NÃO\n",
              "143030     15138  22/10/2018     70  ...                 -            SIM     NÃO\n",
              "146173    186788  08/11/2018     70  ...        Provisória            NÃO     NÃO\n",
              "147512    186788  13/11/2018     70  ...        Provisória            NÃO     NÃO\n",
              "150173     20170  24/11/2018     70  ...                 -            SIM     NÃO\n",
              "156627     58124  29/12/2018     70  ...                 -            SIM     NÃO\n",
              "157088      1646  03/01/2019     70  ...                 -            SIM     NÃO\n",
              "160332    424515  17/01/2019     70  ...        Provisória            NÃO     NÃO\n",
              "173712    262911  20/03/2019     72  ...                 -            SIM     NÃO\n",
              "177038     58124  05/04/2019     71  ...                 -            SIM     NÃO\n",
              "195224    424515  24/06/2019     70  ...        Provisória            NÃO     NÃO\n",
              "212173    248708  10/09/2019     70  ...        Provisória            NÃO     NÃO\n",
              "223323     34758  29/10/2019     70  ...        Provisória            NÃO     NÃO\n",
              "227795    133453  21/11/2019     71  ...                 -            SIM     NÃO\n",
              "234841     37552  23/12/2019     70  ...                 -            SIM     NÃO\n",
              "\n",
              "[36 rows x 19 columns]"
            ]
          },
          "metadata": {
            "tags": []
          },
          "execution_count": 104
        }
      ]
    },
    {
      "cell_type": "code",
      "metadata": {
        "id": "hReOtNDRaihS"
      },
      "source": [
        "#DELETA OS REGISTROS EM QUE O ERRO 1 É VERDADEIRO\n",
        "dados_doadores.drop(dados_doadores.loc[(dados_doadores['TRIAGEM_CLÍNICA']=='INAPTO') & (dados_doadores['BOLSA_COLETADA']=='SIM')].index, inplace=True)"
      ],
      "execution_count": 105,
      "outputs": []
    },
    {
      "cell_type": "code",
      "metadata": {
        "id": "bo-VudB8aihT"
      },
      "source": [
        "#DELETA OS REGISTROS EM QUE O ERRO 3 É VERDADEIRO\n",
        "dados_doadores.drop(dados_doadores.loc[(dados_doadores['IDADE'] < 18)].index, inplace=True)"
      ],
      "execution_count": 106,
      "outputs": []
    },
    {
      "cell_type": "code",
      "metadata": {
        "id": "uIMoZdDKaihU"
      },
      "source": [
        "#DELETA OS REGISTROS EM QUE O ERRO 4 É VERDADEIRO\n",
        "dados_doadores.drop(dados_doadores.loc[(dados_doadores['IDADE'] > 69)].index, inplace=True)"
      ],
      "execution_count": 107,
      "outputs": []
    },
    {
      "cell_type": "code",
      "metadata": {
        "id": "GmRD-jqyaihU"
      },
      "source": [
        "#DELETA OS REGISTROS EM QUE O ERRO 5 É VERDADEIRO\n",
        "#dados_doadores.drop(dados_doadores.loc[(dados_doadores['MOTIVO_INAPTIDAO'] == 'PESO INSUFICIENTE') & (dados_doadores['IDADE'] >= 18)].index, inplace=True)"
      ],
      "execution_count": 108,
      "outputs": []
    },
    {
      "cell_type": "code",
      "metadata": {
        "colab": {
          "base_uri": "https://localhost:8080/"
        },
        "id": "y9PUIQ5_aihV",
        "outputId": "b360a989-bab6-4c93-b638-83f761b19604"
      },
      "source": [
        "dados_doadores.shape"
      ],
      "execution_count": 109,
      "outputs": [
        {
          "output_type": "execute_result",
          "data": {
            "text/plain": [
              "(223411, 19)"
            ]
          },
          "metadata": {
            "tags": []
          },
          "execution_count": 109
        }
      ]
    },
    {
      "cell_type": "code",
      "metadata": {
        "scrolled": false,
        "colab": {
          "base_uri": "https://localhost:8080/",
          "height": 333
        },
        "id": "ptud5wNkaihV",
        "outputId": "83580272-0c8a-4961-b295-aecd45a8a501"
      },
      "source": [
        "dados_doadores.head()"
      ],
      "execution_count": 110,
      "outputs": [
        {
          "output_type": "execute_result",
          "data": {
            "text/html": [
              "<div>\n",
              "<style scoped>\n",
              "    .dataframe tbody tr th:only-of-type {\n",
              "        vertical-align: middle;\n",
              "    }\n",
              "\n",
              "    .dataframe tbody tr th {\n",
              "        vertical-align: top;\n",
              "    }\n",
              "\n",
              "    .dataframe thead th {\n",
              "        text-align: right;\n",
              "    }\n",
              "</style>\n",
              "<table border=\"1\" class=\"dataframe\">\n",
              "  <thead>\n",
              "    <tr style=\"text-align: right;\">\n",
              "      <th></th>\n",
              "      <th>PACIENTE</th>\n",
              "      <th>DATA</th>\n",
              "      <th>IDADE</th>\n",
              "      <th>SEXO</th>\n",
              "      <th>ESTADO_CIVIL</th>\n",
              "      <th>ESCOLARIDADE</th>\n",
              "      <th>MOTIVO</th>\n",
              "      <th>FREQUENCIA DA DOACAO</th>\n",
              "      <th>TIPO_DOACAO</th>\n",
              "      <th>TIPAGEM</th>\n",
              "      <th>VOTO DE AUTO EXCLUSÃO</th>\n",
              "      <th>DESCARTE CONFIDENCIAL</th>\n",
              "      <th>REAÇÕES ADVERSAS A DOACÃO</th>\n",
              "      <th>TRIAGEM_CLÍNICA</th>\n",
              "      <th>TRIAGEM_HEMATO</th>\n",
              "      <th>INAPTIDÃO_SOROLÓGICA</th>\n",
              "      <th>TIPO_DE_INAPTIDÃO</th>\n",
              "      <th>BOLSA_COLETADA</th>\n",
              "      <th>AFERESE</th>\n",
              "    </tr>\n",
              "  </thead>\n",
              "  <tbody>\n",
              "    <tr>\n",
              "      <th>0</th>\n",
              "      <td>335741</td>\n",
              "      <td>02/01/2017</td>\n",
              "      <td>62</td>\n",
              "      <td>Masculino</td>\n",
              "      <td>Casado</td>\n",
              "      <td>ENSINO MEDIO</td>\n",
              "      <td>Não Voluntário</td>\n",
              "      <td>Retorno</td>\n",
              "      <td>Dirigida</td>\n",
              "      <td>O+</td>\n",
              "      <td>NÃO</td>\n",
              "      <td>NÃO</td>\n",
              "      <td>NÃO</td>\n",
              "      <td>APTO</td>\n",
              "      <td>APTO</td>\n",
              "      <td>NÂO</td>\n",
              "      <td>-</td>\n",
              "      <td>SIM</td>\n",
              "      <td>NÃO</td>\n",
              "    </tr>\n",
              "    <tr>\n",
              "      <th>1</th>\n",
              "      <td>14203</td>\n",
              "      <td>02/01/2017</td>\n",
              "      <td>45</td>\n",
              "      <td>Masculino</td>\n",
              "      <td>Solteiro</td>\n",
              "      <td>ENSINO MEDIO</td>\n",
              "      <td>Não Voluntário</td>\n",
              "      <td>Retorno</td>\n",
              "      <td>Agendada</td>\n",
              "      <td>O+</td>\n",
              "      <td>NÃO</td>\n",
              "      <td>NÃO</td>\n",
              "      <td>NÃO</td>\n",
              "      <td>APTO</td>\n",
              "      <td>APTO</td>\n",
              "      <td>NÂO</td>\n",
              "      <td>-</td>\n",
              "      <td>SIM</td>\n",
              "      <td>NÃO</td>\n",
              "    </tr>\n",
              "    <tr>\n",
              "      <th>2</th>\n",
              "      <td>90149</td>\n",
              "      <td>02/01/2017</td>\n",
              "      <td>36</td>\n",
              "      <td>Masculino</td>\n",
              "      <td>Casado</td>\n",
              "      <td>ENSINO MEDIO</td>\n",
              "      <td>Não Voluntário</td>\n",
              "      <td>Retorno</td>\n",
              "      <td>Agendada</td>\n",
              "      <td>O+</td>\n",
              "      <td>NÃO</td>\n",
              "      <td>NÃO</td>\n",
              "      <td>NÃO</td>\n",
              "      <td>APTO</td>\n",
              "      <td>APTO</td>\n",
              "      <td>NÂO</td>\n",
              "      <td>-</td>\n",
              "      <td>SIM</td>\n",
              "      <td>NÃO</td>\n",
              "    </tr>\n",
              "    <tr>\n",
              "      <th>3</th>\n",
              "      <td>578016</td>\n",
              "      <td>02/01/2017</td>\n",
              "      <td>23</td>\n",
              "      <td>Feminino</td>\n",
              "      <td>Solteiro</td>\n",
              "      <td>SUPERIOR INCOMPLETO</td>\n",
              "      <td>Volutário</td>\n",
              "      <td>Retorno</td>\n",
              "      <td>Voluntária</td>\n",
              "      <td>SEM TIPAGEM</td>\n",
              "      <td>NÃO</td>\n",
              "      <td>NÃO</td>\n",
              "      <td>NÃO</td>\n",
              "      <td>INAPTO</td>\n",
              "      <td>INAPTO</td>\n",
              "      <td>SEM CONDUTA</td>\n",
              "      <td>Provisória</td>\n",
              "      <td>NÃO</td>\n",
              "      <td>NÃO</td>\n",
              "    </tr>\n",
              "    <tr>\n",
              "      <th>4</th>\n",
              "      <td>58767</td>\n",
              "      <td>02/01/2017</td>\n",
              "      <td>47</td>\n",
              "      <td>Masculino</td>\n",
              "      <td>Casado</td>\n",
              "      <td>ENSINO MEDIO</td>\n",
              "      <td>Volutário</td>\n",
              "      <td>Retorno</td>\n",
              "      <td>Voluntária</td>\n",
              "      <td>A+</td>\n",
              "      <td>NÃO</td>\n",
              "      <td>NÃO</td>\n",
              "      <td>NÃO</td>\n",
              "      <td>INAPTO</td>\n",
              "      <td>APTO</td>\n",
              "      <td>SEM CONDUTA</td>\n",
              "      <td>Provisória</td>\n",
              "      <td>NÃO</td>\n",
              "      <td>NÃO</td>\n",
              "    </tr>\n",
              "  </tbody>\n",
              "</table>\n",
              "</div>"
            ],
            "text/plain": [
              "   PACIENTE        DATA  IDADE  ... TIPO_DE_INAPTIDÃO BOLSA_COLETADA AFERESE\n",
              "0    335741  02/01/2017     62  ...                 -            SIM     NÃO\n",
              "1     14203  02/01/2017     45  ...                 -            SIM     NÃO\n",
              "2     90149  02/01/2017     36  ...                 -            SIM     NÃO\n",
              "3    578016  02/01/2017     23  ...        Provisória            NÃO     NÃO\n",
              "4     58767  02/01/2017     47  ...        Provisória            NÃO     NÃO\n",
              "\n",
              "[5 rows x 19 columns]"
            ]
          },
          "metadata": {
            "tags": []
          },
          "execution_count": 110
        }
      ]
    },
    {
      "cell_type": "code",
      "metadata": {
        "id": "x59Q2oFjaihW"
      },
      "source": [
        "dados_doadores.insert(3, 'ANO', dados_doadores['DATA'].str.slice(start=6), allow_duplicates=False)\n",
        "dados_doadores.insert(4, 'MES', dados_doadores['DATA'].str.slice(start=3,stop=5), allow_duplicates=False)\n",
        "dados_doadores.insert(5, 'DIA', dados_doadores['DATA'].str.slice(start=0,stop=2), allow_duplicates=False)\n",
        "dados_doadores = dados_doadores.drop(columns=['DATA'])"
      ],
      "execution_count": 111,
      "outputs": []
    },
    {
      "cell_type": "code",
      "metadata": {
        "scrolled": true,
        "colab": {
          "base_uri": "https://localhost:8080/",
          "height": 333
        },
        "id": "iizIk0DXaihW",
        "outputId": "906d3e4b-c700-46e6-dbc1-77481857523b"
      },
      "source": [
        "dados_doadores.head()"
      ],
      "execution_count": 112,
      "outputs": [
        {
          "output_type": "execute_result",
          "data": {
            "text/html": [
              "<div>\n",
              "<style scoped>\n",
              "    .dataframe tbody tr th:only-of-type {\n",
              "        vertical-align: middle;\n",
              "    }\n",
              "\n",
              "    .dataframe tbody tr th {\n",
              "        vertical-align: top;\n",
              "    }\n",
              "\n",
              "    .dataframe thead th {\n",
              "        text-align: right;\n",
              "    }\n",
              "</style>\n",
              "<table border=\"1\" class=\"dataframe\">\n",
              "  <thead>\n",
              "    <tr style=\"text-align: right;\">\n",
              "      <th></th>\n",
              "      <th>PACIENTE</th>\n",
              "      <th>IDADE</th>\n",
              "      <th>ANO</th>\n",
              "      <th>MES</th>\n",
              "      <th>DIA</th>\n",
              "      <th>SEXO</th>\n",
              "      <th>ESTADO_CIVIL</th>\n",
              "      <th>ESCOLARIDADE</th>\n",
              "      <th>MOTIVO</th>\n",
              "      <th>FREQUENCIA DA DOACAO</th>\n",
              "      <th>TIPO_DOACAO</th>\n",
              "      <th>TIPAGEM</th>\n",
              "      <th>VOTO DE AUTO EXCLUSÃO</th>\n",
              "      <th>DESCARTE CONFIDENCIAL</th>\n",
              "      <th>REAÇÕES ADVERSAS A DOACÃO</th>\n",
              "      <th>TRIAGEM_CLÍNICA</th>\n",
              "      <th>TRIAGEM_HEMATO</th>\n",
              "      <th>INAPTIDÃO_SOROLÓGICA</th>\n",
              "      <th>TIPO_DE_INAPTIDÃO</th>\n",
              "      <th>BOLSA_COLETADA</th>\n",
              "      <th>AFERESE</th>\n",
              "    </tr>\n",
              "  </thead>\n",
              "  <tbody>\n",
              "    <tr>\n",
              "      <th>0</th>\n",
              "      <td>335741</td>\n",
              "      <td>62</td>\n",
              "      <td>2017</td>\n",
              "      <td>01</td>\n",
              "      <td>02</td>\n",
              "      <td>Masculino</td>\n",
              "      <td>Casado</td>\n",
              "      <td>ENSINO MEDIO</td>\n",
              "      <td>Não Voluntário</td>\n",
              "      <td>Retorno</td>\n",
              "      <td>Dirigida</td>\n",
              "      <td>O+</td>\n",
              "      <td>NÃO</td>\n",
              "      <td>NÃO</td>\n",
              "      <td>NÃO</td>\n",
              "      <td>APTO</td>\n",
              "      <td>APTO</td>\n",
              "      <td>NÂO</td>\n",
              "      <td>-</td>\n",
              "      <td>SIM</td>\n",
              "      <td>NÃO</td>\n",
              "    </tr>\n",
              "    <tr>\n",
              "      <th>1</th>\n",
              "      <td>14203</td>\n",
              "      <td>45</td>\n",
              "      <td>2017</td>\n",
              "      <td>01</td>\n",
              "      <td>02</td>\n",
              "      <td>Masculino</td>\n",
              "      <td>Solteiro</td>\n",
              "      <td>ENSINO MEDIO</td>\n",
              "      <td>Não Voluntário</td>\n",
              "      <td>Retorno</td>\n",
              "      <td>Agendada</td>\n",
              "      <td>O+</td>\n",
              "      <td>NÃO</td>\n",
              "      <td>NÃO</td>\n",
              "      <td>NÃO</td>\n",
              "      <td>APTO</td>\n",
              "      <td>APTO</td>\n",
              "      <td>NÂO</td>\n",
              "      <td>-</td>\n",
              "      <td>SIM</td>\n",
              "      <td>NÃO</td>\n",
              "    </tr>\n",
              "    <tr>\n",
              "      <th>2</th>\n",
              "      <td>90149</td>\n",
              "      <td>36</td>\n",
              "      <td>2017</td>\n",
              "      <td>01</td>\n",
              "      <td>02</td>\n",
              "      <td>Masculino</td>\n",
              "      <td>Casado</td>\n",
              "      <td>ENSINO MEDIO</td>\n",
              "      <td>Não Voluntário</td>\n",
              "      <td>Retorno</td>\n",
              "      <td>Agendada</td>\n",
              "      <td>O+</td>\n",
              "      <td>NÃO</td>\n",
              "      <td>NÃO</td>\n",
              "      <td>NÃO</td>\n",
              "      <td>APTO</td>\n",
              "      <td>APTO</td>\n",
              "      <td>NÂO</td>\n",
              "      <td>-</td>\n",
              "      <td>SIM</td>\n",
              "      <td>NÃO</td>\n",
              "    </tr>\n",
              "    <tr>\n",
              "      <th>3</th>\n",
              "      <td>578016</td>\n",
              "      <td>23</td>\n",
              "      <td>2017</td>\n",
              "      <td>01</td>\n",
              "      <td>02</td>\n",
              "      <td>Feminino</td>\n",
              "      <td>Solteiro</td>\n",
              "      <td>SUPERIOR INCOMPLETO</td>\n",
              "      <td>Volutário</td>\n",
              "      <td>Retorno</td>\n",
              "      <td>Voluntária</td>\n",
              "      <td>SEM TIPAGEM</td>\n",
              "      <td>NÃO</td>\n",
              "      <td>NÃO</td>\n",
              "      <td>NÃO</td>\n",
              "      <td>INAPTO</td>\n",
              "      <td>INAPTO</td>\n",
              "      <td>SEM CONDUTA</td>\n",
              "      <td>Provisória</td>\n",
              "      <td>NÃO</td>\n",
              "      <td>NÃO</td>\n",
              "    </tr>\n",
              "    <tr>\n",
              "      <th>4</th>\n",
              "      <td>58767</td>\n",
              "      <td>47</td>\n",
              "      <td>2017</td>\n",
              "      <td>01</td>\n",
              "      <td>02</td>\n",
              "      <td>Masculino</td>\n",
              "      <td>Casado</td>\n",
              "      <td>ENSINO MEDIO</td>\n",
              "      <td>Volutário</td>\n",
              "      <td>Retorno</td>\n",
              "      <td>Voluntária</td>\n",
              "      <td>A+</td>\n",
              "      <td>NÃO</td>\n",
              "      <td>NÃO</td>\n",
              "      <td>NÃO</td>\n",
              "      <td>INAPTO</td>\n",
              "      <td>APTO</td>\n",
              "      <td>SEM CONDUTA</td>\n",
              "      <td>Provisória</td>\n",
              "      <td>NÃO</td>\n",
              "      <td>NÃO</td>\n",
              "    </tr>\n",
              "  </tbody>\n",
              "</table>\n",
              "</div>"
            ],
            "text/plain": [
              "   PACIENTE  IDADE   ANO  ... TIPO_DE_INAPTIDÃO BOLSA_COLETADA AFERESE\n",
              "0    335741     62  2017  ...                 -            SIM     NÃO\n",
              "1     14203     45  2017  ...                 -            SIM     NÃO\n",
              "2     90149     36  2017  ...                 -            SIM     NÃO\n",
              "3    578016     23  2017  ...        Provisória            NÃO     NÃO\n",
              "4     58767     47  2017  ...        Provisória            NÃO     NÃO\n",
              "\n",
              "[5 rows x 21 columns]"
            ]
          },
          "metadata": {
            "tags": []
          },
          "execution_count": 112
        }
      ]
    },
    {
      "cell_type": "code",
      "metadata": {
        "id": "v7JJwDqNaihX"
      },
      "source": [
        "dados_doadores = dados_doadores.dropna(subset=['BOLSA_COLETADA','TIPO_DOACAO'])"
      ],
      "execution_count": 113,
      "outputs": []
    },
    {
      "cell_type": "code",
      "metadata": {
        "colab": {
          "base_uri": "https://localhost:8080/"
        },
        "id": "2ilOjO2MaihY",
        "outputId": "9d568c43-536c-4d31-bcfd-179c02968238"
      },
      "source": [
        "dados_doadores.shape"
      ],
      "execution_count": 114,
      "outputs": [
        {
          "output_type": "execute_result",
          "data": {
            "text/plain": [
              "(223340, 21)"
            ]
          },
          "metadata": {
            "tags": []
          },
          "execution_count": 114
        }
      ]
    },
    {
      "cell_type": "code",
      "metadata": {
        "scrolled": true,
        "colab": {
          "base_uri": "https://localhost:8080/"
        },
        "id": "jxg-dIP-aihZ",
        "outputId": "f13d5ca1-997b-4053-a079-7180f7d992f4"
      },
      "source": [
        "#procurando valores nulos\n",
        "\n",
        "dados_doadores.isnull().sum()"
      ],
      "execution_count": 115,
      "outputs": [
        {
          "output_type": "execute_result",
          "data": {
            "text/plain": [
              "PACIENTE                     0\n",
              "IDADE                        0\n",
              "ANO                          0\n",
              "MES                          0\n",
              "DIA                          0\n",
              "SEXO                         0\n",
              "ESTADO_CIVIL                 0\n",
              "ESCOLARIDADE                 0\n",
              "MOTIVO                       0\n",
              "FREQUENCIA DA DOACAO         0\n",
              "TIPO_DOACAO                  0\n",
              "TIPAGEM                      0\n",
              "VOTO DE AUTO EXCLUSÃO        0\n",
              "DESCARTE CONFIDENCIAL        0\n",
              "REAÇÕES ADVERSAS A DOACÃO    0\n",
              "TRIAGEM_CLÍNICA              0\n",
              "TRIAGEM_HEMATO               0\n",
              "INAPTIDÃO_SOROLÓGICA         0\n",
              "TIPO_DE_INAPTIDÃO            0\n",
              "BOLSA_COLETADA               0\n",
              "AFERESE                      0\n",
              "dtype: int64"
            ]
          },
          "metadata": {
            "tags": []
          },
          "execution_count": 115
        }
      ]
    },
    {
      "cell_type": "code",
      "metadata": {
        "id": "7VyNVe4UaihZ"
      },
      "source": [
        "#dados_doadores.to_csv('C:/Users/renato.lessa/OneDrive - PRODAM Office 365/03 - Pessoal/02 - PÓS GRADUAÇÃO/08 - Intro Machine Learnig/dados_doadores.csv', index=False, encoding='ISO 8859-1', sep=';')"
      ],
      "execution_count": 116,
      "outputs": []
    },
    {
      "cell_type": "code",
      "metadata": {
        "scrolled": true,
        "colab": {
          "base_uri": "https://localhost:8080/"
        },
        "id": "xSULQWe3aiha",
        "outputId": "43271842-5ea1-41e4-8806-ac162c7ee5d0"
      },
      "source": [
        "dados_doadores['ESCOLARIDADE'].unique()"
      ],
      "execution_count": 117,
      "outputs": [
        {
          "output_type": "execute_result",
          "data": {
            "text/plain": [
              "array(['ENSINO MEDIO', 'SUPERIOR INCOMPLETO', 'SUPERIOR COMPLETO',\n",
              "       'ENSINO FUNDAMENTAL', 'POS-GRADUADO', 'ATE A 4. SERIE',\n",
              "       'Não definido', 'ENSINO PROFISSIONALIZANTE', 'MESTRADO',\n",
              "       'ANALFABETO', 'DOUTORADO', 'NÃO SOUBE RESPONDER',\n",
              "       'ALFABETIZAÇÃO ADULTA'], dtype=object)"
            ]
          },
          "metadata": {
            "tags": []
          },
          "execution_count": 117
        }
      ]
    },
    {
      "cell_type": "code",
      "metadata": {
        "colab": {
          "base_uri": "https://localhost:8080/"
        },
        "id": "-E59pM4daiha",
        "outputId": "ddb548cc-ce45-4aec-9114-9d147242d430"
      },
      "source": [
        "dados_doadores['ESCOLARIDADE'].unique()"
      ],
      "execution_count": 118,
      "outputs": [
        {
          "output_type": "execute_result",
          "data": {
            "text/plain": [
              "array(['ENSINO MEDIO', 'SUPERIOR INCOMPLETO', 'SUPERIOR COMPLETO',\n",
              "       'ENSINO FUNDAMENTAL', 'POS-GRADUADO', 'ATE A 4. SERIE',\n",
              "       'Não definido', 'ENSINO PROFISSIONALIZANTE', 'MESTRADO',\n",
              "       'ANALFABETO', 'DOUTORADO', 'NÃO SOUBE RESPONDER',\n",
              "       'ALFABETIZAÇÃO ADULTA'], dtype=object)"
            ]
          },
          "metadata": {
            "tags": []
          },
          "execution_count": 118
        }
      ]
    },
    {
      "cell_type": "code",
      "metadata": {
        "id": "YgruE4jFaiha"
      },
      "source": [
        "#alterar o valor da coluna sexo de Masculino para 1 e Feminino par 2\n",
        "dados_doadores['SEXO'] = dados_doadores['SEXO'].map({'Masculino': 1, 'Feminino': 2}, na_action=None)"
      ],
      "execution_count": 119,
      "outputs": []
    },
    {
      "cell_type": "code",
      "metadata": {
        "id": "eo1BDiXPaihb"
      },
      "source": [
        "#alterar os valores da coluna estado_civil para inteiros\n",
        "#1 - Casado\n",
        "#2 - Solteiro\n",
        "#3 - União Estável\n",
        "#4 - Viuvo\n",
        "#5 - Divorciado\n",
        "#6 - Não definido\n",
        "dados_doadores['ESTADO_CIVIL'] = dados_doadores['ESTADO_CIVIL'].map({'Casado'       : 1, \n",
        "                                                                     'Solteiro'     : 2,\n",
        "                                                                     'União Estável': 3,\n",
        "                                                                     'Viuvo'        : 4,\n",
        "                                                                     'Divorciado'   : 5,\n",
        "                                                                     'Não definido' : 6}, na_action=None)"
      ],
      "execution_count": 120,
      "outputs": []
    },
    {
      "cell_type": "code",
      "metadata": {
        "colab": {
          "base_uri": "https://localhost:8080/"
        },
        "id": "SMMUYmHPaihb",
        "outputId": "ed4f6d94-a3c7-460d-b7b4-32f3b499b614"
      },
      "source": [
        "dados_doadores['ESTADO_CIVIL'].unique()"
      ],
      "execution_count": 121,
      "outputs": [
        {
          "output_type": "execute_result",
          "data": {
            "text/plain": [
              "array([1, 2, 3, 4, 5, 6])"
            ]
          },
          "metadata": {
            "tags": []
          },
          "execution_count": 121
        }
      ]
    },
    {
      "cell_type": "code",
      "metadata": {
        "id": "xnhQUo8_aihc"
      },
      "source": [
        "#alterar os valores da coluna ESCOLARIDADE para inteiros\n",
        "#1 - ENSINO MEDIO\n",
        "#2 - SUPERIOR INCOMPLETO\n",
        "#3 - SUPERIOR COMPLETO\n",
        "#4 - ENSINO FUNDAMENTAL\n",
        "#5 - POS-GRADUADO\n",
        "#6 - ATE A 4. SERIE\n",
        "#7 - Não definido\n",
        "#8 - ENSINO PROFISSIONALIZANTE\n",
        "#9 - MESTRADO\n",
        "#10 - ANALFABETO\n",
        "#11 - DOUTORADO\n",
        "#12 - NÃO SOUBE RESPONDER\n",
        "#13 - ALFABETIZAÇÃO ADULTA\n",
        "\n",
        "dados_doadores['ESCOLARIDADE'] = dados_doadores['ESCOLARIDADE'].map({'ENSINO MEDIO'             : 1, \n",
        "                                                                     'SUPERIOR INCOMPLETO'      : 2,\n",
        "                                                                     'SUPERIOR COMPLETO'        : 3,\n",
        "                                                                     'ENSINO FUNDAMENTAL'       : 4,\n",
        "                                                                     'POS-GRADUADO'             : 5,\n",
        "                                                                     'ATE A 4. SERIE'           : 6,\n",
        "                                                                     'Não definido'             : 7,\n",
        "                                                                    'ENSINO PROFISSIONALIZANTE' : 8,\n",
        "                                                                    'MESTRADO'                  : 9,\n",
        "                                                                    'ANALFABETO'                : 10,\n",
        "                                                                    'DOUTORADO'                 : 11,\n",
        "                                                                    'NÃO SOUBE RESPONDER'       : 12,\n",
        "                                                                    'ALFABETIZAÇÃO ADULTA'      : 13}, na_action=None)"
      ],
      "execution_count": 122,
      "outputs": []
    },
    {
      "cell_type": "code",
      "metadata": {
        "colab": {
          "base_uri": "https://localhost:8080/"
        },
        "id": "fGpjPq2Saihe",
        "outputId": "e08c644f-2ab6-47f1-9d78-ab0877afc2fa"
      },
      "source": [
        "dados_doadores['ESCOLARIDADE'].unique()"
      ],
      "execution_count": 123,
      "outputs": [
        {
          "output_type": "execute_result",
          "data": {
            "text/plain": [
              "array([ 1,  2,  3,  4,  5,  6,  7,  8,  9, 10, 11, 12, 13])"
            ]
          },
          "metadata": {
            "tags": []
          },
          "execution_count": 123
        }
      ]
    },
    {
      "cell_type": "code",
      "metadata": {
        "colab": {
          "base_uri": "https://localhost:8080/"
        },
        "id": "7jvbkF25aihf",
        "outputId": "46c11019-812a-4807-bb05-73e7e7797835"
      },
      "source": [
        "dados_doadores['MOTIVO'].unique()"
      ],
      "execution_count": 124,
      "outputs": [
        {
          "output_type": "execute_result",
          "data": {
            "text/plain": [
              "array(['Não Voluntário', 'Volutário'], dtype=object)"
            ]
          },
          "metadata": {
            "tags": []
          },
          "execution_count": 124
        }
      ]
    },
    {
      "cell_type": "code",
      "metadata": {
        "id": "0no2S1Fdaihf"
      },
      "source": [
        "#alterar o valor da coluna MOTIVO de Volutário para 1 e Não Voluntário par 2\n",
        "dados_doadores['MOTIVO'] = dados_doadores['MOTIVO'].map({'Volutário': 1, 'Não Voluntário': 2}, na_action=None)"
      ],
      "execution_count": 125,
      "outputs": []
    },
    {
      "cell_type": "code",
      "metadata": {
        "colab": {
          "base_uri": "https://localhost:8080/"
        },
        "id": "XRA-5uW_aihf",
        "outputId": "93c29a89-e63b-4c8d-8554-168436cae65f"
      },
      "source": [
        "dados_doadores['FREQUENCIA DA DOACAO'].unique()"
      ],
      "execution_count": 126,
      "outputs": [
        {
          "output_type": "execute_result",
          "data": {
            "text/plain": [
              "array(['Retorno', 'Primeira Vez'], dtype=object)"
            ]
          },
          "metadata": {
            "tags": []
          },
          "execution_count": 126
        }
      ]
    },
    {
      "cell_type": "code",
      "metadata": {
        "id": "0VTzVSB7aihg"
      },
      "source": [
        "#alterar o valor da coluna FREQUENCIA DA DOACAO de Retorno para 1 e Primeira Vez para 2\n",
        "dados_doadores['FREQUENCIA DA DOACAO'] = dados_doadores['FREQUENCIA DA DOACAO'].map({'Retorno': 1, 'Primeira Vez': 2}, na_action=None)"
      ],
      "execution_count": 127,
      "outputs": []
    },
    {
      "cell_type": "code",
      "metadata": {
        "colab": {
          "base_uri": "https://localhost:8080/"
        },
        "id": "TWDlYvP0aihg",
        "outputId": "064cca5c-2b39-4074-8894-2ed2bf91b252"
      },
      "source": [
        "dados_doadores['TIPO_DOACAO'].unique()"
      ],
      "execution_count": 128,
      "outputs": [
        {
          "output_type": "execute_result",
          "data": {
            "text/plain": [
              "array(['Dirigida', 'Agendada', 'Voluntária', 'Convocada'], dtype=object)"
            ]
          },
          "metadata": {
            "tags": []
          },
          "execution_count": 128
        }
      ]
    },
    {
      "cell_type": "code",
      "metadata": {
        "id": "RYiJ-_eXaihh"
      },
      "source": [
        "#alterar os valores da coluna TIPO_DOACAO para inteiros\n",
        "#1 - Dirigida\n",
        "#2 - Agendada\n",
        "#3 - Voluntária\n",
        "#4 - Convocada\n",
        "dados_doadores['TIPO_DOACAO'] = dados_doadores['TIPO_DOACAO'].map({'Dirigida'   : 1, \n",
        "                                                                   'Agendada'   : 2,\n",
        "                                                                   'Voluntária' : 3,\n",
        "                                                                   'Convocada'  : 4}, na_action=None)"
      ],
      "execution_count": 129,
      "outputs": []
    },
    {
      "cell_type": "code",
      "metadata": {
        "colab": {
          "base_uri": "https://localhost:8080/"
        },
        "id": "UFTFCF4Uaihj",
        "outputId": "393f31f7-a791-4d88-c770-7aa70d075270"
      },
      "source": [
        "dados_doadores['TIPAGEM'].unique()"
      ],
      "execution_count": 130,
      "outputs": [
        {
          "output_type": "execute_result",
          "data": {
            "text/plain": [
              "array(['O+', 'SEM TIPAGEM', 'A+', 'O-', 'B+', 'B-', 'A-', 'AB-', 'AB+',\n",
              "       'A1+', 'ON', 'A2+', 'A2B+', 'A1-', ' A+'], dtype=object)"
            ]
          },
          "metadata": {
            "tags": []
          },
          "execution_count": 130
        }
      ]
    },
    {
      "cell_type": "code",
      "metadata": {
        "id": "CA0T6IUeaihk"
      },
      "source": [
        "#exclusão dos tipos de sangue que não existem\n",
        "dados_doadores.drop(dados_doadores.loc[(dados_doadores['TIPAGEM'] == 'A1+')].index , inplace=True)\n",
        "dados_doadores.drop(dados_doadores.loc[(dados_doadores['TIPAGEM'] == 'ON')].index  , inplace=True)\n",
        "dados_doadores.drop(dados_doadores.loc[(dados_doadores['TIPAGEM'] == 'A2+')].index , inplace=True)\n",
        "dados_doadores.drop(dados_doadores.loc[(dados_doadores['TIPAGEM'] == 'A2B+')].index, inplace=True)\n",
        "dados_doadores.drop(dados_doadores.loc[(dados_doadores['TIPAGEM'] == 'A1-')].index , inplace=True) "
      ],
      "execution_count": 131,
      "outputs": []
    },
    {
      "cell_type": "code",
      "metadata": {
        "colab": {
          "base_uri": "https://localhost:8080/"
        },
        "id": "jc_svLSFaihl",
        "outputId": "36763224-6b4d-4f81-8f3f-887e6cdd9069"
      },
      "source": [
        "dados_doadores.shape"
      ],
      "execution_count": 132,
      "outputs": [
        {
          "output_type": "execute_result",
          "data": {
            "text/plain": [
              "(223314, 21)"
            ]
          },
          "metadata": {
            "tags": []
          },
          "execution_count": 132
        }
      ]
    },
    {
      "cell_type": "code",
      "metadata": {
        "colab": {
          "base_uri": "https://localhost:8080/"
        },
        "id": "ZzOIFiTQaihm",
        "outputId": "c0d13eee-3485-4dcf-8698-0040a742ddf3"
      },
      "source": [
        "dados_doadores['TIPAGEM'].unique()"
      ],
      "execution_count": 133,
      "outputs": [
        {
          "output_type": "execute_result",
          "data": {
            "text/plain": [
              "array(['O+', 'SEM TIPAGEM', 'A+', 'O-', 'B+', 'B-', 'A-', 'AB-', 'AB+',\n",
              "       ' A+'], dtype=object)"
            ]
          },
          "metadata": {
            "tags": []
          },
          "execution_count": 133
        }
      ]
    },
    {
      "cell_type": "code",
      "metadata": {
        "colab": {
          "base_uri": "https://localhost:8080/",
          "height": 191
        },
        "id": "DM8im7DXaihn",
        "outputId": "956a6def-1a49-4436-807f-2c1307715edd"
      },
      "source": [
        "dados_doadores.loc[dados_doadores['TIPAGEM'] == ' A+']"
      ],
      "execution_count": 134,
      "outputs": [
        {
          "output_type": "execute_result",
          "data": {
            "text/html": [
              "<div>\n",
              "<style scoped>\n",
              "    .dataframe tbody tr th:only-of-type {\n",
              "        vertical-align: middle;\n",
              "    }\n",
              "\n",
              "    .dataframe tbody tr th {\n",
              "        vertical-align: top;\n",
              "    }\n",
              "\n",
              "    .dataframe thead th {\n",
              "        text-align: right;\n",
              "    }\n",
              "</style>\n",
              "<table border=\"1\" class=\"dataframe\">\n",
              "  <thead>\n",
              "    <tr style=\"text-align: right;\">\n",
              "      <th></th>\n",
              "      <th>PACIENTE</th>\n",
              "      <th>IDADE</th>\n",
              "      <th>ANO</th>\n",
              "      <th>MES</th>\n",
              "      <th>DIA</th>\n",
              "      <th>SEXO</th>\n",
              "      <th>ESTADO_CIVIL</th>\n",
              "      <th>ESCOLARIDADE</th>\n",
              "      <th>MOTIVO</th>\n",
              "      <th>FREQUENCIA DA DOACAO</th>\n",
              "      <th>TIPO_DOACAO</th>\n",
              "      <th>TIPAGEM</th>\n",
              "      <th>VOTO DE AUTO EXCLUSÃO</th>\n",
              "      <th>DESCARTE CONFIDENCIAL</th>\n",
              "      <th>REAÇÕES ADVERSAS A DOACÃO</th>\n",
              "      <th>TRIAGEM_CLÍNICA</th>\n",
              "      <th>TRIAGEM_HEMATO</th>\n",
              "      <th>INAPTIDÃO_SOROLÓGICA</th>\n",
              "      <th>TIPO_DE_INAPTIDÃO</th>\n",
              "      <th>BOLSA_COLETADA</th>\n",
              "      <th>AFERESE</th>\n",
              "    </tr>\n",
              "  </thead>\n",
              "  <tbody>\n",
              "    <tr>\n",
              "      <th>89880</th>\n",
              "      <td>618131</td>\n",
              "      <td>32</td>\n",
              "      <td>2018</td>\n",
              "      <td>02</td>\n",
              "      <td>12</td>\n",
              "      <td>2</td>\n",
              "      <td>1</td>\n",
              "      <td>2</td>\n",
              "      <td>2</td>\n",
              "      <td>1</td>\n",
              "      <td>1</td>\n",
              "      <td>A+</td>\n",
              "      <td>NÃO</td>\n",
              "      <td>NÃO</td>\n",
              "      <td>NÃO</td>\n",
              "      <td>INAPTO</td>\n",
              "      <td>INAPTO</td>\n",
              "      <td>SEM CONDUTA</td>\n",
              "      <td>Provisória</td>\n",
              "      <td>NÃO</td>\n",
              "      <td>NÃO</td>\n",
              "    </tr>\n",
              "    <tr>\n",
              "      <th>95875</th>\n",
              "      <td>627659</td>\n",
              "      <td>39</td>\n",
              "      <td>2018</td>\n",
              "      <td>03</td>\n",
              "      <td>16</td>\n",
              "      <td>2</td>\n",
              "      <td>2</td>\n",
              "      <td>1</td>\n",
              "      <td>1</td>\n",
              "      <td>1</td>\n",
              "      <td>3</td>\n",
              "      <td>A+</td>\n",
              "      <td>NÃO</td>\n",
              "      <td>NÃO</td>\n",
              "      <td>NÃO</td>\n",
              "      <td>INAPTO</td>\n",
              "      <td>APTO</td>\n",
              "      <td>SEM CONDUTA</td>\n",
              "      <td>Provisória</td>\n",
              "      <td>NÃO</td>\n",
              "      <td>NÃO</td>\n",
              "    </tr>\n",
              "    <tr>\n",
              "      <th>210767</th>\n",
              "      <td>627659</td>\n",
              "      <td>40</td>\n",
              "      <td>2019</td>\n",
              "      <td>09</td>\n",
              "      <td>02</td>\n",
              "      <td>2</td>\n",
              "      <td>2</td>\n",
              "      <td>1</td>\n",
              "      <td>2</td>\n",
              "      <td>1</td>\n",
              "      <td>1</td>\n",
              "      <td>A+</td>\n",
              "      <td>NÃO</td>\n",
              "      <td>NÃO</td>\n",
              "      <td>NÃO</td>\n",
              "      <td>INAPTO</td>\n",
              "      <td>INAPTO</td>\n",
              "      <td>SEM CONDUTA</td>\n",
              "      <td>Provisória</td>\n",
              "      <td>NÃO</td>\n",
              "      <td>NÃO</td>\n",
              "    </tr>\n",
              "  </tbody>\n",
              "</table>\n",
              "</div>"
            ],
            "text/plain": [
              "        PACIENTE  IDADE   ANO  ... TIPO_DE_INAPTIDÃO BOLSA_COLETADA  AFERESE\n",
              "89880     618131     32  2018  ...        Provisória            NÃO      NÃO\n",
              "95875     627659     39  2018  ...        Provisória            NÃO      NÃO\n",
              "210767    627659     40  2019  ...        Provisória            NÃO      NÃO\n",
              "\n",
              "[3 rows x 21 columns]"
            ]
          },
          "metadata": {
            "tags": []
          },
          "execution_count": 134
        }
      ]
    },
    {
      "cell_type": "code",
      "metadata": {
        "id": "IOtH_PyWaiho"
      },
      "source": [
        "#alterar os valores da coluna TIPAGEM para inteiros\n",
        "#1 - A+  e ' A+' \n",
        "#2 - A-\n",
        "#3 - O+\n",
        "#4 - O-\n",
        "#5 - B+\n",
        "#6 - B-\n",
        "#7 - AB+\n",
        "#8 - AB-\n",
        "#9 - SEM TIPAGEM\n",
        "\n",
        "dados_doadores['TIPAGEM'] = dados_doadores['TIPAGEM'].map({' A+' : 1, \n",
        "                                                                     'A+'  : 1,\n",
        "                                                                     'A-'  : 2,\n",
        "                                                                     'O+'  : 3,\n",
        "                                                                     'O-'  : 4,\n",
        "                                                                     'B+'  : 5,\n",
        "                                                                     'B-'  : 6,\n",
        "                                                                     'AB+' : 7,\n",
        "                                                                     'AB-' : 8,\n",
        "                                                                     'SEM TIPAGEM' : 9}, na_action=None)"
      ],
      "execution_count": 135,
      "outputs": []
    },
    {
      "cell_type": "code",
      "metadata": {
        "colab": {
          "base_uri": "https://localhost:8080/"
        },
        "id": "kn4nPpwqaihp",
        "outputId": "389a6956-d9de-4ff8-b654-50dc13745445"
      },
      "source": [
        "dados_doadores['TIPAGEM'].unique()"
      ],
      "execution_count": 136,
      "outputs": [
        {
          "output_type": "execute_result",
          "data": {
            "text/plain": [
              "array([3, 9, 1, 4, 5, 6, 2, 8, 7])"
            ]
          },
          "metadata": {
            "tags": []
          },
          "execution_count": 136
        }
      ]
    },
    {
      "cell_type": "code",
      "metadata": {
        "colab": {
          "base_uri": "https://localhost:8080/"
        },
        "id": "ugP5W520aihq",
        "outputId": "3949bb39-11a0-4780-e513-74e597009879"
      },
      "source": [
        "dados_doadores['VOTO DE AUTO EXCLUSÃO'].unique()"
      ],
      "execution_count": 137,
      "outputs": [
        {
          "output_type": "execute_result",
          "data": {
            "text/plain": [
              "array(['NÃO', 'SIM'], dtype=object)"
            ]
          },
          "metadata": {
            "tags": []
          },
          "execution_count": 137
        }
      ]
    },
    {
      "cell_type": "code",
      "metadata": {
        "id": "1aUSInrPaihs"
      },
      "source": [
        "#alterar os valores da coluna VOTO DE AUTO EXCLUSÃO para inteiros\n",
        "#1 - SIM\n",
        "#2 - NÃO\n",
        "dados_doadores['VOTO DE AUTO EXCLUSÃO'] = dados_doadores['VOTO DE AUTO EXCLUSÃO'].map({'SIM' : 1, 'NÃO' : 2}, na_action=None)"
      ],
      "execution_count": 138,
      "outputs": []
    },
    {
      "cell_type": "code",
      "metadata": {
        "colab": {
          "base_uri": "https://localhost:8080/"
        },
        "id": "otxx8aIiaiht",
        "outputId": "f3872f62-a99f-43df-e60f-ca7ef4edc60a"
      },
      "source": [
        "dados_doadores['DESCARTE CONFIDENCIAL'].unique()"
      ],
      "execution_count": 139,
      "outputs": [
        {
          "output_type": "execute_result",
          "data": {
            "text/plain": [
              "array(['NÃO', 'SIM'], dtype=object)"
            ]
          },
          "metadata": {
            "tags": []
          },
          "execution_count": 139
        }
      ]
    },
    {
      "cell_type": "code",
      "metadata": {
        "id": "-T0UTtr_aihv"
      },
      "source": [
        "#alterar os valores da coluna DESCARTE CONFIDENCIAL para inteiros\n",
        "#1 - SIM\n",
        "#2 - NÃO\n",
        "dados_doadores['DESCARTE CONFIDENCIAL'] = dados_doadores['DESCARTE CONFIDENCIAL'].map({'SIM' : 1, 'NÃO' : 2}, na_action=None)"
      ],
      "execution_count": 140,
      "outputs": []
    },
    {
      "cell_type": "code",
      "metadata": {
        "colab": {
          "base_uri": "https://localhost:8080/"
        },
        "id": "weigt320aihw",
        "outputId": "2e04c4bd-38d9-4fc3-e09b-ed7e2dc2a813"
      },
      "source": [
        "dados_doadores['DESCARTE CONFIDENCIAL'].unique()"
      ],
      "execution_count": 141,
      "outputs": [
        {
          "output_type": "execute_result",
          "data": {
            "text/plain": [
              "array([2, 1])"
            ]
          },
          "metadata": {
            "tags": []
          },
          "execution_count": 141
        }
      ]
    },
    {
      "cell_type": "code",
      "metadata": {
        "colab": {
          "base_uri": "https://localhost:8080/"
        },
        "id": "-KswaH_waihw",
        "outputId": "8b7de692-ff53-4174-f8fa-e45fb4e55dd4"
      },
      "source": [
        "dados_doadores['TRIAGEM_CLÍNICA'].unique()"
      ],
      "execution_count": 142,
      "outputs": [
        {
          "output_type": "execute_result",
          "data": {
            "text/plain": [
              "array(['APTO', 'INAPTO'], dtype=object)"
            ]
          },
          "metadata": {
            "tags": []
          },
          "execution_count": 142
        }
      ]
    },
    {
      "cell_type": "code",
      "metadata": {
        "id": "Yq_YkTmxaihx"
      },
      "source": [
        "#alterar os valores da coluna TRIAGEM_CLÍNICA para inteiros\n",
        "#1 - APTO\n",
        "#2 - INAPTO\n",
        "dados_doadores['TRIAGEM_CLÍNICA'] = dados_doadores['TRIAGEM_CLÍNICA'].map({'APTO' : 1, 'INAPTO' : 2}, na_action=None)"
      ],
      "execution_count": 143,
      "outputs": []
    },
    {
      "cell_type": "code",
      "metadata": {
        "id": "02N0tC-Aaihy"
      },
      "source": [
        "#alterar os valores da coluna TRIAGEM_HEMATO para inteiros\n",
        "#1 - APTO\n",
        "#2 - INAPTO\n",
        "dados_doadores['TRIAGEM_HEMATO'] = dados_doadores['TRIAGEM_HEMATO'].map({'APTO' : 1, 'INAPTO' : 2}, na_action=None)"
      ],
      "execution_count": 144,
      "outputs": []
    },
    {
      "cell_type": "code",
      "metadata": {
        "colab": {
          "base_uri": "https://localhost:8080/"
        },
        "id": "YYXmvZafaihz",
        "outputId": "fb084f5d-3179-476e-9540-66afb9e8e36b"
      },
      "source": [
        "dados_doadores['INAPTIDÃO_SOROLÓGICA'].unique()"
      ],
      "execution_count": 145,
      "outputs": [
        {
          "output_type": "execute_result",
          "data": {
            "text/plain": [
              "array(['NÂO', 'SEM CONDUTA', 'SIM'], dtype=object)"
            ]
          },
          "metadata": {
            "tags": []
          },
          "execution_count": 145
        }
      ]
    },
    {
      "cell_type": "code",
      "metadata": {
        "id": "-QOpi76uaihz"
      },
      "source": [
        "#alterar os valores da coluna INAPTIDÃO_SOROLÓGICA para inteiros\n",
        "#1 - SIM\n",
        "#2 - NÃO\n",
        "#3 - SEM CONDUTA\n",
        "dados_doadores['INAPTIDÃO_SOROLÓGICA'] = dados_doadores['INAPTIDÃO_SOROLÓGICA'].map({'SIM' : 1, 'NÂO' : 2, 'SEM CONDUTA': 3}, na_action=None)"
      ],
      "execution_count": 146,
      "outputs": []
    },
    {
      "cell_type": "code",
      "metadata": {
        "colab": {
          "base_uri": "https://localhost:8080/"
        },
        "id": "r9taF9NIaih0",
        "outputId": "812f5778-6f12-4b14-8110-68eef64af01d"
      },
      "source": [
        "dados_doadores['REAÇÕES ADVERSAS A DOACÃO'].unique()"
      ],
      "execution_count": 147,
      "outputs": [
        {
          "output_type": "execute_result",
          "data": {
            "text/plain": [
              "array(['NÃO', 'DIFICIL ACESSO VENOSO - SEM AMOSTRAS', 'OUTRAS REACOES',\n",
              "       'DIFICIL ACESSO VENOSO - COM AMOSTRAS', 'FADIGA', 'PALIDEZ',\n",
              "       'NAUSEAS', 'EMISSAO INVOLUNTARIA DE URINA OU FEZES',\n",
              "       'SUDORESE INTENSA', 'FLEBITE', 'CONVULSAO', 'HEMATOMA',\n",
              "       'PERDA DE CONSCIENCIA', 'VOMITOS'], dtype=object)"
            ]
          },
          "metadata": {
            "tags": []
          },
          "execution_count": 147
        }
      ]
    },
    {
      "cell_type": "code",
      "metadata": {
        "id": "O7f3u6RJaih0"
      },
      "source": [
        "#alterar os valores da coluna REAÇÕES ADVERSAS A DOACÃO para inteiros\n",
        "#1 - NÃO\n",
        "#2 - DIFICIL ACESSO VENOSO - SEM AMOSTRAS\n",
        "#3 - OUTRAS REACOES\n",
        "#4 - DIFICIL ACESSO VENOSO - COM AMOSTRAS\n",
        "#5 - FADIGA\n",
        "#6 - PALIDEZ\n",
        "#7 - NAUSEAS\n",
        "#8 - EMISSAO INVOLUNTARIA DE URINA OU FEZES\n",
        "#9 - SUDORESE INTENSA\n",
        "#10 - FLEBITE\n",
        "#11 - CONVULSAO\n",
        "#12 - HEMATOMA\n",
        "#13 - PERDA DE CONSCIENCIA\n",
        "#14 - VOMITOS\n",
        "\n",
        "dados_doadores['REAÇÕES ADVERSAS A DOACÃO'] = dados_doadores['REAÇÕES ADVERSAS A DOACÃO'].map({'NÃO'         : 1, \n",
        "                                                                     'DIFICIL ACESSO VENOSO - SEM AMOSTRAS'  : 2,\n",
        "                                                                     'OUTRAS REACOES'                        : 3,\n",
        "                                                                     'DIFICIL ACESSO VENOSO - COM AMOSTRAS'  : 4,\n",
        "                                                                     'FADIGA'                                : 5,\n",
        "                                                                     'PALIDEZ'                               : 6,\n",
        "                                                                     'NAUSEAS'                               : 7,\n",
        "                                                                    'EMISSAO INVOLUNTARIA DE URINA OU FEZES' : 8,\n",
        "                                                                    'SUDORESE INTENSA'                       : 9,\n",
        "                                                                    'FLEBITE'                                : 10,\n",
        "                                                                    'CONVULSAO'                              : 11,\n",
        "                                                                    'HEMATOMA'                               : 12,\n",
        "                                                                    'PERDA DE CONSCIENCIA'                   : 13,\n",
        "                                                                    'VOMITOS'                                : 14}, na_action=None)"
      ],
      "execution_count": 148,
      "outputs": []
    },
    {
      "cell_type": "code",
      "metadata": {
        "colab": {
          "base_uri": "https://localhost:8080/"
        },
        "id": "OOyUonxgaih1",
        "outputId": "b3bdfbff-cd76-476f-b9ec-b6ce63014c4b"
      },
      "source": [
        "dados_doadores['TIPO_DE_INAPTIDÃO'].unique()"
      ],
      "execution_count": 149,
      "outputs": [
        {
          "output_type": "execute_result",
          "data": {
            "text/plain": [
              "array(['-', 'Provisória', 'Definitiva'], dtype=object)"
            ]
          },
          "metadata": {
            "tags": []
          },
          "execution_count": 149
        }
      ]
    },
    {
      "cell_type": "code",
      "metadata": {
        "id": "Fx7p1Ijaaih2"
      },
      "source": [
        "#alterar os valores da coluna TIPO_DE_INAPTIDÃO para inteiros\n",
        "#1 - '-' (SEM INAPTIDÕES)\n",
        "#2 - Provisória\n",
        "#3 - Definitiva\n",
        "dados_doadores['TIPO_DE_INAPTIDÃO'] = dados_doadores['TIPO_DE_INAPTIDÃO'].map({'-' : 1, 'Provisória' : 2, 'Definitiva': 3}, na_action=None)"
      ],
      "execution_count": 150,
      "outputs": []
    },
    {
      "cell_type": "code",
      "metadata": {
        "id": "3J5W2OfOaih3"
      },
      "source": [
        "#alterar os valores da coluna BOLSA_COLETADA para inteiros\n",
        "#1 - SIM\n",
        "#2 - NÃO\n",
        "dados_doadores['BOLSA_COLETADA'] = dados_doadores['BOLSA_COLETADA'].map({'SIM' : 1, 'NÃO' : 2}, na_action=None)"
      ],
      "execution_count": 151,
      "outputs": []
    },
    {
      "cell_type": "code",
      "metadata": {
        "id": "H0huqbz4aih3"
      },
      "source": [
        "#alterar os valores da coluna AFERESE para inteiros\n",
        "#1 - SIM\n",
        "#2 - NÃO\n",
        "dados_doadores['AFERESE'] = dados_doadores['AFERESE'].map({'SIM' : 1, 'NÃO' : 2}, na_action=None)"
      ],
      "execution_count": 152,
      "outputs": []
    },
    {
      "cell_type": "code",
      "metadata": {
        "colab": {
          "base_uri": "https://localhost:8080/",
          "height": 461
        },
        "id": "MtZ-4ZPnaih4",
        "outputId": "735aa4da-12ec-428d-d1bd-7e237d5aaa8f"
      },
      "source": [
        "dados_doadores.head(90)"
      ],
      "execution_count": 153,
      "outputs": [
        {
          "output_type": "execute_result",
          "data": {
            "text/html": [
              "<div>\n",
              "<style scoped>\n",
              "    .dataframe tbody tr th:only-of-type {\n",
              "        vertical-align: middle;\n",
              "    }\n",
              "\n",
              "    .dataframe tbody tr th {\n",
              "        vertical-align: top;\n",
              "    }\n",
              "\n",
              "    .dataframe thead th {\n",
              "        text-align: right;\n",
              "    }\n",
              "</style>\n",
              "<table border=\"1\" class=\"dataframe\">\n",
              "  <thead>\n",
              "    <tr style=\"text-align: right;\">\n",
              "      <th></th>\n",
              "      <th>PACIENTE</th>\n",
              "      <th>IDADE</th>\n",
              "      <th>ANO</th>\n",
              "      <th>MES</th>\n",
              "      <th>DIA</th>\n",
              "      <th>SEXO</th>\n",
              "      <th>ESTADO_CIVIL</th>\n",
              "      <th>ESCOLARIDADE</th>\n",
              "      <th>MOTIVO</th>\n",
              "      <th>FREQUENCIA DA DOACAO</th>\n",
              "      <th>TIPO_DOACAO</th>\n",
              "      <th>TIPAGEM</th>\n",
              "      <th>VOTO DE AUTO EXCLUSÃO</th>\n",
              "      <th>DESCARTE CONFIDENCIAL</th>\n",
              "      <th>REAÇÕES ADVERSAS A DOACÃO</th>\n",
              "      <th>TRIAGEM_CLÍNICA</th>\n",
              "      <th>TRIAGEM_HEMATO</th>\n",
              "      <th>INAPTIDÃO_SOROLÓGICA</th>\n",
              "      <th>TIPO_DE_INAPTIDÃO</th>\n",
              "      <th>BOLSA_COLETADA</th>\n",
              "      <th>AFERESE</th>\n",
              "    </tr>\n",
              "  </thead>\n",
              "  <tbody>\n",
              "    <tr>\n",
              "      <th>0</th>\n",
              "      <td>335741</td>\n",
              "      <td>62</td>\n",
              "      <td>2017</td>\n",
              "      <td>01</td>\n",
              "      <td>02</td>\n",
              "      <td>1</td>\n",
              "      <td>1</td>\n",
              "      <td>1</td>\n",
              "      <td>2</td>\n",
              "      <td>1</td>\n",
              "      <td>1</td>\n",
              "      <td>3</td>\n",
              "      <td>2</td>\n",
              "      <td>2</td>\n",
              "      <td>1</td>\n",
              "      <td>1</td>\n",
              "      <td>1</td>\n",
              "      <td>2</td>\n",
              "      <td>1</td>\n",
              "      <td>1</td>\n",
              "      <td>2</td>\n",
              "    </tr>\n",
              "    <tr>\n",
              "      <th>1</th>\n",
              "      <td>14203</td>\n",
              "      <td>45</td>\n",
              "      <td>2017</td>\n",
              "      <td>01</td>\n",
              "      <td>02</td>\n",
              "      <td>1</td>\n",
              "      <td>2</td>\n",
              "      <td>1</td>\n",
              "      <td>2</td>\n",
              "      <td>1</td>\n",
              "      <td>2</td>\n",
              "      <td>3</td>\n",
              "      <td>2</td>\n",
              "      <td>2</td>\n",
              "      <td>1</td>\n",
              "      <td>1</td>\n",
              "      <td>1</td>\n",
              "      <td>2</td>\n",
              "      <td>1</td>\n",
              "      <td>1</td>\n",
              "      <td>2</td>\n",
              "    </tr>\n",
              "    <tr>\n",
              "      <th>2</th>\n",
              "      <td>90149</td>\n",
              "      <td>36</td>\n",
              "      <td>2017</td>\n",
              "      <td>01</td>\n",
              "      <td>02</td>\n",
              "      <td>1</td>\n",
              "      <td>1</td>\n",
              "      <td>1</td>\n",
              "      <td>2</td>\n",
              "      <td>1</td>\n",
              "      <td>2</td>\n",
              "      <td>3</td>\n",
              "      <td>2</td>\n",
              "      <td>2</td>\n",
              "      <td>1</td>\n",
              "      <td>1</td>\n",
              "      <td>1</td>\n",
              "      <td>2</td>\n",
              "      <td>1</td>\n",
              "      <td>1</td>\n",
              "      <td>2</td>\n",
              "    </tr>\n",
              "    <tr>\n",
              "      <th>3</th>\n",
              "      <td>578016</td>\n",
              "      <td>23</td>\n",
              "      <td>2017</td>\n",
              "      <td>01</td>\n",
              "      <td>02</td>\n",
              "      <td>2</td>\n",
              "      <td>2</td>\n",
              "      <td>2</td>\n",
              "      <td>1</td>\n",
              "      <td>1</td>\n",
              "      <td>3</td>\n",
              "      <td>9</td>\n",
              "      <td>2</td>\n",
              "      <td>2</td>\n",
              "      <td>1</td>\n",
              "      <td>2</td>\n",
              "      <td>2</td>\n",
              "      <td>3</td>\n",
              "      <td>2</td>\n",
              "      <td>2</td>\n",
              "      <td>2</td>\n",
              "    </tr>\n",
              "    <tr>\n",
              "      <th>4</th>\n",
              "      <td>58767</td>\n",
              "      <td>47</td>\n",
              "      <td>2017</td>\n",
              "      <td>01</td>\n",
              "      <td>02</td>\n",
              "      <td>1</td>\n",
              "      <td>1</td>\n",
              "      <td>1</td>\n",
              "      <td>1</td>\n",
              "      <td>1</td>\n",
              "      <td>3</td>\n",
              "      <td>1</td>\n",
              "      <td>2</td>\n",
              "      <td>2</td>\n",
              "      <td>1</td>\n",
              "      <td>2</td>\n",
              "      <td>1</td>\n",
              "      <td>3</td>\n",
              "      <td>2</td>\n",
              "      <td>2</td>\n",
              "      <td>2</td>\n",
              "    </tr>\n",
              "    <tr>\n",
              "      <th>...</th>\n",
              "      <td>...</td>\n",
              "      <td>...</td>\n",
              "      <td>...</td>\n",
              "      <td>...</td>\n",
              "      <td>...</td>\n",
              "      <td>...</td>\n",
              "      <td>...</td>\n",
              "      <td>...</td>\n",
              "      <td>...</td>\n",
              "      <td>...</td>\n",
              "      <td>...</td>\n",
              "      <td>...</td>\n",
              "      <td>...</td>\n",
              "      <td>...</td>\n",
              "      <td>...</td>\n",
              "      <td>...</td>\n",
              "      <td>...</td>\n",
              "      <td>...</td>\n",
              "      <td>...</td>\n",
              "      <td>...</td>\n",
              "      <td>...</td>\n",
              "    </tr>\n",
              "    <tr>\n",
              "      <th>86</th>\n",
              "      <td>13481</td>\n",
              "      <td>43</td>\n",
              "      <td>2017</td>\n",
              "      <td>01</td>\n",
              "      <td>02</td>\n",
              "      <td>1</td>\n",
              "      <td>2</td>\n",
              "      <td>1</td>\n",
              "      <td>1</td>\n",
              "      <td>1</td>\n",
              "      <td>3</td>\n",
              "      <td>3</td>\n",
              "      <td>2</td>\n",
              "      <td>2</td>\n",
              "      <td>1</td>\n",
              "      <td>1</td>\n",
              "      <td>1</td>\n",
              "      <td>2</td>\n",
              "      <td>1</td>\n",
              "      <td>1</td>\n",
              "      <td>2</td>\n",
              "    </tr>\n",
              "    <tr>\n",
              "      <th>87</th>\n",
              "      <td>427929</td>\n",
              "      <td>24</td>\n",
              "      <td>2017</td>\n",
              "      <td>01</td>\n",
              "      <td>02</td>\n",
              "      <td>1</td>\n",
              "      <td>1</td>\n",
              "      <td>1</td>\n",
              "      <td>1</td>\n",
              "      <td>1</td>\n",
              "      <td>3</td>\n",
              "      <td>3</td>\n",
              "      <td>2</td>\n",
              "      <td>2</td>\n",
              "      <td>1</td>\n",
              "      <td>1</td>\n",
              "      <td>1</td>\n",
              "      <td>2</td>\n",
              "      <td>1</td>\n",
              "      <td>1</td>\n",
              "      <td>2</td>\n",
              "    </tr>\n",
              "    <tr>\n",
              "      <th>94</th>\n",
              "      <td>250945</td>\n",
              "      <td>36</td>\n",
              "      <td>2017</td>\n",
              "      <td>01</td>\n",
              "      <td>02</td>\n",
              "      <td>2</td>\n",
              "      <td>2</td>\n",
              "      <td>3</td>\n",
              "      <td>2</td>\n",
              "      <td>1</td>\n",
              "      <td>1</td>\n",
              "      <td>3</td>\n",
              "      <td>2</td>\n",
              "      <td>2</td>\n",
              "      <td>1</td>\n",
              "      <td>1</td>\n",
              "      <td>1</td>\n",
              "      <td>2</td>\n",
              "      <td>1</td>\n",
              "      <td>1</td>\n",
              "      <td>2</td>\n",
              "    </tr>\n",
              "    <tr>\n",
              "      <th>95</th>\n",
              "      <td>379121</td>\n",
              "      <td>32</td>\n",
              "      <td>2017</td>\n",
              "      <td>01</td>\n",
              "      <td>02</td>\n",
              "      <td>1</td>\n",
              "      <td>1</td>\n",
              "      <td>2</td>\n",
              "      <td>2</td>\n",
              "      <td>1</td>\n",
              "      <td>1</td>\n",
              "      <td>1</td>\n",
              "      <td>2</td>\n",
              "      <td>2</td>\n",
              "      <td>1</td>\n",
              "      <td>1</td>\n",
              "      <td>1</td>\n",
              "      <td>2</td>\n",
              "      <td>1</td>\n",
              "      <td>1</td>\n",
              "      <td>2</td>\n",
              "    </tr>\n",
              "    <tr>\n",
              "      <th>96</th>\n",
              "      <td>182461</td>\n",
              "      <td>53</td>\n",
              "      <td>2017</td>\n",
              "      <td>01</td>\n",
              "      <td>02</td>\n",
              "      <td>1</td>\n",
              "      <td>1</td>\n",
              "      <td>4</td>\n",
              "      <td>2</td>\n",
              "      <td>1</td>\n",
              "      <td>2</td>\n",
              "      <td>3</td>\n",
              "      <td>2</td>\n",
              "      <td>2</td>\n",
              "      <td>1</td>\n",
              "      <td>1</td>\n",
              "      <td>1</td>\n",
              "      <td>2</td>\n",
              "      <td>1</td>\n",
              "      <td>1</td>\n",
              "      <td>2</td>\n",
              "    </tr>\n",
              "  </tbody>\n",
              "</table>\n",
              "<p>90 rows × 21 columns</p>\n",
              "</div>"
            ],
            "text/plain": [
              "    PACIENTE  IDADE   ANO  ... TIPO_DE_INAPTIDÃO BOLSA_COLETADA  AFERESE\n",
              "0     335741     62  2017  ...                 1              1        2\n",
              "1      14203     45  2017  ...                 1              1        2\n",
              "2      90149     36  2017  ...                 1              1        2\n",
              "3     578016     23  2017  ...                 2              2        2\n",
              "4      58767     47  2017  ...                 2              2        2\n",
              "..       ...    ...   ...  ...               ...            ...      ...\n",
              "86     13481     43  2017  ...                 1              1        2\n",
              "87    427929     24  2017  ...                 1              1        2\n",
              "94    250945     36  2017  ...                 1              1        2\n",
              "95    379121     32  2017  ...                 1              1        2\n",
              "96    182461     53  2017  ...                 1              1        2\n",
              "\n",
              "[90 rows x 21 columns]"
            ]
          },
          "metadata": {
            "tags": []
          },
          "execution_count": 153
        }
      ]
    },
    {
      "cell_type": "code",
      "metadata": {
        "id": "VzL1e55Faih5"
      },
      "source": [
        "#dados_doadores.to_csv('C:/Users/renato.lessa/OneDrive - PRODAM Office 365/03 - Pessoal/02 - PÓS GRADUAÇÃO/08 - Intro Machine Learnig/dados_doadores_2.csv', index=False, encoding='ISO 8859-1', sep=';')"
      ],
      "execution_count": 154,
      "outputs": []
    },
    {
      "cell_type": "code",
      "metadata": {
        "id": "-CwVWZ3Jaih5"
      },
      "source": [
        "#verificar como está a distribuição por ano\n",
        "registros_ano = pd.DataFrame(dados_doadores['ANO'].value_counts())"
      ],
      "execution_count": 155,
      "outputs": []
    },
    {
      "cell_type": "code",
      "metadata": {
        "colab": {
          "base_uri": "https://localhost:8080/",
          "height": 138
        },
        "id": "5sWEucWKaih6",
        "outputId": "481a4829-eb64-45ae-9508-b94da7878068"
      },
      "source": [
        "registros_ano"
      ],
      "execution_count": 156,
      "outputs": [
        {
          "output_type": "execute_result",
          "data": {
            "text/html": [
              "<div>\n",
              "<style scoped>\n",
              "    .dataframe tbody tr th:only-of-type {\n",
              "        vertical-align: middle;\n",
              "    }\n",
              "\n",
              "    .dataframe tbody tr th {\n",
              "        vertical-align: top;\n",
              "    }\n",
              "\n",
              "    .dataframe thead th {\n",
              "        text-align: right;\n",
              "    }\n",
              "</style>\n",
              "<table border=\"1\" class=\"dataframe\">\n",
              "  <thead>\n",
              "    <tr style=\"text-align: right;\">\n",
              "      <th></th>\n",
              "      <th>ANO</th>\n",
              "    </tr>\n",
              "  </thead>\n",
              "  <tbody>\n",
              "    <tr>\n",
              "      <th>2017</th>\n",
              "      <td>75080</td>\n",
              "    </tr>\n",
              "    <tr>\n",
              "      <th>2019</th>\n",
              "      <td>74543</td>\n",
              "    </tr>\n",
              "    <tr>\n",
              "      <th>2018</th>\n",
              "      <td>73691</td>\n",
              "    </tr>\n",
              "  </tbody>\n",
              "</table>\n",
              "</div>"
            ],
            "text/plain": [
              "        ANO\n",
              "2017  75080\n",
              "2019  74543\n",
              "2018  73691"
            ]
          },
          "metadata": {
            "tags": []
          },
          "execution_count": 156
        }
      ]
    },
    {
      "cell_type": "code",
      "metadata": {
        "id": "lEIqDsN1aih7"
      },
      "source": [
        "registros_ano = registros_ano.reset_index()"
      ],
      "execution_count": 157,
      "outputs": []
    },
    {
      "cell_type": "code",
      "metadata": {
        "colab": {
          "base_uri": "https://localhost:8080/",
          "height": 138
        },
        "id": "z2is-tS8aih7",
        "outputId": "ab23cbde-409e-4229-d96a-6d046770d99b"
      },
      "source": [
        "registros_ano"
      ],
      "execution_count": 158,
      "outputs": [
        {
          "output_type": "execute_result",
          "data": {
            "text/html": [
              "<div>\n",
              "<style scoped>\n",
              "    .dataframe tbody tr th:only-of-type {\n",
              "        vertical-align: middle;\n",
              "    }\n",
              "\n",
              "    .dataframe tbody tr th {\n",
              "        vertical-align: top;\n",
              "    }\n",
              "\n",
              "    .dataframe thead th {\n",
              "        text-align: right;\n",
              "    }\n",
              "</style>\n",
              "<table border=\"1\" class=\"dataframe\">\n",
              "  <thead>\n",
              "    <tr style=\"text-align: right;\">\n",
              "      <th></th>\n",
              "      <th>index</th>\n",
              "      <th>ANO</th>\n",
              "    </tr>\n",
              "  </thead>\n",
              "  <tbody>\n",
              "    <tr>\n",
              "      <th>0</th>\n",
              "      <td>2017</td>\n",
              "      <td>75080</td>\n",
              "    </tr>\n",
              "    <tr>\n",
              "      <th>1</th>\n",
              "      <td>2019</td>\n",
              "      <td>74543</td>\n",
              "    </tr>\n",
              "    <tr>\n",
              "      <th>2</th>\n",
              "      <td>2018</td>\n",
              "      <td>73691</td>\n",
              "    </tr>\n",
              "  </tbody>\n",
              "</table>\n",
              "</div>"
            ],
            "text/plain": [
              "  index    ANO\n",
              "0  2017  75080\n",
              "1  2019  74543\n",
              "2  2018  73691"
            ]
          },
          "metadata": {
            "tags": []
          },
          "execution_count": 158
        }
      ]
    },
    {
      "cell_type": "code",
      "metadata": {
        "id": "P70QQew6aih8"
      },
      "source": [
        "registros_ano = registros_ano.rename(columns={'ANO': 'QTDE', })"
      ],
      "execution_count": 159,
      "outputs": []
    },
    {
      "cell_type": "code",
      "metadata": {
        "id": "vKkyo1OXaih9"
      },
      "source": [
        "registros_ano = registros_ano.rename(columns={'index': 'ANO', })"
      ],
      "execution_count": 160,
      "outputs": []
    },
    {
      "cell_type": "code",
      "metadata": {
        "scrolled": true,
        "colab": {
          "base_uri": "https://localhost:8080/",
          "height": 265
        },
        "id": "f9UNy_bNaih9",
        "outputId": "7048a354-5095-4e8f-8ea4-08a0f4c0d848"
      },
      "source": [
        "plt.bar(registros_ano['ANO'], registros_ano['QTDE'])\n",
        "plt.show()"
      ],
      "execution_count": 161,
      "outputs": [
        {
          "output_type": "display_data",
          "data": {
            "image/png": "[encoded data removed]",
            "text/plain": [
              "<Figure size 432x288 with 1 Axes>"
            ]
          },
          "metadata": {
            "tags": [],
            "needs_background": "light"
          }
        }
      ]
    },
    {
      "cell_type": "code",
      "metadata": {
        "id": "89UieKONeTad"
      },
      "source": [
        "#deixar no dataset que vamos analisar, apenas os dados relacionados ao perfil do doador\n",
        "doador = pd.DataFrame(dados_doadores)"
      ],
      "execution_count": 162,
      "outputs": []
    },
    {
      "cell_type": "code",
      "metadata": {
        "colab": {
          "base_uri": "https://localhost:8080/"
        },
        "id": "M7W7d8FUhLJ6",
        "outputId": "3e0f93ba-9c59-4fa7-c421-a17ebfa4edc3"
      },
      "source": [
        "doador.shape"
      ],
      "execution_count": 163,
      "outputs": [
        {
          "output_type": "execute_result",
          "data": {
            "text/plain": [
              "(223314, 21)"
            ]
          },
          "metadata": {
            "tags": []
          },
          "execution_count": 163
        }
      ]
    },
    {
      "cell_type": "code",
      "metadata": {
        "id": "34RQ73adgEQf"
      },
      "source": [
        "doador = doador.drop(columns=['PACIENTE', 'ANO', 'MES', 'DIA', 'REAÇÕES ADVERSAS A DOACÃO', 'TIPO_DE_INAPTIDÃO', 'AFERESE', 'TRIAGEM_CLÍNICA', 'TRIAGEM_HEMATO', 'INAPTIDÃO_SOROLÓGICA', 'DESCARTE CONFIDENCIAL', 'VOTO DE AUTO EXCLUSÃO'])"
      ],
      "execution_count": 165,
      "outputs": []
    },
    {
      "cell_type": "code",
      "metadata": {
        "colab": {
          "base_uri": "https://localhost:8080/",
          "height": 408
        },
        "id": "UHD5iR0mhRu4",
        "outputId": "390d3012-5df3-4a1d-cc2f-9f1f8a695230"
      },
      "source": [
        "doador\n"
      ],
      "execution_count": 166,
      "outputs": [
        {
          "output_type": "execute_result",
          "data": {
            "text/html": [
              "<div>\n",
              "<style scoped>\n",
              "    .dataframe tbody tr th:only-of-type {\n",
              "        vertical-align: middle;\n",
              "    }\n",
              "\n",
              "    .dataframe tbody tr th {\n",
              "        vertical-align: top;\n",
              "    }\n",
              "\n",
              "    .dataframe thead th {\n",
              "        text-align: right;\n",
              "    }\n",
              "</style>\n",
              "<table border=\"1\" class=\"dataframe\">\n",
              "  <thead>\n",
              "    <tr style=\"text-align: right;\">\n",
              "      <th></th>\n",
              "      <th>IDADE</th>\n",
              "      <th>SEXO</th>\n",
              "      <th>ESTADO_CIVIL</th>\n",
              "      <th>ESCOLARIDADE</th>\n",
              "      <th>MOTIVO</th>\n",
              "      <th>FREQUENCIA DA DOACAO</th>\n",
              "      <th>TIPO_DOACAO</th>\n",
              "      <th>TIPAGEM</th>\n",
              "      <th>BOLSA_COLETADA</th>\n",
              "    </tr>\n",
              "  </thead>\n",
              "  <tbody>\n",
              "    <tr>\n",
              "      <th>0</th>\n",
              "      <td>62</td>\n",
              "      <td>1</td>\n",
              "      <td>1</td>\n",
              "      <td>1</td>\n",
              "      <td>2</td>\n",
              "      <td>1</td>\n",
              "      <td>1</td>\n",
              "      <td>3</td>\n",
              "      <td>1</td>\n",
              "    </tr>\n",
              "    <tr>\n",
              "      <th>1</th>\n",
              "      <td>45</td>\n",
              "      <td>1</td>\n",
              "      <td>2</td>\n",
              "      <td>1</td>\n",
              "      <td>2</td>\n",
              "      <td>1</td>\n",
              "      <td>2</td>\n",
              "      <td>3</td>\n",
              "      <td>1</td>\n",
              "    </tr>\n",
              "    <tr>\n",
              "      <th>2</th>\n",
              "      <td>36</td>\n",
              "      <td>1</td>\n",
              "      <td>1</td>\n",
              "      <td>1</td>\n",
              "      <td>2</td>\n",
              "      <td>1</td>\n",
              "      <td>2</td>\n",
              "      <td>3</td>\n",
              "      <td>1</td>\n",
              "    </tr>\n",
              "    <tr>\n",
              "      <th>3</th>\n",
              "      <td>23</td>\n",
              "      <td>2</td>\n",
              "      <td>2</td>\n",
              "      <td>2</td>\n",
              "      <td>1</td>\n",
              "      <td>1</td>\n",
              "      <td>3</td>\n",
              "      <td>9</td>\n",
              "      <td>2</td>\n",
              "    </tr>\n",
              "    <tr>\n",
              "      <th>4</th>\n",
              "      <td>47</td>\n",
              "      <td>1</td>\n",
              "      <td>1</td>\n",
              "      <td>1</td>\n",
              "      <td>1</td>\n",
              "      <td>1</td>\n",
              "      <td>3</td>\n",
              "      <td>1</td>\n",
              "      <td>2</td>\n",
              "    </tr>\n",
              "    <tr>\n",
              "      <th>...</th>\n",
              "      <td>...</td>\n",
              "      <td>...</td>\n",
              "      <td>...</td>\n",
              "      <td>...</td>\n",
              "      <td>...</td>\n",
              "      <td>...</td>\n",
              "      <td>...</td>\n",
              "      <td>...</td>\n",
              "      <td>...</td>\n",
              "    </tr>\n",
              "    <tr>\n",
              "      <th>235947</th>\n",
              "      <td>38</td>\n",
              "      <td>2</td>\n",
              "      <td>2</td>\n",
              "      <td>3</td>\n",
              "      <td>1</td>\n",
              "      <td>1</td>\n",
              "      <td>3</td>\n",
              "      <td>3</td>\n",
              "      <td>1</td>\n",
              "    </tr>\n",
              "    <tr>\n",
              "      <th>235948</th>\n",
              "      <td>32</td>\n",
              "      <td>1</td>\n",
              "      <td>2</td>\n",
              "      <td>1</td>\n",
              "      <td>2</td>\n",
              "      <td>2</td>\n",
              "      <td>1</td>\n",
              "      <td>3</td>\n",
              "      <td>1</td>\n",
              "    </tr>\n",
              "    <tr>\n",
              "      <th>235949</th>\n",
              "      <td>38</td>\n",
              "      <td>1</td>\n",
              "      <td>1</td>\n",
              "      <td>3</td>\n",
              "      <td>1</td>\n",
              "      <td>1</td>\n",
              "      <td>3</td>\n",
              "      <td>3</td>\n",
              "      <td>1</td>\n",
              "    </tr>\n",
              "    <tr>\n",
              "      <th>235950</th>\n",
              "      <td>33</td>\n",
              "      <td>2</td>\n",
              "      <td>2</td>\n",
              "      <td>2</td>\n",
              "      <td>1</td>\n",
              "      <td>1</td>\n",
              "      <td>3</td>\n",
              "      <td>3</td>\n",
              "      <td>1</td>\n",
              "    </tr>\n",
              "    <tr>\n",
              "      <th>235951</th>\n",
              "      <td>19</td>\n",
              "      <td>1</td>\n",
              "      <td>2</td>\n",
              "      <td>1</td>\n",
              "      <td>1</td>\n",
              "      <td>1</td>\n",
              "      <td>3</td>\n",
              "      <td>3</td>\n",
              "      <td>1</td>\n",
              "    </tr>\n",
              "  </tbody>\n",
              "</table>\n",
              "<p>223314 rows × 9 columns</p>\n",
              "</div>"
            ],
            "text/plain": [
              "        IDADE  SEXO  ESTADO_CIVIL  ...  TIPO_DOACAO  TIPAGEM  BOLSA_COLETADA\n",
              "0          62     1             1  ...            1        3               1\n",
              "1          45     1             2  ...            2        3               1\n",
              "2          36     1             1  ...            2        3               1\n",
              "3          23     2             2  ...            3        9               2\n",
              "4          47     1             1  ...            3        1               2\n",
              "...       ...   ...           ...  ...          ...      ...             ...\n",
              "235947     38     2             2  ...            3        3               1\n",
              "235948     32     1             2  ...            1        3               1\n",
              "235949     38     1             1  ...            3        3               1\n",
              "235950     33     2             2  ...            3        3               1\n",
              "235951     19     1             2  ...            3        3               1\n",
              "\n",
              "[223314 rows x 9 columns]"
            ]
          },
          "metadata": {
            "tags": []
          },
          "execution_count": 166
        }
      ]
    },
    {
      "cell_type": "code",
      "metadata": {
        "colab": {
          "base_uri": "https://localhost:8080/"
        },
        "id": "iW25qQLlhhIY",
        "outputId": "cd8301e1-34a1-46c7-8dd6-cd345b60df13"
      },
      "source": [
        "X = doador.values\n",
        "y = doador['BOLSA_COLETADA'].values\n",
        "\n",
        "X = np.delete(X, 8, axis=1)\n",
        "print(X)"
      ],
      "execution_count": 168,
      "outputs": [
        {
          "output_type": "stream",
          "text": [
            "[[62  1  1 ...  1  1  3]\n",
            " [45  1  2 ...  1  2  3]\n",
            " [36  1  1 ...  1  2  3]\n",
            " ...\n",
            " [38  1  1 ...  1  3  3]\n",
            " [33  2  2 ...  1  3  3]\n",
            " [19  1  2 ...  1  3  3]]\n"
          ],
          "name": "stdout"
        }
      ]
    },
    {
      "cell_type": "code",
      "metadata": {
        "id": "RIR-031Eh1ZC"
      },
      "source": [
        "from sklearn.model_selection import train_test_split\n",
        "X_train,X_test, y_train, y_test = train_test_split(X,y, test_size=0.3, random_state=1)"
      ],
      "execution_count": 169,
      "outputs": []
    },
    {
      "cell_type": "markdown",
      "metadata": {
        "id": "-Bcc1gkIiNSa"
      },
      "source": [
        "# **Utilizando o algoritmo de árvore de decisão**"
      ]
    },
    {
      "cell_type": "code",
      "metadata": {
        "colab": {
          "base_uri": "https://localhost:8080/"
        },
        "id": "5nVVruaziMwY",
        "outputId": "ad57487d-3162-40a8-d568-f6c18fcf580a"
      },
      "source": [
        "from sklearn import tree\n",
        "dt_clf = tree.DecisionTreeClassifier(max_depth=5)\n",
        "dt_clf.fit(X_train, y_train)\n",
        "dt_clf.score(X_test, y_test)\n",
        "\n",
        "y_pred = dt_clf.predict(X_test);\n",
        "dt_clf.score(X_test, y_test)"
      ],
      "execution_count": 170,
      "outputs": [
        {
          "output_type": "execute_result",
          "data": {
            "text/plain": [
              "0.8604522725576536"
            ]
          },
          "metadata": {
            "tags": []
          },
          "execution_count": 170
        }
      ]
    },
    {
      "cell_type": "code",
      "metadata": {
        "colab": {
          "base_uri": "https://localhost:8080/"
        },
        "id": "nT590mdVlx3I",
        "outputId": "174fe9cd-83d0-4d29-934a-8287b9f86a8b"
      },
      "source": [
        "y_pred = dt_clf.predict(X_test)\n",
        "from sklearn.metrics import confusion_matrix\n",
        "confusion_matrix(y_test, y_pred)"
      ],
      "execution_count": 172,
      "outputs": [
        {
          "output_type": "execute_result",
          "data": {
            "text/plain": [
              "array([[48668,     5],\n",
              "       [ 9344,  8978]])"
            ]
          },
          "metadata": {
            "tags": []
          },
          "execution_count": 172
        }
      ]
    },
    {
      "cell_type": "markdown",
      "metadata": {
        "id": "NAKZfDtHm4IW"
      },
      "source": [
        "## **Utilizando o algoritmo Random Forest**"
      ]
    },
    {
      "cell_type": "code",
      "metadata": {
        "colab": {
          "base_uri": "https://localhost:8080/"
        },
        "id": "ty2lgOikmza8",
        "outputId": "abbc4c42-5f91-4b36-a90a-ad7de0702102"
      },
      "source": [
        "from sklearn import ensemble\n",
        "rf_clf = ensemble.RandomForestClassifier(n_estimators = 100)\n",
        "rf_clf.fit(X_train, y_train)\n",
        "rf_clf.score(X_test, y_test)"
      ],
      "execution_count": 173,
      "outputs": [
        {
          "output_type": "execute_result",
          "data": {
            "text/plain": [
              "0.8474065228748414"
            ]
          },
          "metadata": {
            "tags": []
          },
          "execution_count": 173
        }
      ]
    },
    {
      "cell_type": "code",
      "metadata": {
        "colab": {
          "base_uri": "https://localhost:8080/"
        },
        "id": "QawivO_FoOyL",
        "outputId": "d2416491-2e6c-42d7-f662-ee3ab7301550"
      },
      "source": [
        "y_pred = rf_clf.predict(X_test)\n",
        "from sklearn.metrics import confusion_matrix\n",
        "confusion_matrix(y_test, y_pred)"
      ],
      "execution_count": 174,
      "outputs": [
        {
          "output_type": "execute_result",
          "data": {
            "text/plain": [
              "array([[47248,  1425],\n",
              "       [ 8798,  9524]])"
            ]
          },
          "metadata": {
            "tags": []
          },
          "execution_count": 174
        }
      ]
    },
    {
      "cell_type": "markdown",
      "metadata": {
        "id": "RBROOaulofRy"
      },
      "source": [
        "## **Utilizando o algoritmo Naive Bayes**"
      ]
    },
    {
      "cell_type": "code",
      "metadata": {
        "colab": {
          "base_uri": "https://localhost:8080/"
        },
        "id": "kSnJ7MsNonKW",
        "outputId": "fd84849a-3918-45c0-f318-e0012fedfe27"
      },
      "source": [
        "from sklearn.naive_bayes import GaussianNB\n",
        "nb_clf = GaussianNB()\n",
        "nb_clf.fit(X_train, y_train)\n",
        "nb_clf.score(X_test, y_test)"
      ],
      "execution_count": 175,
      "outputs": [
        {
          "output_type": "execute_result",
          "data": {
            "text/plain": [
              "0.8365400403015151"
            ]
          },
          "metadata": {
            "tags": []
          },
          "execution_count": 175
        }
      ]
    },
    {
      "cell_type": "code",
      "metadata": {
        "colab": {
          "base_uri": "https://localhost:8080/"
        },
        "id": "T3oGoQwypUQN",
        "outputId": "79544bb4-1df3-4868-a016-84124b5e9a63"
      },
      "source": [
        "y_pred = nb_clf.predict(X_test)\n",
        "from sklearn.metrics import confusion_matrix\n",
        "confusion_matrix(y_test, y_pred)"
      ],
      "execution_count": 176,
      "outputs": [
        {
          "output_type": "execute_result",
          "data": {
            "text/plain": [
              "array([[46544,  2129],\n",
              "       [ 8822,  9500]])"
            ]
          },
          "metadata": {
            "tags": []
          },
          "execution_count": 176
        }
      ]
    }
  ]
}