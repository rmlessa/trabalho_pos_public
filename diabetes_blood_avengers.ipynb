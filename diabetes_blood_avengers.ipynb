{
  "nbformat": 4,
  "nbformat_minor": 0,
  "metadata": {
    "kernelspec": {
      "language": "python",
      "display_name": "Python 3",
      "name": "python3"
    },
    "language_info": {
      "pygments_lexer": "ipython3",
      "nbconvert_exporter": "python",
      "version": "3.6.4",
      "file_extension": ".py",
      "codemirror_mode": {
        "name": "ipython",
        "version": 3
      },
      "name": "python",
      "mimetype": "text/x-python"
    },
    "colab": {
      "name": "diabetes-blood-avengers.ipynb",
      "provenance": [],
      "include_colab_link": true
    }
  },
  "cells": [
    {
      "cell_type": "markdown",
      "metadata": {
        "id": "view-in-github",
        "colab_type": "text"
      },
      "source": [
        "<a href=\"https://colab.research.google.com/github/rmlessa/trabalho_pos_public/blob/main/diabetes_blood_avengers.ipynb\" target=\"_parent\"><img src=\"https://colab.research.google.com/assets/colab-badge.svg\" alt=\"Open In Colab\"/></a>"
      ]
    },
    {
      "cell_type": "code",
      "metadata": {
        "_uuid": "8f2839f25d086af736a60e9eeb907d3b93b6e0e5",
        "_cell_guid": "b1076dfc-b9ad-4769-8c92-a6c4dae69d19",
        "execution": {
          "iopub.status.busy": "2021-08-13T04:27:09.258354Z",
          "iopub.execute_input": "2021-08-13T04:27:09.258793Z",
          "iopub.status.idle": "2021-08-13T04:27:11.075633Z",
          "shell.execute_reply.started": "2021-08-13T04:27:09.258702Z",
          "shell.execute_reply": "2021-08-13T04:27:11.074387Z"
        },
        "trusted": true,
        "id": "HqZvptdEjdF1"
      },
      "source": [
        "# This Python 3 environment comes with many helpful analytics libraries installed\n",
        "# It is defined by the kaggle/python Docker image: https://github.com/kaggle/docker-python\n",
        "# For example, here's several helpful packages to load\n",
        "\n",
        "import numpy as np # linear algebra\n",
        "import pandas as pd # data processing, CSV file I/O (e.g. pd.read_csv)\n",
        "from sklearn.preprocessing import LabelEncoder\n",
        "from sklearn.model_selection import train_test_split\n",
        "from sklearn.preprocessing import MinMaxScaler\n",
        "from sklearn.compose import ColumnTransformer\n",
        "from sklearn.feature_selection import SelectKBest, mutual_info_classif\n",
        "from sklearn.neighbors import KNeighborsClassifier\n",
        "from imblearn.pipeline import Pipeline\n",
        "from sklearn.model_selection import KFold, cross_val_score\n",
        "from sklearn.metrics import roc_curve, auc, accuracy_score, classification_report, confusion_matrix, ConfusionMatrixDisplay\n",
        "import matplotlib.pyplot as plt\n",
        "import seaborn as sns\n",
        "#from sklearn.linear_model import LogisticRegression\n",
        "from sklearn.ensemble import RandomForestClassifier\n",
        "#from sklearn.tree import DecisionTreeClassifier\n",
        "\n",
        "#import xgboost\n",
        "\n",
        "# Input data files are available in the read-only \"../input/\" directory\n",
        "# For example, running this (by clicking run or pressing Shift+Enter) will list all files under the input directory"
      ],
      "execution_count": null,
      "outputs": []
    },
    {
      "cell_type": "code",
      "metadata": {
        "execution": {
          "iopub.status.busy": "2021-08-13T04:27:11.077673Z",
          "iopub.execute_input": "2021-08-13T04:27:11.078162Z",
          "iopub.status.idle": "2021-08-13T04:27:11.08358Z",
          "shell.execute_reply.started": "2021-08-13T04:27:11.078114Z",
          "shell.execute_reply": "2021-08-13T04:27:11.082656Z"
        },
        "trusted": true,
        "id": "NuZNSxSZjdF8"
      },
      "source": [
        "pd.options.display.max_columns = None\n",
        "pd.options.display.max_rows = None"
      ],
      "execution_count": null,
      "outputs": []
    },
    {
      "cell_type": "code",
      "metadata": {
        "execution": {
          "iopub.status.busy": "2021-08-13T04:27:11.085276Z",
          "iopub.execute_input": "2021-08-13T04:27:11.085869Z",
          "iopub.status.idle": "2021-08-13T04:27:11.100217Z",
          "shell.execute_reply.started": "2021-08-13T04:27:11.085832Z",
          "shell.execute_reply": "2021-08-13T04:27:11.09926Z"
        },
        "trusted": true,
        "id": "-kT0xrrfjdF9"
      },
      "source": [
        "sns.set(font_scale=1.4)\n",
        "sns.set_style({'font.family': 'serif',\n",
        "               'fontname': 'Times New Roman'})"
      ],
      "execution_count": null,
      "outputs": []
    },
    {
      "cell_type": "markdown",
      "metadata": {
        "id": "jES2XjJmjdF-"
      },
      "source": [
        "## 1. Importação dos datasets"
      ]
    },
    {
      "cell_type": "code",
      "metadata": {
        "execution": {
          "iopub.status.busy": "2021-08-13T04:27:11.101974Z",
          "iopub.execute_input": "2021-08-13T04:27:11.102542Z",
          "iopub.status.idle": "2021-08-13T04:27:14.982152Z",
          "shell.execute_reply.started": "2021-08-13T04:27:11.102505Z",
          "shell.execute_reply": "2021-08-13T04:27:14.981Z"
        },
        "trusted": true,
        "id": "isQJBdX1jdGA"
      },
      "source": [
        "df_treino = pd.DataFrame(pd.read_csv(\"../input/aml-t2-fw/Dados_Treino.csv\"))\n",
        "df_teste = pd.DataFrame(pd.read_csv(\"../input/aml-t2-fw/Dados_Teste.csv\"))\n",
        "df_submissao = pd.DataFrame(pd.read_csv(\"../input/aml-t2-fw/Template_Submissao.csv\"))"
      ],
      "execution_count": null,
      "outputs": []
    },
    {
      "cell_type": "code",
      "metadata": {
        "execution": {
          "iopub.status.busy": "2021-08-13T04:27:14.983783Z",
          "iopub.execute_input": "2021-08-13T04:27:14.984258Z",
          "iopub.status.idle": "2021-08-13T04:27:15.213354Z",
          "shell.execute_reply.started": "2021-08-13T04:27:14.984213Z",
          "shell.execute_reply": "2021-08-13T04:27:15.212376Z"
        },
        "trusted": true,
        "id": "XxhWLqtzjdGB"
      },
      "source": [
        "df_treino.head()"
      ],
      "execution_count": null,
      "outputs": []
    },
    {
      "cell_type": "markdown",
      "metadata": {
        "id": "jLGhmefxjdGC"
      },
      "source": [
        "## 1.1 Análise e Transformação dos datasets"
      ]
    },
    {
      "cell_type": "code",
      "metadata": {
        "execution": {
          "iopub.status.busy": "2021-08-13T04:27:15.214549Z",
          "iopub.execute_input": "2021-08-13T04:27:15.215129Z",
          "iopub.status.idle": "2021-08-13T04:27:15.237299Z",
          "shell.execute_reply.started": "2021-08-13T04:27:15.215092Z",
          "shell.execute_reply": "2021-08-13T04:27:15.235947Z"
        },
        "trusted": true,
        "id": "lv6GSViejdGD"
      },
      "source": [
        "#identificação de variáveis categóricas\n",
        "df_treino.dtypes.sort_values()"
      ],
      "execution_count": null,
      "outputs": []
    },
    {
      "cell_type": "code",
      "metadata": {
        "execution": {
          "iopub.status.busy": "2021-08-13T04:27:15.239321Z",
          "iopub.execute_input": "2021-08-13T04:27:15.240288Z",
          "iopub.status.idle": "2021-08-13T04:27:15.24823Z",
          "shell.execute_reply.started": "2021-08-13T04:27:15.240233Z",
          "shell.execute_reply": "2021-08-13T04:27:15.247021Z"
        },
        "trusted": true,
        "id": "XiqObk-WjdGE"
      },
      "source": [
        "df_treino.shape"
      ],
      "execution_count": null,
      "outputs": []
    },
    {
      "cell_type": "code",
      "metadata": {
        "execution": {
          "iopub.status.busy": "2021-08-13T04:27:15.252715Z",
          "iopub.execute_input": "2021-08-13T04:27:15.253193Z",
          "iopub.status.idle": "2021-08-13T04:27:15.262953Z",
          "shell.execute_reply.started": "2021-08-13T04:27:15.253158Z",
          "shell.execute_reply": "2021-08-13T04:27:15.261709Z"
        },
        "trusted": true,
        "id": "0abkMDP-jdGF"
      },
      "source": [
        "#após análise baseada no dicionário de dados, \n",
        "#decidimos por excluir algumas colunas que não parecem ter algum tipo de ligação \n",
        "#com o resultado que queremos buscar\n",
        "\n",
        "#df_treino = df_treino.drop(columns=['hospital_id', 'elective_surgery', 'hospital_admit_source','icu_admit_source','icu_id','icu_stay_type','icu_type','pre_icu_los_days','readmission_status', 'gcs_unable_apache'])"
      ],
      "execution_count": null,
      "outputs": []
    },
    {
      "cell_type": "code",
      "metadata": {
        "execution": {
          "iopub.status.busy": "2021-08-13T04:27:15.265944Z",
          "iopub.execute_input": "2021-08-13T04:27:15.266534Z",
          "iopub.status.idle": "2021-08-13T04:27:15.318117Z",
          "shell.execute_reply.started": "2021-08-13T04:27:15.266488Z",
          "shell.execute_reply": "2021-08-13T04:27:15.316562Z"
        },
        "trusted": true,
        "id": "HVkFIqcxjdGF"
      },
      "source": [
        "#identificar o valor mais frequente das variáveis categoricas\n",
        "print(df_treino.gender.value_counts())"
      ],
      "execution_count": null,
      "outputs": []
    },
    {
      "cell_type": "code",
      "metadata": {
        "execution": {
          "iopub.status.busy": "2021-08-13T04:27:15.319417Z",
          "iopub.execute_input": "2021-08-13T04:27:15.320214Z",
          "iopub.status.idle": "2021-08-13T04:27:15.359325Z",
          "shell.execute_reply.started": "2021-08-13T04:27:15.320155Z",
          "shell.execute_reply": "2021-08-13T04:27:15.356833Z"
        },
        "trusted": true,
        "id": "WjgxYGzPjdGG"
      },
      "source": [
        "#identificar o valor mais frequente das variáveis categoricas\n",
        "print(df_treino.hospital_admit_source.value_counts())"
      ],
      "execution_count": null,
      "outputs": []
    },
    {
      "cell_type": "code",
      "metadata": {
        "execution": {
          "iopub.status.busy": "2021-08-13T04:27:15.361748Z",
          "iopub.execute_input": "2021-08-13T04:27:15.362151Z",
          "iopub.status.idle": "2021-08-13T04:27:15.404843Z",
          "shell.execute_reply.started": "2021-08-13T04:27:15.362116Z",
          "shell.execute_reply": "2021-08-13T04:27:15.403781Z"
        },
        "trusted": true,
        "id": "LJUwsNh-jdGH"
      },
      "source": [
        "#identificar o valor mais frequente das variáveis categoricas\n",
        "print(df_treino.icu_stay_type.value_counts())"
      ],
      "execution_count": null,
      "outputs": []
    },
    {
      "cell_type": "code",
      "metadata": {
        "execution": {
          "iopub.status.busy": "2021-08-13T04:27:15.406561Z",
          "iopub.execute_input": "2021-08-13T04:27:15.406904Z",
          "iopub.status.idle": "2021-08-13T04:27:15.443796Z",
          "shell.execute_reply.started": "2021-08-13T04:27:15.406858Z",
          "shell.execute_reply": "2021-08-13T04:27:15.442699Z"
        },
        "trusted": true,
        "id": "eqfzEijfjdGI"
      },
      "source": [
        "#identificar o valor mais frequente das variáveis categoricas\n",
        "print(df_treino.ethnicity.value_counts())"
      ],
      "execution_count": null,
      "outputs": []
    },
    {
      "cell_type": "code",
      "metadata": {
        "execution": {
          "iopub.status.busy": "2021-08-13T04:27:15.445596Z",
          "iopub.execute_input": "2021-08-13T04:27:15.445997Z",
          "iopub.status.idle": "2021-08-13T04:27:15.490611Z",
          "shell.execute_reply.started": "2021-08-13T04:27:15.445965Z",
          "shell.execute_reply": "2021-08-13T04:27:15.489583Z"
        },
        "trusted": true,
        "id": "MjPYd6abjdGJ"
      },
      "source": [
        "#identificar o valor mais frequente das variáveis categoricas\n",
        "print(df_treino.icu_admit_source.value_counts())"
      ],
      "execution_count": null,
      "outputs": []
    },
    {
      "cell_type": "code",
      "metadata": {
        "execution": {
          "iopub.status.busy": "2021-08-13T04:27:15.492135Z",
          "iopub.execute_input": "2021-08-13T04:27:15.492435Z",
          "iopub.status.idle": "2021-08-13T04:27:15.529996Z",
          "shell.execute_reply.started": "2021-08-13T04:27:15.492406Z",
          "shell.execute_reply": "2021-08-13T04:27:15.52882Z"
        },
        "trusted": true,
        "id": "fBxJw4sljdGK"
      },
      "source": [
        "#identificar o valor mais frequente das variáveis categoricas\n",
        "print(df_treino.icu_type.value_counts())"
      ],
      "execution_count": null,
      "outputs": []
    },
    {
      "cell_type": "code",
      "metadata": {
        "execution": {
          "iopub.status.busy": "2021-08-13T04:27:15.531454Z",
          "iopub.execute_input": "2021-08-13T04:27:15.531755Z",
          "iopub.status.idle": "2021-08-13T04:27:15.785182Z",
          "shell.execute_reply.started": "2021-08-13T04:27:15.531726Z",
          "shell.execute_reply": "2021-08-13T04:27:15.784175Z"
        },
        "trusted": true,
        "id": "_CiKEqKXjdGM"
      },
      "source": [
        "valores_preenchimento_cat = {'ethnicity': 'Caucasian', \n",
        "                             'gender': 'M',\n",
        "                             'hospital_admit_source': 'Emergency Department',\n",
        "                             'icu_admit_source': 'Accident & Emergency', \n",
        "                             'icu_stay_type': 'admit',\n",
        "                             'icu_type': 'Med-Surg ICU'}\n",
        "\n",
        "df_treino.fillna(value=valores_preenchimento_cat, inplace=True)\n",
        "df_teste.fillna(value=valores_preenchimento_cat, inplace=True)\n",
        "\n",
        "df_treino.fillna(0, inplace=True)\n",
        "df_teste.fillna(0, inplace=True)"
      ],
      "execution_count": null,
      "outputs": []
    },
    {
      "cell_type": "code",
      "metadata": {
        "execution": {
          "iopub.status.busy": "2021-08-13T04:27:15.7868Z",
          "iopub.execute_input": "2021-08-13T04:27:15.787207Z",
          "iopub.status.idle": "2021-08-13T04:27:34.554553Z",
          "shell.execute_reply.started": "2021-08-13T04:27:15.78717Z",
          "shell.execute_reply": "2021-08-13T04:27:34.5535Z"
        },
        "trusted": true,
        "id": "BG3d0KEEjdGM"
      },
      "source": [
        "df_treino.fillna(df_treino.encounter_id.median(),inplace=True)\n",
        "df_treino.fillna(df_treino.lymphoma.median(),inplace=True)\n",
        "df_treino.fillna(df_treino.leukemia.median(),inplace=True)\n",
        "df_treino.fillna(df_treino.immunosuppression.median(),inplace=True)\n",
        "df_treino.fillna(df_treino.hepatic_failure.median(),inplace=True)\n",
        "df_treino.fillna(df_treino.cirrhosis.median(),inplace=True)\n",
        "df_treino.fillna(df_treino.aids.median(),inplace=True)\n",
        "df_treino.fillna(df_treino.solid_tumor_with_metastasis.median(),inplace=True)\n",
        "df_treino.fillna(df_treino.ventilated_apache.median(),inplace=True)\n",
        "df_treino.fillna(df_treino.intubated_apache.median(),inplace=True)\n",
        "df_treino.fillna(df_treino.arf_apache.median(),inplace=True)\n",
        "df_treino.fillna(df_treino.apache_post_operative.median(),inplace=True)\n",
        "df_treino.fillna(df_treino.readmission_status.median(),inplace=True)\n",
        "df_treino.fillna(df_treino.hospital_id.median(),inplace=True)\n",
        "df_treino.fillna(df_treino.elective_surgery.median(),inplace=True)\n",
        "df_treino.fillna(df_treino.icu_id.median(),inplace=True)\n",
        "df_treino.fillna(df_treino.d1_albumin_max.median(),inplace=True)\n",
        "df_treino.fillna(df_treino.d1_platelets_max.median(),inplace=True)\n",
        "df_treino.fillna(df_treino.d1_platelets_min.median(),inplace=True)\n",
        "df_treino.fillna(df_treino.d1_potassium_max.median(),inplace=True)\n",
        "df_treino.fillna(df_treino.d1_potassium_min.median(),inplace=True)\n",
        "df_treino.fillna(df_treino.d1_sodium_max.median(),inplace=True)\n",
        "df_treino.fillna(df_treino.d1_sodium_min.median(),inplace=True)\n",
        "df_treino.fillna(df_treino.d1_wbc_max.median(),inplace=True)\n",
        "df_treino.fillna(df_treino.d1_wbc_min.median(),inplace=True)\n",
        "df_treino.fillna(df_treino.h1_albumin_min.median(),inplace=True)\n",
        "df_treino.fillna(df_treino.d1_lactate_min.median(),inplace=True)\n",
        "df_treino.fillna(df_treino.h1_bilirubin_max.median(),inplace=True)\n",
        "df_treino.fillna(df_treino.h1_bilirubin_min.median(),inplace=True)\n",
        "df_treino.fillna(df_treino.h1_bun_max.median(),inplace=True)\n",
        "df_treino.fillna(df_treino.h1_bun_min.median(),inplace=True)\n",
        "df_treino.fillna(df_treino.h1_calcium_max.median(),inplace=True)\n",
        "df_treino.fillna(df_treino.h1_calcium_min.median(),inplace=True)\n",
        "df_treino.fillna(df_treino.h1_albumin_max.median(),inplace=True)\n",
        "df_treino.fillna(df_treino.d1_lactate_max.median(),inplace=True)\n",
        "df_treino.fillna(df_treino.d1_inr_max.median(),inplace=True)\n",
        "df_treino.fillna(df_treino.h1_creatinine_max.median(),inplace=True)\n",
        "df_treino.fillna(df_treino.d1_bilirubin_max.median(),inplace=True)\n",
        "df_treino.fillna(df_treino.d1_bilirubin_min.median(),inplace=True)\n",
        "df_treino.fillna(df_treino.d1_bun_max.median(),inplace=True)\n",
        "df_treino.fillna(df_treino.d1_bun_min.median(),inplace=True)\n",
        "df_treino.fillna(df_treino.d1_calcium_max.median(),inplace=True)\n",
        "df_treino.fillna(df_treino.d1_calcium_min.median(),inplace=True)\n",
        "df_treino.fillna(df_treino.d1_creatinine_max.median(),inplace=True)\n",
        "df_treino.fillna(df_treino.d1_inr_min.median(),inplace=True)\n",
        "df_treino.fillna(df_treino.d1_creatinine_min.median(),inplace=True)\n",
        "df_treino.fillna(df_treino.d1_glucose_min.median(),inplace=True)\n",
        "df_treino.fillna(df_treino.d1_hco3_max.median(),inplace=True)\n",
        "df_treino.fillna(df_treino.d1_hco3_min.median(),inplace=True)\n",
        "df_treino.fillna(df_treino.d1_hemaglobin_max.median(),inplace=True)\n",
        "df_treino.fillna(df_treino.d1_hemaglobin_min.median(),inplace=True)\n",
        "df_treino.fillna(df_treino.d1_hematocrit_max.median(),inplace=True)\n",
        "df_treino.fillna(df_treino.d1_hematocrit_min.median(),inplace=True)\n",
        "df_treino.fillna(df_treino.d1_glucose_max.median(),inplace=True)\n",
        "df_treino.fillna(df_treino.h1_creatinine_min.median(),inplace=True)\n",
        "df_treino.fillna(df_treino.h1_glucose_min.median(),inplace=True)\n",
        "df_treino.fillna(df_treino.d1_albumin_min.median(),inplace=True)\n",
        "df_treino.fillna(df_treino.d1_arterial_ph_max.median(),inplace=True)\n",
        "df_treino.fillna(df_treino.d1_arterial_ph_min.median(),inplace=True)\n",
        "df_treino.fillna(df_treino.d1_arterial_po2_max.median(),inplace=True)\n",
        "df_treino.fillna(df_treino.d1_arterial_po2_min.median(),inplace=True)\n",
        "df_treino.fillna(df_treino.d1_pao2fio2ratio_max.median(),inplace=True)\n",
        "df_treino.fillna(df_treino.d1_pao2fio2ratio_min.median(),inplace=True)\n",
        "df_treino.fillna(df_treino.h1_arterial_pco2_max.median(),inplace=True)\n",
        "df_treino.fillna(df_treino.d1_arterial_pco2_min.median(),inplace=True)\n",
        "df_treino.fillna(df_treino.h1_arterial_pco2_min.median(),inplace=True)\n",
        "df_treino.fillna(df_treino.h1_arterial_ph_min.median(),inplace=True)\n",
        "df_treino.fillna(df_treino.h1_arterial_po2_max.median(),inplace=True)\n",
        "df_treino.fillna(df_treino.h1_arterial_po2_min.median(),inplace=True)\n",
        "df_treino.fillna(df_treino.h1_pao2fio2ratio_max.median(),inplace=True)\n",
        "df_treino.fillna(df_treino.h1_pao2fio2ratio_min.median(),inplace=True)\n",
        "df_treino.fillna(df_treino.bmi.median(),inplace=True)\n",
        "df_treino.fillna(df_treino.age.median(),inplace=True)\n",
        "df_treino.fillna(df_treino.h1_arterial_ph_max.median(),inplace=True)\n",
        "df_treino.fillna(df_treino.h1_glucose_max.median(),inplace=True)\n",
        "df_treino.fillna(df_treino.d1_arterial_pco2_max.median(),inplace=True)\n",
        "df_treino.fillna(df_treino.h1_wbc_max.median(),inplace=True)\n",
        "df_treino.fillna(df_treino.h1_hco3_max.median(),inplace=True)\n",
        "df_treino.fillna(df_treino.h1_hco3_min.median(),inplace=True)\n",
        "df_treino.fillna(df_treino.h1_hemaglobin_max.median(),inplace=True)\n",
        "df_treino.fillna(df_treino.h1_hemaglobin_min.median(),inplace=True)\n",
        "df_treino.fillna(df_treino.h1_hematocrit_max.median(),inplace=True)\n",
        "df_treino.fillna(df_treino.h1_hematocrit_min.median(),inplace=True)\n",
        "df_treino.fillna(df_treino.h1_inr_max.median(),inplace=True)\n",
        "df_treino.fillna(df_treino.h1_wbc_min.median(),inplace=True)\n",
        "df_treino.fillna(df_treino.h1_inr_min.median(),inplace=True)\n",
        "df_treino.fillna(df_treino.h1_lactate_min.median(),inplace=True)\n",
        "df_treino.fillna(df_treino.h1_platelets_max.median(),inplace=True)\n",
        "df_treino.fillna(df_treino.h1_platelets_min.median(),inplace=True)\n",
        "df_treino.fillna(df_treino.h1_potassium_max.median(),inplace=True)\n",
        "df_treino.fillna(df_treino.h1_potassium_min.median(),inplace=True)\n",
        "df_treino.fillna(df_treino.h1_sodium_max.median(),inplace=True)\n",
        "df_treino.fillna(df_treino.h1_sodium_min.median(),inplace=True)\n",
        "df_treino.fillna(df_treino.h1_lactate_max.median(),inplace=True)\n",
        "df_treino.fillna(df_treino.pre_icu_los_days.median(),inplace=True)\n",
        "df_treino.fillna(df_treino.h1_sysbp_invasive_min.median(),inplace=True)\n",
        "df_treino.fillna(df_treino.h1_temp_max.median(),inplace=True)\n",
        "df_treino.fillna(df_treino.resprate_apache.median(),inplace=True)\n",
        "df_treino.fillna(df_treino.sodium_apache.median(),inplace=True)\n",
        "df_treino.fillna(df_treino.temp_apache.median(),inplace=True)\n",
        "df_treino.fillna(df_treino.urineoutput_apache.median(),inplace=True)\n",
        "df_treino.fillna(df_treino.wbc_apache.median(),inplace=True)\n",
        "df_treino.fillna(df_treino.d1_diasbp_invasive_max.median(),inplace=True)\n",
        "df_treino.fillna(df_treino.d1_diasbp_invasive_min.median(),inplace=True)\n",
        "df_treino.fillna(df_treino.d1_diasbp_max.median(),inplace=True)\n",
        "df_treino.fillna(df_treino.d1_diasbp_min.median(),inplace=True)\n",
        "df_treino.fillna(df_treino.d1_diasbp_noninvasive_max.median(),inplace=True)\n",
        "df_treino.fillna(df_treino.d1_diasbp_noninvasive_min.median(),inplace=True)\n",
        "df_treino.fillna(df_treino.d1_heartrate_max.median(),inplace=True)\n",
        "df_treino.fillna(df_treino.d1_heartrate_min.median(),inplace=True)\n",
        "df_treino.fillna(df_treino.d1_mbp_invasive_max.median(),inplace=True)\n",
        "df_treino.fillna(df_treino.h1_temp_min.median(),inplace=True)\n",
        "df_treino.fillna(df_treino.ph_apache.median(),inplace=True)\n",
        "df_treino.fillna(df_treino.pao2_apache.median(),inplace=True)\n",
        "df_treino.fillna(df_treino.paco2_for_ph_apache.median(),inplace=True)\n",
        "df_treino.fillna(df_treino.paco2_apache.median(),inplace=True)\n",
        "df_treino.fillna(df_treino.weight.median(),inplace=True)\n",
        "df_treino.fillna(df_treino.albumin_apache.median(),inplace=True)\n",
        "df_treino.fillna(df_treino.apache_2_diagnosis.median(),inplace=True)\n",
        "df_treino.fillna(df_treino.apache_3j_diagnosis.median(),inplace=True)\n",
        "df_treino.fillna(df_treino.bilirubin_apache.median(),inplace=True)\n",
        "df_treino.fillna(df_treino.bun_apache.median(),inplace=True)\n",
        "df_treino.fillna(df_treino.creatinine_apache.median(),inplace=True)\n",
        "df_treino.fillna(df_treino.d1_mbp_max.median(),inplace=True)\n",
        "df_treino.fillna(df_treino.fio2_apache.median(),inplace=True)\n",
        "df_treino.fillna(df_treino.gcs_motor_apache.median(),inplace=True)\n",
        "df_treino.fillna(df_treino.gcs_unable_apache.median(),inplace=True)\n",
        "df_treino.fillna(df_treino.gcs_verbal_apache.median(),inplace=True)\n",
        "df_treino.fillna(df_treino.glucose_apache.median(),inplace=True)\n",
        "df_treino.fillna(df_treino.heart_rate_apache.median(),inplace=True)\n",
        "df_treino.fillna(df_treino.hematocrit_apache.median(),inplace=True)\n",
        "df_treino.fillna(df_treino.map_apache.median(),inplace=True)\n",
        "df_treino.fillna(df_treino.gcs_eyes_apache.median(),inplace=True)\n",
        "df_treino.fillna(df_treino.d1_mbp_min.median(),inplace=True)\n",
        "df_treino.fillna(df_treino.d1_mbp_invasive_min.median(),inplace=True)\n",
        "df_treino.fillna(df_treino.d1_mbp_noninvasive_min.median(),inplace=True)\n",
        "df_treino.fillna(df_treino.h1_mbp_invasive_max.median(),inplace=True)\n",
        "df_treino.fillna(df_treino.h1_mbp_invasive_min.median(),inplace=True)\n",
        "df_treino.fillna(df_treino.h1_mbp_max.median(),inplace=True)\n",
        "df_treino.fillna(df_treino.h1_mbp_min.median(),inplace=True)\n",
        "df_treino.fillna(df_treino.h1_mbp_noninvasive_max.median(),inplace=True)\n",
        "df_treino.fillna(df_treino.h1_mbp_noninvasive_min.median(),inplace=True)\n",
        "df_treino.fillna(df_treino.h1_resprate_max.median(),inplace=True)\n",
        "df_treino.fillna(df_treino.d1_mbp_noninvasive_max.median(),inplace=True)\n",
        "df_treino.fillna(df_treino.h1_resprate_min.median(),inplace=True)\n",
        "df_treino.fillna(df_treino.h1_spo2_min.median(),inplace=True)\n",
        "df_treino.fillna(df_treino.h1_sysbp_invasive_max.median(),inplace=True)\n",
        "df_treino.fillna(df_treino.height.median(),inplace=True)\n",
        "df_treino.fillna(df_treino.h1_sysbp_max.median(),inplace=True)\n",
        "df_treino.fillna(df_treino.h1_sysbp_min.median(),inplace=True)\n",
        "df_treino.fillna(df_treino.h1_sysbp_noninvasive_max.median(),inplace=True)\n",
        "df_treino.fillna(df_treino.h1_sysbp_noninvasive_min.median(),inplace=True)\n",
        "df_treino.fillna(df_treino.h1_spo2_max.median(),inplace=True)\n",
        "df_treino.fillna(df_treino.h1_heartrate_max.median(),inplace=True)\n",
        "df_treino.fillna(df_treino.h1_heartrate_min.median(),inplace=True)\n",
        "df_treino.fillna(df_treino.h1_diasbp_noninvasive_max.median(),inplace=True)\n",
        "df_treino.fillna(df_treino.d1_resprate_max.median(),inplace=True)\n",
        "df_treino.fillna(df_treino.d1_resprate_min.median(),inplace=True)\n",
        "df_treino.fillna(df_treino.d1_spo2_max.median(),inplace=True)\n",
        "df_treino.fillna(df_treino.d1_spo2_min.median(),inplace=True)\n",
        "df_treino.fillna(df_treino.d1_sysbp_invasive_max.median(),inplace=True)\n",
        "df_treino.fillna(df_treino.d1_sysbp_invasive_min.median(),inplace=True)\n",
        "df_treino.fillna(df_treino.d1_sysbp_max.median(),inplace=True)\n",
        "df_treino.fillna(df_treino.h1_diasbp_noninvasive_min.median(),inplace=True)\n",
        "df_treino.fillna(df_treino.d1_sysbp_noninvasive_max.median(),inplace=True)\n",
        "df_treino.fillna(df_treino.d1_sysbp_min.median(),inplace=True)\n",
        "df_treino.fillna(df_treino.d1_temp_max.median(),inplace=True)\n",
        "df_treino.fillna(df_treino.d1_temp_min.median(),inplace=True)\n",
        "df_treino.fillna(df_treino.h1_diasbp_invasive_max.median(),inplace=True)\n",
        "df_treino.fillna(df_treino.h1_diasbp_invasive_min.median(),inplace=True)\n",
        "df_treino.fillna(df_treino.h1_diasbp_max.median(),inplace=True)\n",
        "df_treino.fillna(df_treino.h1_diasbp_min.median(),inplace=True)\n",
        "df_treino.fillna(df_treino.d1_sysbp_noninvasive_min.median(),inplace=True)\n"
      ],
      "execution_count": null,
      "outputs": []
    },
    {
      "cell_type": "code",
      "metadata": {
        "execution": {
          "iopub.status.busy": "2021-08-13T04:27:34.555808Z",
          "iopub.execute_input": "2021-08-13T04:27:34.55612Z",
          "iopub.status.idle": "2021-08-13T04:27:37.111777Z",
          "shell.execute_reply.started": "2021-08-13T04:27:34.556092Z",
          "shell.execute_reply": "2021-08-13T04:27:37.110723Z"
        },
        "trusted": true,
        "id": "ptTsJQrgjdGR"
      },
      "source": [
        "df_teste.fillna(df_teste.encounter_id.median(),inplace=True)\n",
        "df_teste.fillna(df_teste.lymphoma.median(),inplace=True)\n",
        "df_teste.fillna(df_teste.leukemia.median(),inplace=True)\n",
        "df_teste.fillna(df_teste.immunosuppression.median(),inplace=True)\n",
        "df_teste.fillna(df_teste.hepatic_failure.median(),inplace=True)\n",
        "df_teste.fillna(df_teste.cirrhosis.median(),inplace=True)\n",
        "df_teste.fillna(df_teste.aids.median(),inplace=True)\n",
        "df_teste.fillna(df_teste.solid_tumor_with_metastasis.median(),inplace=True)\n",
        "df_teste.fillna(df_teste.ventilated_apache.median(),inplace=True)\n",
        "df_teste.fillna(df_teste.intubated_apache.median(),inplace=True)\n",
        "df_teste.fillna(df_teste.arf_apache.median(),inplace=True)\n",
        "df_teste.fillna(df_teste.apache_post_operative.median(),inplace=True)\n",
        "df_teste.fillna(df_teste.readmission_status.median(),inplace=True)\n",
        "df_teste.fillna(df_teste.hospital_id.median(),inplace=True)\n",
        "df_teste.fillna(df_teste.elective_surgery.median(),inplace=True)\n",
        "df_teste.fillna(df_teste.icu_id.median(),inplace=True)\n",
        "df_teste.fillna(df_teste.d1_albumin_max.median(),inplace=True)\n",
        "df_teste.fillna(df_teste.d1_platelets_max.median(),inplace=True)\n",
        "df_teste.fillna(df_teste.d1_platelets_min.median(),inplace=True)\n",
        "df_teste.fillna(df_teste.d1_potassium_max.median(),inplace=True)\n",
        "df_teste.fillna(df_teste.d1_potassium_min.median(),inplace=True)\n",
        "df_teste.fillna(df_teste.d1_sodium_max.median(),inplace=True)\n",
        "df_teste.fillna(df_teste.d1_sodium_min.median(),inplace=True)\n",
        "df_teste.fillna(df_teste.d1_wbc_max.median(),inplace=True)\n",
        "df_teste.fillna(df_teste.d1_wbc_min.median(),inplace=True)\n",
        "df_teste.fillna(df_teste.h1_albumin_min.median(),inplace=True)\n",
        "df_teste.fillna(df_teste.d1_lactate_min.median(),inplace=True)\n",
        "df_teste.fillna(df_teste.h1_bilirubin_max.median(),inplace=True)\n",
        "df_teste.fillna(df_teste.h1_bilirubin_min.median(),inplace=True)\n",
        "df_teste.fillna(df_teste.h1_bun_max.median(),inplace=True)\n",
        "df_teste.fillna(df_teste.h1_bun_min.median(),inplace=True)\n",
        "df_teste.fillna(df_teste.h1_calcium_max.median(),inplace=True)\n",
        "df_teste.fillna(df_teste.h1_calcium_min.median(),inplace=True)\n",
        "df_teste.fillna(df_teste.h1_albumin_max.median(),inplace=True)\n",
        "df_teste.fillna(df_teste.d1_lactate_max.median(),inplace=True)\n",
        "df_teste.fillna(df_teste.d1_inr_max.median(),inplace=True)\n",
        "df_teste.fillna(df_teste.h1_creatinine_max.median(),inplace=True)\n",
        "df_teste.fillna(df_teste.d1_bilirubin_max.median(),inplace=True)\n",
        "df_teste.fillna(df_teste.d1_bilirubin_min.median(),inplace=True)\n",
        "df_teste.fillna(df_teste.d1_bun_max.median(),inplace=True)\n",
        "df_teste.fillna(df_teste.d1_bun_min.median(),inplace=True)\n",
        "df_teste.fillna(df_teste.d1_calcium_max.median(),inplace=True)\n",
        "df_teste.fillna(df_teste.d1_calcium_min.median(),inplace=True)\n",
        "df_teste.fillna(df_teste.d1_creatinine_max.median(),inplace=True)\n",
        "df_teste.fillna(df_teste.d1_inr_min.median(),inplace=True)\n",
        "df_teste.fillna(df_teste.d1_creatinine_min.median(),inplace=True)\n",
        "df_teste.fillna(df_teste.d1_glucose_min.median(),inplace=True)\n",
        "df_teste.fillna(df_teste.d1_hco3_max.median(),inplace=True)\n",
        "df_teste.fillna(df_teste.d1_hco3_min.median(),inplace=True)\n",
        "df_teste.fillna(df_teste.d1_hemaglobin_max.median(),inplace=True)\n",
        "df_teste.fillna(df_teste.d1_hemaglobin_min.median(),inplace=True)\n",
        "df_teste.fillna(df_teste.d1_hematocrit_max.median(),inplace=True)\n",
        "df_teste.fillna(df_teste.d1_hematocrit_min.median(),inplace=True)\n",
        "df_teste.fillna(df_teste.d1_glucose_max.median(),inplace=True)\n",
        "df_teste.fillna(df_teste.h1_creatinine_min.median(),inplace=True)\n",
        "df_teste.fillna(df_teste.h1_glucose_min.median(),inplace=True)\n",
        "df_teste.fillna(df_teste.d1_albumin_min.median(),inplace=True)\n",
        "df_teste.fillna(df_teste.d1_arterial_ph_max.median(),inplace=True)\n",
        "df_teste.fillna(df_teste.d1_arterial_ph_min.median(),inplace=True)\n",
        "df_teste.fillna(df_teste.d1_arterial_po2_max.median(),inplace=True)\n",
        "df_teste.fillna(df_teste.d1_arterial_po2_min.median(),inplace=True)\n",
        "df_teste.fillna(df_teste.d1_pao2fio2ratio_max.median(),inplace=True)\n",
        "df_teste.fillna(df_teste.d1_pao2fio2ratio_min.median(),inplace=True)\n",
        "df_teste.fillna(df_teste.h1_arterial_pco2_max.median(),inplace=True)\n",
        "df_teste.fillna(df_teste.d1_arterial_pco2_min.median(),inplace=True)\n",
        "df_teste.fillna(df_teste.h1_arterial_pco2_min.median(),inplace=True)\n",
        "df_teste.fillna(df_teste.h1_arterial_ph_min.median(),inplace=True)\n",
        "df_teste.fillna(df_teste.h1_arterial_po2_max.median(),inplace=True)\n",
        "df_teste.fillna(df_teste.h1_arterial_po2_min.median(),inplace=True)\n",
        "df_teste.fillna(df_teste.h1_pao2fio2ratio_max.median(),inplace=True)\n",
        "df_teste.fillna(df_teste.h1_pao2fio2ratio_min.median(),inplace=True)\n",
        "df_teste.fillna(df_teste.bmi.median(),inplace=True)\n",
        "df_teste.fillna(df_teste.age.median(),inplace=True)\n",
        "df_teste.fillna(df_teste.h1_arterial_ph_max.median(),inplace=True)\n",
        "df_teste.fillna(df_teste.h1_glucose_max.median(),inplace=True)\n",
        "df_teste.fillna(df_teste.d1_arterial_pco2_max.median(),inplace=True)\n",
        "df_teste.fillna(df_teste.h1_wbc_max.median(),inplace=True)\n",
        "df_teste.fillna(df_teste.h1_hco3_max.median(),inplace=True)\n",
        "df_teste.fillna(df_teste.h1_hco3_min.median(),inplace=True)\n",
        "df_teste.fillna(df_teste.h1_hemaglobin_max.median(),inplace=True)\n",
        "df_teste.fillna(df_teste.h1_hemaglobin_min.median(),inplace=True)\n",
        "df_teste.fillna(df_teste.h1_hematocrit_max.median(),inplace=True)\n",
        "df_teste.fillna(df_teste.h1_hematocrit_min.median(),inplace=True)\n",
        "df_teste.fillna(df_teste.h1_inr_max.median(),inplace=True)\n",
        "df_teste.fillna(df_teste.h1_wbc_min.median(),inplace=True)\n",
        "df_teste.fillna(df_teste.h1_inr_min.median(),inplace=True)\n",
        "df_teste.fillna(df_teste.h1_lactate_min.median(),inplace=True)\n",
        "df_teste.fillna(df_teste.h1_platelets_max.median(),inplace=True)\n",
        "df_teste.fillna(df_teste.h1_platelets_min.median(),inplace=True)\n",
        "df_teste.fillna(df_teste.h1_potassium_max.median(),inplace=True)\n",
        "df_teste.fillna(df_teste.h1_potassium_min.median(),inplace=True)\n",
        "df_teste.fillna(df_teste.h1_sodium_max.median(),inplace=True)\n",
        "df_teste.fillna(df_teste.h1_sodium_min.median(),inplace=True)\n",
        "df_teste.fillna(df_teste.h1_lactate_max.median(),inplace=True)\n",
        "df_teste.fillna(df_teste.pre_icu_los_days.median(),inplace=True)\n",
        "df_teste.fillna(df_teste.h1_sysbp_invasive_min.median(),inplace=True)\n",
        "df_teste.fillna(df_teste.h1_temp_max.median(),inplace=True)\n",
        "df_teste.fillna(df_teste.resprate_apache.median(),inplace=True)\n",
        "df_teste.fillna(df_teste.sodium_apache.median(),inplace=True)\n",
        "df_teste.fillna(df_teste.temp_apache.median(),inplace=True)\n",
        "df_teste.fillna(df_teste.urineoutput_apache.median(),inplace=True)\n",
        "df_teste.fillna(df_teste.wbc_apache.median(),inplace=True)\n",
        "df_teste.fillna(df_teste.d1_diasbp_invasive_max.median(),inplace=True)\n",
        "df_teste.fillna(df_teste.d1_diasbp_invasive_min.median(),inplace=True)\n",
        "df_teste.fillna(df_teste.d1_diasbp_max.median(),inplace=True)\n",
        "df_teste.fillna(df_teste.d1_diasbp_min.median(),inplace=True)\n",
        "df_teste.fillna(df_teste.d1_diasbp_noninvasive_max.median(),inplace=True)\n",
        "df_teste.fillna(df_teste.d1_diasbp_noninvasive_min.median(),inplace=True)\n",
        "df_teste.fillna(df_teste.d1_heartrate_max.median(),inplace=True)\n",
        "df_teste.fillna(df_teste.d1_heartrate_min.median(),inplace=True)\n",
        "df_teste.fillna(df_teste.d1_mbp_invasive_max.median(),inplace=True)\n",
        "df_teste.fillna(df_teste.h1_temp_min.median(),inplace=True)\n",
        "df_teste.fillna(df_teste.ph_apache.median(),inplace=True)\n",
        "df_teste.fillna(df_teste.pao2_apache.median(),inplace=True)\n",
        "df_teste.fillna(df_teste.paco2_for_ph_apache.median(),inplace=True)\n",
        "df_teste.fillna(df_teste.paco2_apache.median(),inplace=True)\n",
        "df_teste.fillna(df_teste.weight.median(),inplace=True)\n",
        "df_teste.fillna(df_teste.albumin_apache.median(),inplace=True)\n",
        "df_teste.fillna(df_teste.apache_2_diagnosis.median(),inplace=True)\n",
        "df_teste.fillna(df_teste.apache_3j_diagnosis.median(),inplace=True)\n",
        "df_teste.fillna(df_teste.bilirubin_apache.median(),inplace=True)\n",
        "df_teste.fillna(df_teste.bun_apache.median(),inplace=True)\n",
        "df_teste.fillna(df_teste.creatinine_apache.median(),inplace=True)\n",
        "df_teste.fillna(df_teste.d1_mbp_max.median(),inplace=True)\n",
        "df_teste.fillna(df_teste.fio2_apache.median(),inplace=True)\n",
        "df_teste.fillna(df_teste.gcs_motor_apache.median(),inplace=True)\n",
        "df_teste.fillna(df_teste.gcs_unable_apache.median(),inplace=True)\n",
        "df_teste.fillna(df_teste.gcs_verbal_apache.median(),inplace=True)\n",
        "df_teste.fillna(df_teste.glucose_apache.median(),inplace=True)\n",
        "df_teste.fillna(df_teste.heart_rate_apache.median(),inplace=True)\n",
        "df_teste.fillna(df_teste.hematocrit_apache.median(),inplace=True)\n",
        "df_teste.fillna(df_teste.map_apache.median(),inplace=True)\n",
        "df_teste.fillna(df_teste.gcs_eyes_apache.median(),inplace=True)\n",
        "df_teste.fillna(df_teste.d1_mbp_min.median(),inplace=True)\n",
        "df_teste.fillna(df_teste.d1_mbp_invasive_min.median(),inplace=True)\n",
        "df_teste.fillna(df_teste.d1_mbp_noninvasive_min.median(),inplace=True)\n",
        "df_teste.fillna(df_teste.h1_mbp_invasive_max.median(),inplace=True)\n",
        "df_teste.fillna(df_teste.h1_mbp_invasive_min.median(),inplace=True)\n",
        "df_teste.fillna(df_teste.h1_mbp_max.median(),inplace=True)\n",
        "df_teste.fillna(df_teste.h1_mbp_min.median(),inplace=True)\n",
        "df_teste.fillna(df_teste.h1_mbp_noninvasive_max.median(),inplace=True)\n",
        "df_teste.fillna(df_teste.h1_mbp_noninvasive_min.median(),inplace=True)\n",
        "df_teste.fillna(df_teste.h1_resprate_max.median(),inplace=True)\n",
        "df_teste.fillna(df_teste.d1_mbp_noninvasive_max.median(),inplace=True)\n",
        "df_teste.fillna(df_teste.h1_resprate_min.median(),inplace=True)\n",
        "df_teste.fillna(df_teste.h1_spo2_min.median(),inplace=True)\n",
        "df_teste.fillna(df_teste.h1_sysbp_invasive_max.median(),inplace=True)\n",
        "df_teste.fillna(df_teste.height.median(),inplace=True)\n",
        "df_teste.fillna(df_teste.h1_sysbp_max.median(),inplace=True)\n",
        "df_teste.fillna(df_teste.h1_sysbp_min.median(),inplace=True)\n",
        "df_teste.fillna(df_teste.h1_sysbp_noninvasive_max.median(),inplace=True)\n",
        "df_teste.fillna(df_teste.h1_sysbp_noninvasive_min.median(),inplace=True)\n",
        "df_teste.fillna(df_teste.h1_spo2_max.median(),inplace=True)\n",
        "df_teste.fillna(df_teste.h1_heartrate_max.median(),inplace=True)\n",
        "df_teste.fillna(df_teste.h1_heartrate_min.median(),inplace=True)\n",
        "df_teste.fillna(df_teste.h1_diasbp_noninvasive_max.median(),inplace=True)\n",
        "df_teste.fillna(df_teste.d1_resprate_max.median(),inplace=True)\n",
        "df_teste.fillna(df_teste.d1_resprate_min.median(),inplace=True)\n",
        "df_teste.fillna(df_teste.d1_spo2_max.median(),inplace=True)\n",
        "df_teste.fillna(df_teste.d1_spo2_min.median(),inplace=True)\n",
        "df_teste.fillna(df_teste.d1_sysbp_invasive_max.median(),inplace=True)\n",
        "df_teste.fillna(df_teste.d1_sysbp_invasive_min.median(),inplace=True)\n",
        "df_teste.fillna(df_teste.d1_sysbp_max.median(),inplace=True)\n",
        "df_teste.fillna(df_teste.h1_diasbp_noninvasive_min.median(),inplace=True)\n",
        "df_teste.fillna(df_teste.d1_sysbp_noninvasive_max.median(),inplace=True)\n",
        "df_teste.fillna(df_teste.d1_sysbp_min.median(),inplace=True)\n",
        "df_teste.fillna(df_teste.d1_temp_max.median(),inplace=True)\n",
        "df_teste.fillna(df_teste.d1_temp_min.median(),inplace=True)\n",
        "df_teste.fillna(df_teste.h1_diasbp_invasive_max.median(),inplace=True)\n",
        "df_teste.fillna(df_teste.h1_diasbp_invasive_min.median(),inplace=True)\n",
        "df_teste.fillna(df_teste.h1_diasbp_max.median(),inplace=True)\n",
        "df_teste.fillna(df_teste.h1_diasbp_min.median(),inplace=True)\n",
        "df_teste.fillna(df_teste.d1_sysbp_noninvasive_min.median(),inplace=True)"
      ],
      "execution_count": null,
      "outputs": []
    },
    {
      "cell_type": "code",
      "metadata": {
        "execution": {
          "iopub.status.busy": "2021-08-13T04:27:37.113209Z",
          "iopub.execute_input": "2021-08-13T04:27:37.113514Z",
          "iopub.status.idle": "2021-08-13T04:27:37.325237Z",
          "shell.execute_reply.started": "2021-08-13T04:27:37.113486Z",
          "shell.execute_reply": "2021-08-13T04:27:37.324039Z"
        },
        "trusted": true,
        "id": "CiVsReidjdGW"
      },
      "source": [
        "df_treino.head()"
      ],
      "execution_count": null,
      "outputs": []
    },
    {
      "cell_type": "code",
      "metadata": {
        "execution": {
          "iopub.status.busy": "2021-08-13T04:27:37.326407Z",
          "iopub.execute_input": "2021-08-13T04:27:37.326699Z",
          "iopub.status.idle": "2021-08-13T04:27:37.526999Z",
          "shell.execute_reply.started": "2021-08-13T04:27:37.326672Z",
          "shell.execute_reply": "2021-08-13T04:27:37.526197Z"
        },
        "trusted": true,
        "id": "1mSXjBqgjdGX"
      },
      "source": [
        "df_teste.head()"
      ],
      "execution_count": null,
      "outputs": []
    },
    {
      "cell_type": "code",
      "metadata": {
        "execution": {
          "iopub.status.busy": "2021-08-13T04:27:37.528044Z",
          "iopub.execute_input": "2021-08-13T04:27:37.528448Z",
          "iopub.status.idle": "2021-08-13T04:27:37.652759Z",
          "shell.execute_reply.started": "2021-08-13T04:27:37.528418Z",
          "shell.execute_reply": "2021-08-13T04:27:37.652002Z"
        },
        "trusted": true,
        "id": "lwDdopaGjdGX"
      },
      "source": [
        "#análise de missing values\n",
        "df_treino.isnull().sum().sort_values(ascending=False)"
      ],
      "execution_count": null,
      "outputs": []
    },
    {
      "cell_type": "code",
      "metadata": {
        "execution": {
          "iopub.status.busy": "2021-08-13T04:27:37.653807Z",
          "iopub.execute_input": "2021-08-13T04:27:37.654279Z",
          "iopub.status.idle": "2021-08-13T04:27:37.681323Z",
          "shell.execute_reply.started": "2021-08-13T04:27:37.654246Z",
          "shell.execute_reply": "2021-08-13T04:27:37.68002Z"
        },
        "trusted": true,
        "id": "Yh573zG3jdGY"
      },
      "source": [
        "#análise de missing values\n",
        "df_teste.isnull().sum().sort_values(ascending=False)"
      ],
      "execution_count": null,
      "outputs": []
    },
    {
      "cell_type": "code",
      "metadata": {
        "execution": {
          "iopub.status.busy": "2021-08-13T04:27:37.682466Z",
          "iopub.execute_input": "2021-08-13T04:27:37.682765Z",
          "iopub.status.idle": "2021-08-13T04:27:38.119868Z",
          "shell.execute_reply.started": "2021-08-13T04:27:37.682737Z",
          "shell.execute_reply": "2021-08-13T04:27:38.118991Z"
        },
        "trusted": true,
        "id": "FvwuZSmYjdGY"
      },
      "source": [
        "#transformação dos dados categóricos em numéricos\n",
        "label_encoder = LabelEncoder()\n",
        "df_treino['ethnicity'] = label_encoder.fit_transform(list(df_treino['ethnicity'].values))\n",
        "df_treino['gender'] = label_encoder.fit_transform(list(df_treino['gender'].values))\n",
        "df_treino['hospital_admit_source'] = label_encoder.fit_transform(list(df_treino['hospital_admit_source'].values))\n",
        "df_treino['icu_admit_source'] = label_encoder.fit_transform(list(df_treino['icu_admit_source'].values))\n",
        "df_treino['icu_stay_type'] = label_encoder.fit_transform(list(df_treino['icu_stay_type'].values))\n",
        "df_treino['icu_type'] = label_encoder.fit_transform(list(df_treino['icu_type'].values))\n",
        "\n",
        "label_encoder = LabelEncoder()\n",
        "df_teste['ethnicity'] = label_encoder.fit_transform(list(df_teste['ethnicity'].values))\n",
        "df_teste['gender'] = label_encoder.fit_transform(list(df_teste['gender'].values))\n",
        "df_teste['hospital_admit_source'] = label_encoder.fit_transform(list(df_teste['hospital_admit_source'].values))\n",
        "df_teste['icu_admit_source'] = label_encoder.fit_transform(list(df_teste['icu_admit_source'].values))\n",
        "df_teste['icu_stay_type'] = label_encoder.fit_transform(list(df_teste['icu_stay_type'].values))\n",
        "df_teste['icu_type'] = label_encoder.fit_transform(list(df_teste['icu_type'].values))"
      ],
      "execution_count": null,
      "outputs": []
    },
    {
      "cell_type": "code",
      "metadata": {
        "execution": {
          "iopub.status.busy": "2021-08-13T04:27:38.124326Z",
          "iopub.execute_input": "2021-08-13T04:27:38.125049Z",
          "iopub.status.idle": "2021-08-13T04:27:38.335163Z",
          "shell.execute_reply.started": "2021-08-13T04:27:38.124993Z",
          "shell.execute_reply": "2021-08-13T04:27:38.334344Z"
        },
        "trusted": true,
        "id": "eJ9Gjy2GjdGZ"
      },
      "source": [
        "df_treino.head()"
      ],
      "execution_count": null,
      "outputs": []
    },
    {
      "cell_type": "code",
      "metadata": {
        "execution": {
          "iopub.status.busy": "2021-08-13T04:27:38.337517Z",
          "iopub.execute_input": "2021-08-13T04:27:38.338274Z",
          "iopub.status.idle": "2021-08-13T04:27:38.544182Z",
          "shell.execute_reply.started": "2021-08-13T04:27:38.338223Z",
          "shell.execute_reply": "2021-08-13T04:27:38.5431Z"
        },
        "trusted": true,
        "id": "RDK5Kq0YjdGZ"
      },
      "source": [
        "df_teste.head()"
      ],
      "execution_count": null,
      "outputs": []
    },
    {
      "cell_type": "code",
      "metadata": {
        "execution": {
          "iopub.status.busy": "2021-08-13T04:27:38.545909Z",
          "iopub.execute_input": "2021-08-13T04:27:38.546319Z",
          "iopub.status.idle": "2021-08-13T04:27:38.632144Z",
          "shell.execute_reply.started": "2021-08-13T04:27:38.546286Z",
          "shell.execute_reply": "2021-08-13T04:27:38.630978Z"
        },
        "trusted": true,
        "id": "MFX16dgpjdGa"
      },
      "source": [
        "nomes_colunas = df_treino.loc[:,'age':'solid_tumor_with_metastasis'].columns\n",
        "nomes_colunas"
      ],
      "execution_count": null,
      "outputs": []
    },
    {
      "cell_type": "code",
      "metadata": {
        "execution": {
          "iopub.status.busy": "2021-08-13T04:27:38.63361Z",
          "iopub.execute_input": "2021-08-13T04:27:38.634063Z",
          "iopub.status.idle": "2021-08-13T04:27:38.995154Z",
          "shell.execute_reply.started": "2021-08-13T04:27:38.634016Z",
          "shell.execute_reply": "2021-08-13T04:27:38.994142Z"
        },
        "trusted": true,
        "id": "1WDcJLT5jdGb"
      },
      "source": [
        "X = df_treino.loc[:,'age':'solid_tumor_with_metastasis']\n",
        "y = df_treino['diabetes_mellitus']\n",
        "\n",
        "X_train, X_test, y_train, y_test = train_test_split(X, \n",
        "                                                    y,\n",
        "                                                    stratify = y,\n",
        "                                                    test_size=0.3, \n",
        "                                                    random_state=0)"
      ],
      "execution_count": null,
      "outputs": []
    },
    {
      "cell_type": "markdown",
      "metadata": {
        "id": "cuM8048sjdGc"
      },
      "source": [
        "## 2. Pipeline"
      ]
    },
    {
      "cell_type": "code",
      "metadata": {
        "execution": {
          "iopub.status.busy": "2021-08-13T04:27:38.996616Z",
          "iopub.execute_input": "2021-08-13T04:27:38.997007Z",
          "iopub.status.idle": "2021-08-13T04:27:39.001216Z",
          "shell.execute_reply.started": "2021-08-13T04:27:38.996972Z",
          "shell.execute_reply": "2021-08-13T04:27:39.000047Z"
        },
        "trusted": true,
        "id": "C3TmSvh3jdGd"
      },
      "source": [
        "transformers=[\n",
        "    ('normalizacao', MinMaxScaler(), nomes_colunas)\n",
        "]"
      ],
      "execution_count": null,
      "outputs": []
    },
    {
      "cell_type": "code",
      "metadata": {
        "execution": {
          "iopub.status.busy": "2021-08-13T04:27:39.00269Z",
          "iopub.execute_input": "2021-08-13T04:27:39.003019Z",
          "iopub.status.idle": "2021-08-13T04:27:39.017022Z",
          "shell.execute_reply.started": "2021-08-13T04:27:39.002988Z",
          "shell.execute_reply": "2021-08-13T04:27:39.016011Z"
        },
        "trusted": true,
        "id": "JTgUXuMEjdGd"
      },
      "source": [
        "preprocessor = ColumnTransformer(transformers = transformers)"
      ],
      "execution_count": null,
      "outputs": []
    },
    {
      "cell_type": "code",
      "metadata": {
        "execution": {
          "iopub.status.busy": "2021-08-13T04:27:39.018349Z",
          "iopub.execute_input": "2021-08-13T04:27:39.018916Z",
          "iopub.status.idle": "2021-08-13T04:27:39.031623Z",
          "shell.execute_reply.started": "2021-08-13T04:27:39.018837Z",
          "shell.execute_reply": "2021-08-13T04:27:39.030529Z"
        },
        "trusted": true,
        "id": "RQvwIdwqjdGd"
      },
      "source": [
        "feature_selection = SelectKBest(mutual_info_classif, k=50)"
      ],
      "execution_count": null,
      "outputs": []
    },
    {
      "cell_type": "code",
      "metadata": {
        "execution": {
          "iopub.status.busy": "2021-08-13T04:27:39.033078Z",
          "iopub.execute_input": "2021-08-13T04:27:39.033575Z",
          "iopub.status.idle": "2021-08-13T04:27:39.049746Z",
          "shell.execute_reply.started": "2021-08-13T04:27:39.03353Z",
          "shell.execute_reply": "2021-08-13T04:27:39.048574Z"
        },
        "trusted": true,
        "id": "QRzfe96RjdGe"
      },
      "source": [
        "# model = KNeighborsClassifier(n_neighbors = 20, weights=\"distance\")\n",
        "# logistic_model = LogisticRegression()\n",
        "random_forest_model = RandomForestClassifier(n_estimators=30, \n",
        "                                             criterion='entropy',\n",
        "                                             max_depth=10,\n",
        "                                             min_samples_split=2,\n",
        "                                             random_state=0)\n",
        "        \n",
        "# tree_model = DecisionTreeClassifier(criterion='entropy',\n",
        "  #                                  max_depth=3,\n",
        "   #                                 min_samples_split=2,\n",
        "    #                                random_state=0)"
      ],
      "execution_count": null,
      "outputs": []
    },
    {
      "cell_type": "code",
      "metadata": {
        "execution": {
          "iopub.status.busy": "2021-08-13T04:27:39.051317Z",
          "iopub.execute_input": "2021-08-13T04:27:39.051657Z",
          "iopub.status.idle": "2021-08-13T04:27:39.071612Z",
          "shell.execute_reply.started": "2021-08-13T04:27:39.051624Z",
          "shell.execute_reply": "2021-08-13T04:27:39.07052Z"
        },
        "trusted": true,
        "id": "hunVcL6UjdGe"
      },
      "source": [
        "steps=[\n",
        "       ('preprocessor',preprocessor),\n",
        "       ('feature_selection', feature_selection),\n",
        "       ('random_forest_model', random_forest_model)]\n",
        "\n",
        "pipeline = Pipeline(steps = steps)"
      ],
      "execution_count": null,
      "outputs": []
    },
    {
      "cell_type": "markdown",
      "metadata": {
        "id": "LZikU3FSjdGe"
      },
      "source": [
        "## 3. Validação Cruzada"
      ]
    },
    {
      "cell_type": "code",
      "metadata": {
        "execution": {
          "iopub.status.busy": "2021-08-13T04:27:39.073118Z",
          "iopub.execute_input": "2021-08-13T04:27:39.073649Z",
          "iopub.status.idle": "2021-08-13T04:27:39.088071Z",
          "shell.execute_reply.started": "2021-08-13T04:27:39.073608Z",
          "shell.execute_reply": "2021-08-13T04:27:39.087282Z"
        },
        "trusted": true,
        "id": "4ND2q5x4jdGf"
      },
      "source": [
        "cv = KFold(n_splits = 3, \n",
        "           shuffle = True, \n",
        "           random_state=0)"
      ],
      "execution_count": null,
      "outputs": []
    },
    {
      "cell_type": "code",
      "metadata": {
        "execution": {
          "iopub.status.busy": "2021-08-13T04:27:39.089522Z",
          "iopub.execute_input": "2021-08-13T04:27:39.089998Z",
          "iopub.status.idle": "2021-08-13T04:33:36.528371Z",
          "shell.execute_reply.started": "2021-08-13T04:27:39.089961Z",
          "shell.execute_reply": "2021-08-13T04:33:36.527244Z"
        },
        "trusted": true,
        "id": "HUS8hAC1jdGf"
      },
      "source": [
        "n_scores = cross_val_score(pipeline, \n",
        "                           X_train, y_train, \n",
        "                           scoring = 'roc_auc', \n",
        "                           cv = cv)\n",
        "\n",
        "print('Validação Cruzada - KNN:\\n')\n",
        "print(f'AUC: {n_scores}\\n')\n",
        "print(f'AUC (média): {round(np.mean(n_scores), 4)}')\n",
        "print(f'AUC (desvio padrão): {round(np.std(n_scores), 4)}')"
      ],
      "execution_count": null,
      "outputs": []
    },
    {
      "cell_type": "markdown",
      "metadata": {
        "id": "wjT8uTLCjdGg"
      },
      "source": [
        "## 4. Avaliação dos dados de teste"
      ]
    },
    {
      "cell_type": "code",
      "metadata": {
        "execution": {
          "iopub.status.busy": "2021-08-13T04:33:36.5299Z",
          "iopub.execute_input": "2021-08-13T04:33:36.530219Z",
          "iopub.status.idle": "2021-08-13T04:36:45.179789Z",
          "shell.execute_reply.started": "2021-08-13T04:33:36.530189Z",
          "shell.execute_reply": "2021-08-13T04:36:45.178982Z"
        },
        "trusted": true,
        "id": "lXUwMgx_jdGg"
      },
      "source": [
        "pipeline.fit(X_train, y_train)\n",
        "fpr, tpr, thresholds = roc_curve(y_test, pipeline.predict_proba(X_test)[:,1], pos_label=1)\n",
        "print(f'AUC (Teste): {round(auc(fpr, tpr), 4)}')"
      ],
      "execution_count": null,
      "outputs": []
    },
    {
      "cell_type": "code",
      "metadata": {
        "execution": {
          "iopub.status.busy": "2021-08-13T04:36:45.181295Z",
          "iopub.execute_input": "2021-08-13T04:36:45.181612Z",
          "iopub.status.idle": "2021-08-13T04:36:45.78089Z",
          "shell.execute_reply.started": "2021-08-13T04:36:45.181582Z",
          "shell.execute_reply": "2021-08-13T04:36:45.779722Z"
        },
        "trusted": true,
        "id": "numOWLATjdGg"
      },
      "source": [
        "fig, ax = plt.subplots(figsize=(5,5))\n",
        "\n",
        "cm = confusion_matrix(y_test, pipeline.predict(X_test))\n",
        "\n",
        "disp = ConfusionMatrixDisplay(confusion_matrix=cm,\n",
        "                              display_labels=pd.Series(pipeline.classes_).map({0: 'No', 1: 'Yes'}))\n",
        "\n",
        "disp.plot(cmap=plt.cm.Blues, ax=ax)\n",
        "\n",
        "plt.show()"
      ],
      "execution_count": null,
      "outputs": []
    },
    {
      "cell_type": "markdown",
      "metadata": {
        "id": "5CvbZBMgjdGh"
      },
      "source": [
        "## 4. Submissão"
      ]
    },
    {
      "cell_type": "code",
      "metadata": {
        "execution": {
          "iopub.status.busy": "2021-08-13T04:36:45.78239Z",
          "iopub.execute_input": "2021-08-13T04:36:45.78272Z",
          "iopub.status.idle": "2021-08-13T04:36:49.299976Z",
          "shell.execute_reply.started": "2021-08-13T04:36:45.78269Z",
          "shell.execute_reply": "2021-08-13T04:36:49.299055Z"
        },
        "trusted": true,
        "id": "0ZdEZiomjdGh"
      },
      "source": [
        "X_teste_real = df_teste.loc[:,'age':'solid_tumor_with_metastasis']\n",
        "\n",
        "predicao = pipeline.predict_proba(X_teste_real)[:,1]\n",
        "i = 0\n",
        "for linha_predicao in predicao:\n",
        "    df_submissao.loc[df_submissao.index[i], 'diabetes_mellitus'] = linha_predicao\n",
        "    i = i + 1\n",
        "df_submissao.to_csv('random_forest_resul.csv', index=False) "
      ],
      "execution_count": null,
      "outputs": []
    }
  ]
}